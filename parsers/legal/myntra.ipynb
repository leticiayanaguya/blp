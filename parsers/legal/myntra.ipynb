{
 "cells": [
  {
   "cell_type": "code",
   "execution_count": 6,
   "id": "d78cf7a4",
   "metadata": {},
   "outputs": [],
   "source": [
    "import math\n",
    "import mysql.connector as mysql\n",
    "import numpy as np\n",
    "import os\n",
    "import pandas as pd\n",
    "import re\n",
    "import urllib.request\n",
    "\n",
    "from os.path import splitext\n",
    "from pathlib import Path\n",
    "from PIL import ImageFile"
   ]
  },
  {
   "cell_type": "code",
   "execution_count": 8,
   "id": "8f1a7c78",
   "metadata": {},
   "outputs": [
    {
     "name": "stderr",
     "output_type": "stream",
     "text": [
      "b'Skipping line 20: expected 25 fields, saw 26\\nSkipping line 106: expected 25 fields, saw 26\\nSkipping line 116: expected 25 fields, saw 26\\nSkipping line 119: expected 25 fields, saw 26\\nSkipping line 132: expected 25 fields, saw 26\\nSkipping line 139: expected 25 fields, saw 26\\nSkipping line 239: expected 25 fields, saw 26\\nSkipping line 284: expected 25 fields, saw 26\\nSkipping line 294: expected 25 fields, saw 26\\nSkipping line 332: expected 25 fields, saw 26\\nSkipping line 389: expected 25 fields, saw 26\\nSkipping line 434: expected 25 fields, saw 26\\nSkipping line 438: expected 25 fields, saw 26\\nSkipping line 439: expected 25 fields, saw 26\\nSkipping line 453: expected 25 fields, saw 26\\nSkipping line 491: expected 25 fields, saw 26\\nSkipping line 507: expected 25 fields, saw 26\\nSkipping line 524: expected 25 fields, saw 26\\nSkipping line 533: expected 25 fields, saw 26\\nSkipping line 563: expected 25 fields, saw 26\\nSkipping line 627: expected 25 fields, saw 26\\nSkipping line 666: expected 25 fields, saw 26\\nSkipping line 677: expected 25 fields, saw 26\\nSkipping line 687: expected 25 fields, saw 26\\nSkipping line 693: expected 25 fields, saw 26\\nSkipping line 705: expected 25 fields, saw 26\\nSkipping line 743: expected 25 fields, saw 26\\nSkipping line 806: expected 25 fields, saw 26\\nSkipping line 822: expected 25 fields, saw 26\\nSkipping line 833: expected 25 fields, saw 26\\nSkipping line 848: expected 25 fields, saw 26\\nSkipping line 929: expected 25 fields, saw 26\\nSkipping line 968: expected 25 fields, saw 26\\nSkipping line 969: expected 25 fields, saw 26\\nSkipping line 992: expected 25 fields, saw 26\\nSkipping line 999: expected 25 fields, saw 26\\nSkipping line 1002: expected 25 fields, saw 26\\nSkipping line 1017: expected 25 fields, saw 26\\nSkipping line 1037: expected 25 fields, saw 26\\nSkipping line 1100: expected 25 fields, saw 26\\nSkipping line 1186: expected 25 fields, saw 26\\nSkipping line 1190: expected 25 fields, saw 26\\nSkipping line 1207: expected 25 fields, saw 26\\nSkipping line 1279: expected 25 fields, saw 26\\nSkipping line 1286: expected 25 fields, saw 26\\nSkipping line 1305: expected 25 fields, saw 26\\nSkipping line 1320: expected 25 fields, saw 26\\nSkipping line 1459: expected 25 fields, saw 26\\nSkipping line 1462: expected 25 fields, saw 26\\nSkipping line 1476: expected 25 fields, saw 26\\nSkipping line 1494: expected 25 fields, saw 26\\nSkipping line 1581: expected 25 fields, saw 26\\nSkipping line 1589: expected 25 fields, saw 26\\nSkipping line 1622: expected 25 fields, saw 26\\nSkipping line 1656: expected 25 fields, saw 26\\nSkipping line 1666: expected 25 fields, saw 26\\nSkipping line 1798: expected 25 fields, saw 26\\nSkipping line 1831: expected 25 fields, saw 26\\nSkipping line 1851: expected 25 fields, saw 26\\nSkipping line 2112: expected 25 fields, saw 26\\nSkipping line 2192: expected 25 fields, saw 26\\nSkipping line 2247: expected 25 fields, saw 26\\nSkipping line 2416: expected 25 fields, saw 26\\nSkipping line 2521: expected 25 fields, saw 26\\nSkipping line 2635: expected 25 fields, saw 26\\nSkipping line 2641: expected 25 fields, saw 26\\nSkipping line 2686: expected 25 fields, saw 26\\nSkipping line 2737: expected 25 fields, saw 26\\nSkipping line 2756: expected 25 fields, saw 26\\nSkipping line 2797: expected 25 fields, saw 26\\nSkipping line 2863: expected 25 fields, saw 26\\nSkipping line 2897: expected 25 fields, saw 26\\nSkipping line 3090: expected 25 fields, saw 26\\nSkipping line 3341: expected 25 fields, saw 26\\nSkipping line 3368: expected 25 fields, saw 26\\nSkipping line 3425: expected 25 fields, saw 26\\nSkipping line 3559: expected 25 fields, saw 26\\nSkipping line 3680: expected 25 fields, saw 26\\nSkipping line 3739: expected 25 fields, saw 26\\nSkipping line 3781: expected 25 fields, saw 26\\nSkipping line 3785: expected 25 fields, saw 26\\nSkipping line 3792: expected 25 fields, saw 26\\nSkipping line 3857: expected 25 fields, saw 26\\nSkipping line 3861: expected 25 fields, saw 26\\nSkipping line 3893: expected 25 fields, saw 26\\nSkipping line 3894: expected 25 fields, saw 26\\nSkipping line 3902: expected 25 fields, saw 26\\nSkipping line 3906: expected 25 fields, saw 26\\nSkipping line 3914: expected 25 fields, saw 26\\nSkipping line 3917: expected 25 fields, saw 26\\nSkipping line 3925: expected 25 fields, saw 26\\nSkipping line 4051: expected 25 fields, saw 26\\nSkipping line 4066: expected 25 fields, saw 26\\nSkipping line 4138: expected 25 fields, saw 26\\nSkipping line 4152: expected 25 fields, saw 26\\nSkipping line 4180: expected 25 fields, saw 26\\nSkipping line 4190: expected 25 fields, saw 26\\nSkipping line 4203: expected 25 fields, saw 26\\nSkipping line 4328: expected 25 fields, saw 26\\nSkipping line 4331: expected 25 fields, saw 26\\nSkipping line 4367: expected 25 fields, saw 26\\nSkipping line 4428: expected 25 fields, saw 26\\nSkipping line 4436: expected 25 fields, saw 26\\nSkipping line 4442: expected 25 fields, saw 26\\nSkipping line 4491: expected 25 fields, saw 26\\nSkipping line 4503: expected 25 fields, saw 26\\nSkipping line 4552: expected 25 fields, saw 26\\nSkipping line 4554: expected 25 fields, saw 26\\nSkipping line 4559: expected 25 fields, saw 26\\nSkipping line 4568: expected 25 fields, saw 26\\nSkipping line 4583: expected 25 fields, saw 26\\nSkipping line 4584: expected 25 fields, saw 26\\nSkipping line 4620: expected 25 fields, saw 26\\nSkipping line 4621: expected 25 fields, saw 26\\nSkipping line 4635: expected 25 fields, saw 26\\nSkipping line 4673: expected 25 fields, saw 26\\nSkipping line 4702: expected 25 fields, saw 26\\nSkipping line 4717: expected 25 fields, saw 26\\nSkipping line 4728: expected 25 fields, saw 26\\nSkipping line 4757: expected 25 fields, saw 26\\nSkipping line 4773: expected 25 fields, saw 26\\nSkipping line 4776: expected 25 fields, saw 26\\nSkipping line 4798: expected 25 fields, saw 26\\nSkipping line 4803: expected 25 fields, saw 26\\nSkipping line 4828: expected 25 fields, saw 26\\nSkipping line 4841: expected 25 fields, saw 26\\nSkipping line 4849: expected 25 fields, saw 26\\nSkipping line 4855: expected 25 fields, saw 26\\nSkipping line 4875: expected 25 fields, saw 26\\nSkipping line 4885: expected 25 fields, saw 26\\nSkipping line 4899: expected 25 fields, saw 26\\nSkipping line 4925: expected 25 fields, saw 26\\nSkipping line 4928: expected 25 fields, saw 26\\nSkipping line 4940: expected 25 fields, saw 26\\nSkipping line 4965: expected 25 fields, saw 26\\nSkipping line 4976: expected 25 fields, saw 26\\nSkipping line 4991: expected 25 fields, saw 26\\nSkipping line 5037: expected 25 fields, saw 26\\nSkipping line 5126: expected 25 fields, saw 26\\nSkipping line 5138: expected 25 fields, saw 26\\nSkipping line 5150: expected 25 fields, saw 26\\nSkipping line 5158: expected 25 fields, saw 26\\nSkipping line 5165: expected 25 fields, saw 26\\nSkipping line 5187: expected 25 fields, saw 26\\nSkipping line 5199: expected 25 fields, saw 26\\nSkipping line 5280: expected 25 fields, saw 26\\nSkipping line 5284: expected 25 fields, saw 26\\nSkipping line 5294: expected 25 fields, saw 26\\nSkipping line 5320: expected 25 fields, saw 26\\nSkipping line 5342: expected 25 fields, saw 26\\nSkipping line 5380: expected 25 fields, saw 26\\nSkipping line 5393: expected 25 fields, saw 26\\nSkipping line 5434: expected 25 fields, saw 26\\nSkipping line 5437: expected 25 fields, saw 26\\nSkipping line 5487: expected 25 fields, saw 26\\nSkipping line 5500: expected 25 fields, saw 26\\nSkipping line 5538: expected 25 fields, saw 26\\nSkipping line 5543: expected 25 fields, saw 26\\nSkipping line 5548: expected 25 fields, saw 26\\nSkipping line 5553: expected 25 fields, saw 26\\nSkipping line 5569: expected 25 fields, saw 26\\nSkipping line 5590: expected 25 fields, saw 26\\nSkipping line 5623: expected 25 fields, saw 26\\nSkipping line 5777: expected 25 fields, saw 26\\nSkipping line 5786: expected 25 fields, saw 26\\nSkipping line 5869: expected 25 fields, saw 26\\nSkipping line 5870: expected 25 fields, saw 26\\nSkipping line 5878: expected 25 fields, saw 26\\nSkipping line 5927: expected 25 fields, saw 26\\nSkipping line 5975: expected 25 fields, saw 26\\nSkipping line 5991: expected 25 fields, saw 26\\nSkipping line 6019: expected 25 fields, saw 26\\nSkipping line 6036: expected 25 fields, saw 26\\nSkipping line 6039: expected 25 fields, saw 26\\nSkipping line 6050: expected 25 fields, saw 26\\nSkipping line 6077: expected 25 fields, saw 26\\nSkipping line 6142: expected 25 fields, saw 26\\nSkipping line 6182: expected 25 fields, saw 26\\nSkipping line 6190: expected 25 fields, saw 26\\nSkipping line 6198: expected 25 fields, saw 26\\nSkipping line 6258: expected 25 fields, saw 26\\nSkipping line 6319: expected 25 fields, saw 26\\nSkipping line 6325: expected 25 fields, saw 26\\nSkipping line 6365: expected 25 fields, saw 26\\nSkipping line 6389: expected 25 fields, saw 26\\nSkipping line 6400: expected 25 fields, saw 26\\nSkipping line 6405: expected 25 fields, saw 26\\nSkipping line 6410: expected 25 fields, saw 26\\nSkipping line 6465: expected 25 fields, saw 26\\nSkipping line 6509: expected 25 fields, saw 26\\nSkipping line 6512: expected 25 fields, saw 26\\nSkipping line 6523: expected 25 fields, saw 26\\nSkipping line 6529: expected 25 fields, saw 26\\nSkipping line 6530: expected 25 fields, saw 26\\nSkipping line 6547: expected 25 fields, saw 26\\nSkipping line 6589: expected 25 fields, saw 26\\nSkipping line 6603: expected 25 fields, saw 26\\nSkipping line 6629: expected 25 fields, saw 26\\nSkipping line 6632: expected 25 fields, saw 26\\nSkipping line 6646: expected 25 fields, saw 26\\nSkipping line 6673: expected 25 fields, saw 26\\nSkipping line 6756: expected 25 fields, saw 26\\nSkipping line 6782: expected 25 fields, saw 26\\nSkipping line 6797: expected 25 fields, saw 26\\nSkipping line 6803: expected 25 fields, saw 26\\nSkipping line 6812: expected 25 fields, saw 26\\nSkipping line 6866: expected 25 fields, saw 26\\nSkipping line 6958: expected 25 fields, saw 26\\nSkipping line 7011: expected 25 fields, saw 26\\nSkipping line 7121: expected 25 fields, saw 26\\nSkipping line 7138: expected 25 fields, saw 26\\nSkipping line 7152: expected 25 fields, saw 26\\nSkipping line 7153: expected 25 fields, saw 26\\nSkipping line 7187: expected 25 fields, saw 26\\nSkipping line 7222: expected 25 fields, saw 26\\nSkipping line 7225: expected 25 fields, saw 26\\nSkipping line 7240: expected 25 fields, saw 26\\nSkipping line 7246: expected 25 fields, saw 26\\nSkipping line 7249: expected 25 fields, saw 26\\nSkipping line 7275: expected 25 fields, saw 26\\nSkipping line 7285: expected 25 fields, saw 26\\nSkipping line 7313: expected 25 fields, saw 26\\nSkipping line 7321: expected 25 fields, saw 26\\nSkipping line 7351: expected 25 fields, saw 26\\nSkipping line 7379: expected 25 fields, saw 26\\nSkipping line 7389: expected 25 fields, saw 26\\nSkipping line 7418: expected 25 fields, saw 26\\nSkipping line 7433: expected 25 fields, saw 26\\nSkipping line 7438: expected 25 fields, saw 26\\nSkipping line 7460: expected 25 fields, saw 26\\nSkipping line 7464: expected 25 fields, saw 26\\nSkipping line 7468: expected 25 fields, saw 26\\nSkipping line 7531: expected 25 fields, saw 26\\nSkipping line 7596: expected 25 fields, saw 26\\nSkipping line 7600: expected 25 fields, saw 26\\nSkipping line 7675: expected 25 fields, saw 26\\nSkipping line 7687: expected 25 fields, saw 26\\nSkipping line 7689: expected 25 fields, saw 26\\nSkipping line 7693: expected 25 fields, saw 26\\nSkipping line 7782: expected 25 fields, saw 26\\nSkipping line 7796: expected 25 fields, saw 26\\nSkipping line 7872: expected 25 fields, saw 26\\nSkipping line 7873: expected 25 fields, saw 26\\nSkipping line 7912: expected 25 fields, saw 26\\nSkipping line 7961: expected 25 fields, saw 26\\nSkipping line 7969: expected 25 fields, saw 26\\nSkipping line 7974: expected 25 fields, saw 26\\nSkipping line 7997: expected 25 fields, saw 26\\nSkipping line 8034: expected 25 fields, saw 26\\nSkipping line 8050: expected 25 fields, saw 26\\nSkipping line 8105: expected 25 fields, saw 26\\nSkipping line 8107: expected 25 fields, saw 26\\nSkipping line 8116: expected 25 fields, saw 26\\nSkipping line 8179: expected 25 fields, saw 26\\nSkipping line 8241: expected 25 fields, saw 26\\nSkipping line 8275: expected 25 fields, saw 26\\nSkipping line 8285: expected 25 fields, saw 26\\nSkipping line 8292: expected 25 fields, saw 26\\nSkipping line 8336: expected 25 fields, saw 26\\nSkipping line 8366: expected 25 fields, saw 26\\nSkipping line 8368: expected 25 fields, saw 26\\nSkipping line 8383: expected 25 fields, saw 26\\nSkipping line 8388: expected 25 fields, saw 26\\nSkipping line 8395: expected 25 fields, saw 26\\nSkipping line 8410: expected 25 fields, saw 26\\nSkipping line 8416: expected 25 fields, saw 26\\nSkipping line 8475: expected 25 fields, saw 26\\nSkipping line 8487: expected 25 fields, saw 26\\nSkipping line 8557: expected 25 fields, saw 26\\nSkipping line 8603: expected 25 fields, saw 26\\nSkipping line 8629: expected 25 fields, saw 26\\nSkipping line 8632: expected 25 fields, saw 26\\nSkipping line 8673: expected 25 fields, saw 26\\nSkipping line 8741: expected 25 fields, saw 26\\nSkipping line 8752: expected 25 fields, saw 26\\nSkipping line 8755: expected 25 fields, saw 26\\nSkipping line 8798: expected 25 fields, saw 26\\nSkipping line 8799: expected 25 fields, saw 26\\nSkipping line 8844: expected 25 fields, saw 26\\nSkipping line 8862: expected 25 fields, saw 26\\nSkipping line 8906: expected 25 fields, saw 26\\nSkipping line 8912: expected 25 fields, saw 26\\nSkipping line 8927: expected 25 fields, saw 26\\nSkipping line 8946: expected 25 fields, saw 26\\nSkipping line 9017: expected 25 fields, saw 26\\nSkipping line 9041: expected 25 fields, saw 26\\nSkipping line 9068: expected 25 fields, saw 26\\nSkipping line 9142: expected 25 fields, saw 26\\nSkipping line 9201: expected 25 fields, saw 26\\nSkipping line 9217: expected 25 fields, saw 26\\nSkipping line 9252: expected 25 fields, saw 26\\nSkipping line 9309: expected 25 fields, saw 26\\nSkipping line 9371: expected 25 fields, saw 26\\nSkipping line 9385: expected 25 fields, saw 26\\nSkipping line 9396: expected 25 fields, saw 26\\nSkipping line 9409: expected 25 fields, saw 26\\nSkipping line 9476: expected 25 fields, saw 26\\nSkipping line 9546: expected 25 fields, saw 26\\nSkipping line 9573: expected 25 fields, saw 26\\nSkipping line 9581: expected 25 fields, saw 26\\nSkipping line 9584: expected 25 fields, saw 26\\nSkipping line 9586: expected 25 fields, saw 26\\nSkipping line 9588: expected 25 fields, saw 26\\nSkipping line 9591: expected 25 fields, saw 26\\nSkipping line 9592: expected 25 fields, saw 26\\nSkipping line 9609: expected 25 fields, saw 26\\nSkipping line 9643: expected 25 fields, saw 26\\nSkipping line 9647: expected 25 fields, saw 26\\nSkipping line 9666: expected 25 fields, saw 26\\nSkipping line 9674: expected 25 fields, saw 26\\nSkipping line 9677: expected 25 fields, saw 26\\nSkipping line 9696: expected 25 fields, saw 26\\nSkipping line 9717: expected 25 fields, saw 26\\nSkipping line 9735: expected 25 fields, saw 26\\nSkipping line 9739: expected 25 fields, saw 26\\nSkipping line 9756: expected 25 fields, saw 26\\nSkipping line 9774: expected 25 fields, saw 26\\nSkipping line 9798: expected 25 fields, saw 26\\nSkipping line 9807: expected 25 fields, saw 26\\nSkipping line 9823: expected 25 fields, saw 26\\nSkipping line 9833: expected 25 fields, saw 26\\nSkipping line 9842: expected 25 fields, saw 26\\nSkipping line 9860: expected 25 fields, saw 26\\nSkipping line 9910: expected 25 fields, saw 26\\nSkipping line 9996: expected 25 fields, saw 26\\nSkipping line 10001: expected 25 fields, saw 26\\nSkipping line 10026: expected 25 fields, saw 26\\nSkipping line 10029: expected 25 fields, saw 26\\nSkipping line 10073: expected 25 fields, saw 26\\nSkipping line 10083: expected 25 fields, saw 26\\nSkipping line 10109: expected 25 fields, saw 26\\nSkipping line 10139: expected 25 fields, saw 26\\nSkipping line 10157: expected 25 fields, saw 26\\nSkipping line 10203: expected 25 fields, saw 26\\nSkipping line 10275: expected 25 fields, saw 26\\nSkipping line 10317: expected 25 fields, saw 26\\nSkipping line 10334: expected 25 fields, saw 26\\nSkipping line 10347: expected 25 fields, saw 26\\nSkipping line 10370: expected 25 fields, saw 26\\nSkipping line 10412: expected 25 fields, saw 26\\nSkipping line 10418: expected 25 fields, saw 26\\nSkipping line 10421: expected 25 fields, saw 26\\nSkipping line 10438: expected 25 fields, saw 26\\nSkipping line 10443: expected 25 fields, saw 26\\nSkipping line 10452: expected 25 fields, saw 26\\nSkipping line 10461: expected 25 fields, saw 26\\nSkipping line 10462: expected 25 fields, saw 26\\nSkipping line 10470: expected 25 fields, saw 26\\nSkipping line 10505: expected 25 fields, saw 26\\nSkipping line 10568: expected 25 fields, saw 26\\nSkipping line 10573: expected 25 fields, saw 26\\nSkipping line 10663: expected 25 fields, saw 26\\nSkipping line 10712: expected 25 fields, saw 26\\nSkipping line 10720: expected 25 fields, saw 26\\nSkipping line 10726: expected 25 fields, saw 26\\nSkipping line 10737: expected 25 fields, saw 26\\nSkipping line 10743: expected 25 fields, saw 26\\nSkipping line 10771: expected 25 fields, saw 26\\nSkipping line 10778: expected 25 fields, saw 26\\nSkipping line 10792: expected 25 fields, saw 26\\nSkipping line 10795: expected 25 fields, saw 26\\nSkipping line 10816: expected 25 fields, saw 26\\nSkipping line 10821: expected 25 fields, saw 26\\nSkipping line 10841: expected 25 fields, saw 26\\nSkipping line 10849: expected 25 fields, saw 26\\nSkipping line 10890: expected 25 fields, saw 26\\nSkipping line 10894: expected 25 fields, saw 26\\nSkipping line 10926: expected 25 fields, saw 26\\nSkipping line 10943: expected 25 fields, saw 26\\nSkipping line 10959: expected 25 fields, saw 26\\nSkipping line 10973: expected 25 fields, saw 26\\nSkipping line 10981: expected 25 fields, saw 26\\nSkipping line 11050: expected 25 fields, saw 26\\nSkipping line 11056: expected 25 fields, saw 26\\nSkipping line 11094: expected 25 fields, saw 26\\nSkipping line 11112: expected 25 fields, saw 26\\nSkipping line 11121: expected 25 fields, saw 26\\nSkipping line 11134: expected 25 fields, saw 26\\nSkipping line 11135: expected 25 fields, saw 26\\nSkipping line 11140: expected 25 fields, saw 26\\nSkipping line 11167: expected 25 fields, saw 26\\nSkipping line 11196: expected 25 fields, saw 26\\nSkipping line 11198: expected 25 fields, saw 26\\nSkipping line 11204: expected 25 fields, saw 26\\nSkipping line 11220: expected 25 fields, saw 26\\nSkipping line 11228: expected 25 fields, saw 26\\nSkipping line 11251: expected 25 fields, saw 26\\nSkipping line 11268: expected 25 fields, saw 26\\nSkipping line 11291: expected 25 fields, saw 26\\nSkipping line 11294: expected 25 fields, saw 26\\nSkipping line 11332: expected 25 fields, saw 26\\nSkipping line 11339: expected 25 fields, saw 26\\nSkipping line 11343: expected 25 fields, saw 26\\nSkipping line 11354: expected 25 fields, saw 26\\nSkipping line 11370: expected 25 fields, saw 26\\nSkipping line 11372: expected 25 fields, saw 26\\nSkipping line 11375: expected 25 fields, saw 26\\nSkipping line 11378: expected 25 fields, saw 26\\nSkipping line 11380: expected 25 fields, saw 26\\nSkipping line 11390: expected 25 fields, saw 26\\nSkipping line 11396: expected 25 fields, saw 26\\nSkipping line 11432: expected 25 fields, saw 26\\nSkipping line 11439: expected 25 fields, saw 26\\nSkipping line 11497: expected 25 fields, saw 26\\nSkipping line 11511: expected 25 fields, saw 26\\nSkipping line 11526: expected 25 fields, saw 26\\nSkipping line 11542: expected 25 fields, saw 26\\nSkipping line 11575: expected 25 fields, saw 26\\nSkipping line 11589: expected 25 fields, saw 26\\nSkipping line 11591: expected 25 fields, saw 26\\nSkipping line 11592: expected 25 fields, saw 26\\nSkipping line 11598: expected 25 fields, saw 26\\nSkipping line 11601: expected 25 fields, saw 26\\nSkipping line 11602: expected 25 fields, saw 26\\nSkipping line 11628: expected 25 fields, saw 26\\nSkipping line 11630: expected 25 fields, saw 26\\nSkipping line 11631: expected 25 fields, saw 26\\nSkipping line 11663: expected 25 fields, saw 26\\nSkipping line 11674: expected 25 fields, saw 26\\nSkipping line 11680: expected 25 fields, saw 26\\nSkipping line 11694: expected 25 fields, saw 26\\nSkipping line 11701: expected 25 fields, saw 26\\nSkipping line 11703: expected 25 fields, saw 26\\nSkipping line 11707: expected 25 fields, saw 26\\nSkipping line 11725: expected 25 fields, saw 26\\nSkipping line 11738: expected 25 fields, saw 26\\nSkipping line 11740: expected 25 fields, saw 26\\nSkipping line 11747: expected 25 fields, saw 26\\nSkipping line 11758: expected 25 fields, saw 26\\nSkipping line 11774: expected 25 fields, saw 26\\nSkipping line 11775: expected 25 fields, saw 26\\nSkipping line 11787: expected 25 fields, saw 26\\nSkipping line 11796: expected 25 fields, saw 26\\nSkipping line 11844: expected 25 fields, saw 26\\nSkipping line 11864: expected 25 fields, saw 26\\nSkipping line 11890: expected 25 fields, saw 26\\nSkipping line 11891: expected 25 fields, saw 26\\nSkipping line 11892: expected 25 fields, saw 26\\nSkipping line 11896: expected 25 fields, saw 26\\nSkipping line 11927: expected 25 fields, saw 26\\nSkipping line 11934: expected 25 fields, saw 26\\nSkipping line 11937: expected 25 fields, saw 26\\nSkipping line 11948: expected 25 fields, saw 26\\nSkipping line 11966: expected 25 fields, saw 26\\nSkipping line 11987: expected 25 fields, saw 26\\nSkipping line 11988: expected 25 fields, saw 26\\nSkipping line 11991: expected 25 fields, saw 26\\nSkipping line 11992: expected 25 fields, saw 26\\nSkipping line 11998: expected 25 fields, saw 26\\nSkipping line 12005: expected 25 fields, saw 26\\nSkipping line 12022: expected 25 fields, saw 26\\nSkipping line 12038: expected 25 fields, saw 26\\nSkipping line 12039: expected 25 fields, saw 26\\nSkipping line 12040: expected 25 fields, saw 26\\nSkipping line 12042: expected 25 fields, saw 26\\nSkipping line 12052: expected 25 fields, saw 26\\nSkipping line 12063: expected 25 fields, saw 26\\nSkipping line 12078: expected 25 fields, saw 26\\nSkipping line 12080: expected 25 fields, saw 26\\nSkipping line 12086: expected 25 fields, saw 26\\nSkipping line 12105: expected 25 fields, saw 26\\nSkipping line 12108: expected 25 fields, saw 26\\nSkipping line 12122: expected 25 fields, saw 26\\nSkipping line 12133: expected 25 fields, saw 26\\nSkipping line 12148: expected 25 fields, saw 26\\nSkipping line 12159: expected 25 fields, saw 26\\nSkipping line 12175: expected 25 fields, saw 26\\nSkipping line 12211: expected 25 fields, saw 26\\nSkipping line 12230: expected 25 fields, saw 26\\nSkipping line 12231: expected 25 fields, saw 26\\nSkipping line 12265: expected 25 fields, saw 26\\nSkipping line 12266: expected 25 fields, saw 26\\nSkipping line 12275: expected 25 fields, saw 26\\nSkipping line 12281: expected 25 fields, saw 26\\nSkipping line 12310: expected 25 fields, saw 26\\nSkipping line 12338: expected 25 fields, saw 26\\nSkipping line 12351: expected 25 fields, saw 26\\nSkipping line 12364: expected 25 fields, saw 26\\nSkipping line 12375: expected 25 fields, saw 26\\nSkipping line 12376: expected 25 fields, saw 26\\nSkipping line 12393: expected 25 fields, saw 26\\nSkipping line 12405: expected 25 fields, saw 26\\nSkipping line 12418: expected 25 fields, saw 26\\nSkipping line 12434: expected 25 fields, saw 26\\nSkipping line 12441: expected 25 fields, saw 26\\nSkipping line 12458: expected 25 fields, saw 26\\nSkipping line 12459: expected 25 fields, saw 26\\nSkipping line 12461: expected 25 fields, saw 26\\nSkipping line 12466: expected 25 fields, saw 26\\nSkipping line 12482: expected 25 fields, saw 26\\nSkipping line 12485: expected 25 fields, saw 26\\nSkipping line 12494: expected 25 fields, saw 26\\nSkipping line 12496: expected 25 fields, saw 26\\nSkipping line 12499: expected 25 fields, saw 26\\nSkipping line 12506: expected 25 fields, saw 26\\nSkipping line 12510: expected 25 fields, saw 26\\nSkipping line 12515: expected 25 fields, saw 26\\nSkipping line 12517: expected 25 fields, saw 26\\nSkipping line 12534: expected 25 fields, saw 26\\nSkipping line 12535: expected 25 fields, saw 26\\nSkipping line 12537: expected 25 fields, saw 26\\nSkipping line 12540: expected 25 fields, saw 26\\nSkipping line 12549: expected 25 fields, saw 26\\nSkipping line 12556: expected 25 fields, saw 26\\nSkipping line 12557: expected 25 fields, saw 26\\nSkipping line 12564: expected 25 fields, saw 26\\nSkipping line 12566: expected 25 fields, saw 26\\nSkipping line 12580: expected 25 fields, saw 26\\nSkipping line 12597: expected 25 fields, saw 26\\nSkipping line 12608: expected 25 fields, saw 26\\nSkipping line 12612: expected 25 fields, saw 26\\nSkipping line 12613: expected 25 fields, saw 26\\nSkipping line 12617: expected 25 fields, saw 26\\nSkipping line 12638: expected 25 fields, saw 26\\nSkipping line 12654: expected 25 fields, saw 26\\nSkipping line 12660: expected 25 fields, saw 26\\nSkipping line 12675: expected 25 fields, saw 26\\nSkipping line 12679: expected 25 fields, saw 26\\nSkipping line 12688: expected 25 fields, saw 26\\nSkipping line 12694: expected 25 fields, saw 26\\nSkipping line 12699: expected 25 fields, saw 26\\nSkipping line 12700: expected 25 fields, saw 26\\nSkipping line 12716: expected 25 fields, saw 26\\nSkipping line 12746: expected 25 fields, saw 26\\nSkipping line 12771: expected 25 fields, saw 26\\nSkipping line 12786: expected 25 fields, saw 26\\nSkipping line 12822: expected 25 fields, saw 26\\nSkipping line 12845: expected 25 fields, saw 26\\nSkipping line 12851: expected 25 fields, saw 26\\nSkipping line 12852: expected 25 fields, saw 26\\nSkipping line 12853: expected 25 fields, saw 26\\nSkipping line 12854: expected 25 fields, saw 26\\nSkipping line 12876: expected 25 fields, saw 26\\nSkipping line 12878: expected 25 fields, saw 26\\nSkipping line 12886: expected 25 fields, saw 26\\nSkipping line 12889: expected 25 fields, saw 26\\nSkipping line 12913: expected 25 fields, saw 26\\nSkipping line 12922: expected 25 fields, saw 26\\nSkipping line 12929: expected 25 fields, saw 26\\nSkipping line 12938: expected 25 fields, saw 26\\nSkipping line 12941: expected 25 fields, saw 26\\nSkipping line 12958: expected 25 fields, saw 26\\nSkipping line 12973: expected 25 fields, saw 26\\nSkipping line 12991: expected 25 fields, saw 26\\nSkipping line 12998: expected 25 fields, saw 26\\nSkipping line 13015: expected 25 fields, saw 26\\nSkipping line 13033: expected 25 fields, saw 26\\nSkipping line 13077: expected 25 fields, saw 26\\nSkipping line 13080: expected 25 fields, saw 26\\nSkipping line 13083: expected 25 fields, saw 26\\nSkipping line 13086: expected 25 fields, saw 26\\nSkipping line 13093: expected 25 fields, saw 26\\nSkipping line 13095: expected 25 fields, saw 26\\nSkipping line 13104: expected 25 fields, saw 26\\nSkipping line 13107: expected 25 fields, saw 26\\nSkipping line 13144: expected 25 fields, saw 26\\nSkipping line 13147: expected 25 fields, saw 26\\nSkipping line 13155: expected 25 fields, saw 26\\nSkipping line 13164: expected 25 fields, saw 26\\nSkipping line 13169: expected 25 fields, saw 26\\nSkipping line 13178: expected 25 fields, saw 26\\nSkipping line 13179: expected 25 fields, saw 26\\nSkipping line 13188: expected 25 fields, saw 26\\nSkipping line 13203: expected 25 fields, saw 26\\nSkipping line 13220: expected 25 fields, saw 26\\nSkipping line 13251: expected 25 fields, saw 26\\nSkipping line 13258: expected 25 fields, saw 26\\nSkipping line 13261: expected 25 fields, saw 26\\nSkipping line 13268: expected 25 fields, saw 26\\nSkipping line 13271: expected 25 fields, saw 26\\nSkipping line 13273: expected 25 fields, saw 26\\nSkipping line 13287: expected 25 fields, saw 26\\nSkipping line 13291: expected 25 fields, saw 26\\nSkipping line 13292: expected 25 fields, saw 26\\nSkipping line 13301: expected 25 fields, saw 26\\nSkipping line 13314: expected 25 fields, saw 26\\nSkipping line 13319: expected 25 fields, saw 26\\nSkipping line 13357: expected 25 fields, saw 26\\nSkipping line 13362: expected 25 fields, saw 26\\nSkipping line 13389: expected 25 fields, saw 26\\nSkipping line 13400: expected 25 fields, saw 26\\nSkipping line 13408: expected 25 fields, saw 26\\nSkipping line 13426: expected 25 fields, saw 26\\nSkipping line 13433: expected 25 fields, saw 26\\nSkipping line 13434: expected 25 fields, saw 26\\nSkipping line 13435: expected 25 fields, saw 26\\nSkipping line 13437: expected 25 fields, saw 26\\nSkipping line 13450: expected 25 fields, saw 26\\nSkipping line 13453: expected 25 fields, saw 26\\nSkipping line 13459: expected 25 fields, saw 26\\nSkipping line 13468: expected 25 fields, saw 26\\nSkipping line 13469: expected 25 fields, saw 26\\nSkipping line 13472: expected 25 fields, saw 26\\nSkipping line 13487: expected 25 fields, saw 26\\nSkipping line 13491: expected 25 fields, saw 26\\nSkipping line 13503: expected 25 fields, saw 26\\nSkipping line 13506: expected 25 fields, saw 26\\nSkipping line 13509: expected 25 fields, saw 26\\nSkipping line 13517: expected 25 fields, saw 26\\nSkipping line 13523: expected 25 fields, saw 26\\nSkipping line 13539: expected 25 fields, saw 26\\nSkipping line 13549: expected 25 fields, saw 26\\nSkipping line 13558: expected 25 fields, saw 26\\nSkipping line 13567: expected 25 fields, saw 26\\nSkipping line 13574: expected 25 fields, saw 26\\nSkipping line 13595: expected 25 fields, saw 26\\nSkipping line 13600: expected 25 fields, saw 26\\nSkipping line 13620: expected 25 fields, saw 26\\nSkipping line 13624: expected 25 fields, saw 26\\nSkipping line 13635: expected 25 fields, saw 26\\nSkipping line 13636: expected 25 fields, saw 26\\nSkipping line 13688: expected 25 fields, saw 26\\nSkipping line 13691: expected 25 fields, saw 26\\nSkipping line 13697: expected 25 fields, saw 26\\nSkipping line 13698: expected 25 fields, saw 26\\nSkipping line 13699: expected 25 fields, saw 26\\nSkipping line 13707: expected 25 fields, saw 26\\nSkipping line 13726: expected 25 fields, saw 26\\nSkipping line 13731: expected 25 fields, saw 26\\nSkipping line 13733: expected 25 fields, saw 26\\nSkipping line 13762: expected 25 fields, saw 26\\nSkipping line 13763: expected 25 fields, saw 26\\nSkipping line 13765: expected 25 fields, saw 26\\nSkipping line 13776: expected 25 fields, saw 26\\nSkipping line 13784: expected 25 fields, saw 26\\nSkipping line 13790: expected 25 fields, saw 26\\nSkipping line 13799: expected 25 fields, saw 26\\nSkipping line 13800: expected 25 fields, saw 26\\nSkipping line 13802: expected 25 fields, saw 26\\nSkipping line 13864: expected 25 fields, saw 26\\nSkipping line 13865: expected 25 fields, saw 26\\nSkipping line 13866: expected 25 fields, saw 26\\nSkipping line 13889: expected 25 fields, saw 26\\nSkipping line 13904: expected 25 fields, saw 26\\nSkipping line 13921: expected 25 fields, saw 26\\nSkipping line 13923: expected 25 fields, saw 26\\nSkipping line 13936: expected 25 fields, saw 26\\nSkipping line 13941: expected 25 fields, saw 26\\nSkipping line 13968: expected 25 fields, saw 26\\nSkipping line 13976: expected 25 fields, saw 26\\nSkipping line 13982: expected 25 fields, saw 26\\nSkipping line 13983: expected 25 fields, saw 26\\nSkipping line 13989: expected 25 fields, saw 26\\nSkipping line 13997: expected 25 fields, saw 26\\nSkipping line 13999: expected 25 fields, saw 26\\nSkipping line 14024: expected 25 fields, saw 26\\nSkipping line 14029: expected 25 fields, saw 26\\nSkipping line 14038: expected 25 fields, saw 26\\nSkipping line 14039: expected 25 fields, saw 26\\nSkipping line 14041: expected 25 fields, saw 26\\nSkipping line 14042: expected 25 fields, saw 26\\nSkipping line 14046: expected 25 fields, saw 26\\nSkipping line 14051: expected 25 fields, saw 26\\nSkipping line 14053: expected 25 fields, saw 26\\nSkipping line 14058: expected 25 fields, saw 26\\nSkipping line 14060: expected 25 fields, saw 26\\nSkipping line 14067: expected 25 fields, saw 26\\nSkipping line 14069: expected 25 fields, saw 26\\nSkipping line 14090: expected 25 fields, saw 26\\nSkipping line 14105: expected 25 fields, saw 26\\nSkipping line 14120: expected 25 fields, saw 26\\nSkipping line 14121: expected 25 fields, saw 26\\nSkipping line 14135: expected 25 fields, saw 26\\nSkipping line 14140: expected 25 fields, saw 26\\nSkipping line 14147: expected 25 fields, saw 26\\nSkipping line 14152: expected 25 fields, saw 26\\nSkipping line 14167: expected 25 fields, saw 26\\nSkipping line 14168: expected 25 fields, saw 26\\nSkipping line 14172: expected 25 fields, saw 26\\nSkipping line 14185: expected 25 fields, saw 26\\nSkipping line 14188: expected 25 fields, saw 26\\nSkipping line 14199: expected 25 fields, saw 26\\nSkipping line 14205: expected 25 fields, saw 26\\nSkipping line 14206: expected 25 fields, saw 26\\nSkipping line 14208: expected 25 fields, saw 26\\nSkipping line 14242: expected 25 fields, saw 26\\nSkipping line 14253: expected 25 fields, saw 26\\nSkipping line 14254: expected 25 fields, saw 26\\nSkipping line 14266: expected 25 fields, saw 26\\nSkipping line 14290: expected 25 fields, saw 26\\nSkipping line 14293: expected 25 fields, saw 26\\nSkipping line 14294: expected 25 fields, saw 26\\nSkipping line 14297: expected 25 fields, saw 26\\nSkipping line 14315: expected 25 fields, saw 26\\nSkipping line 14319: expected 25 fields, saw 26\\nSkipping line 14322: expected 25 fields, saw 26\\nSkipping line 14329: expected 25 fields, saw 26\\nSkipping line 14332: expected 25 fields, saw 26\\nSkipping line 14333: expected 25 fields, saw 26\\nSkipping line 14334: expected 25 fields, saw 26\\nSkipping line 14341: expected 25 fields, saw 26\\nSkipping line 14343: expected 25 fields, saw 26\\nSkipping line 14344: expected 25 fields, saw 26\\nSkipping line 14377: expected 25 fields, saw 26\\nSkipping line 14383: expected 25 fields, saw 26\\nSkipping line 14385: expected 25 fields, saw 26\\nSkipping line 14395: expected 25 fields, saw 26\\nSkipping line 14403: expected 25 fields, saw 26\\nSkipping line 14413: expected 25 fields, saw 26\\nSkipping line 14421: expected 25 fields, saw 26\\nSkipping line 14429: expected 25 fields, saw 26\\nSkipping line 14438: expected 25 fields, saw 26\\nSkipping line 14450: expected 25 fields, saw 26\\nSkipping line 14451: expected 25 fields, saw 26\\nSkipping line 14455: expected 25 fields, saw 26\\nSkipping line 14462: expected 25 fields, saw 26\\nSkipping line 14467: expected 25 fields, saw 26\\nSkipping line 14472: expected 25 fields, saw 26\\nSkipping line 14474: expected 25 fields, saw 26\\nSkipping line 14478: expected 25 fields, saw 26\\nSkipping line 14487: expected 25 fields, saw 26\\nSkipping line 14491: expected 25 fields, saw 26\\nSkipping line 14505: expected 25 fields, saw 26\\nSkipping line 14512: expected 25 fields, saw 26\\nSkipping line 14525: expected 25 fields, saw 26\\nSkipping line 14542: expected 25 fields, saw 26\\nSkipping line 14551: expected 25 fields, saw 26\\nSkipping line 14578: expected 25 fields, saw 26\\nSkipping line 14591: expected 25 fields, saw 26\\nSkipping line 14592: expected 25 fields, saw 26\\nSkipping line 14604: expected 25 fields, saw 26\\nSkipping line 14619: expected 25 fields, saw 26\\nSkipping line 14621: expected 25 fields, saw 26\\nSkipping line 14635: expected 25 fields, saw 26\\nSkipping line 14638: expected 25 fields, saw 26\\nSkipping line 14666: expected 25 fields, saw 26\\nSkipping line 14667: expected 25 fields, saw 26\\nSkipping line 14669: expected 25 fields, saw 26\\nSkipping line 14679: expected 25 fields, saw 26\\nSkipping line 14685: expected 25 fields, saw 26\\nSkipping line 14688: expected 25 fields, saw 26\\nSkipping line 14698: expected 25 fields, saw 26\\nSkipping line 14701: expected 25 fields, saw 26\\nSkipping line 14702: expected 25 fields, saw 26\\nSkipping line 14706: expected 25 fields, saw 26\\nSkipping line 14709: expected 25 fields, saw 26\\nSkipping line 14713: expected 25 fields, saw 26\\nSkipping line 14742: expected 25 fields, saw 26\\nSkipping line 14744: expected 25 fields, saw 26\\nSkipping line 14747: expected 25 fields, saw 26\\nSkipping line 14806: expected 25 fields, saw 26\\nSkipping line 14813: expected 25 fields, saw 26\\nSkipping line 14830: expected 25 fields, saw 26\\nSkipping line 14838: expected 25 fields, saw 26\\nSkipping line 14840: expected 25 fields, saw 26\\nSkipping line 14842: expected 25 fields, saw 26\\nSkipping line 14843: expected 25 fields, saw 26\\nSkipping line 14844: expected 25 fields, saw 26\\nSkipping line 14848: expected 25 fields, saw 26\\nSkipping line 14856: expected 25 fields, saw 26\\nSkipping line 14863: expected 25 fields, saw 26\\nSkipping line 14867: expected 25 fields, saw 26\\nSkipping line 14870: expected 25 fields, saw 26\\nSkipping line 14890: expected 25 fields, saw 26\\nSkipping line 14892: expected 25 fields, saw 26\\nSkipping line 14902: expected 25 fields, saw 26\\nSkipping line 14906: expected 25 fields, saw 26\\nSkipping line 14934: expected 25 fields, saw 26\\nSkipping line 14942: expected 25 fields, saw 26\\nSkipping line 14944: expected 25 fields, saw 26\\nSkipping line 14951: expected 25 fields, saw 26\\nSkipping line 14963: expected 25 fields, saw 26\\nSkipping line 14969: expected 25 fields, saw 26\\nSkipping line 14983: expected 25 fields, saw 26\\nSkipping line 14985: expected 25 fields, saw 26\\nSkipping line 14990: expected 25 fields, saw 26\\nSkipping line 14994: expected 25 fields, saw 26\\nSkipping line 14998: expected 25 fields, saw 26\\nSkipping line 15001: expected 25 fields, saw 26\\n'\n"
     ]
    }
   ],
   "source": [
    "# GENERAL CONFIGS\n",
    "ImageFile.LOAD_TRUNCATED_IMAGES = True\n",
    "\n",
    "# == Database config ==\n",
    "conn = mysql.connect(\n",
    "  host=\"localhost\",\n",
    "  user=\"root\",\n",
    "  password=\"root\"\n",
    ")\n",
    "\n",
    "cursor = conn.cursor()\n",
    "\n",
    "# == Files config ==\n",
    "FILE_FOLDER = r\"D:\\legal_data\\myntra.csv\"\n",
    "fdata=pd.read_csv(Path(FILE_FOLDER), error_bad_lines=False)\n",
    "IMG_FOLDER_DEST = r\"D:\\images\\_myntra\"\n",
    "\n",
    "DB_NAME = \"blp_dataset\"\n",
    "TABLE_NAME = \"products_tmp_myntra\""
   ]
  },
  {
   "cell_type": "code",
   "execution_count": 9,
   "id": "c175e534",
   "metadata": {},
   "outputs": [],
   "source": [
    "# Creating environment\n",
    "cursor.execute(\"CREATE DATABASE IF NOT EXISTS {} DEFAULT CHARACTER SET 'utf8'\".format(DB_NAME))\n",
    "cursor.execute(\"USE {}\".format(DB_NAME))\n",
    "\n",
    "cursor.execute(\"DROP TABLE IF EXISTS products_tmp_myntra\")"
   ]
  },
  {
   "cell_type": "code",
   "execution_count": 10,
   "id": "ae6c2623",
   "metadata": {},
   "outputs": [],
   "source": [
    "table_schema = (\n",
    "    \"CREATE TABLE IF NOT EXISTS products_tmp_myntra (\"\n",
    "    \"  id INT(11) AUTO_INCREMENT PRIMARY KEY NOT NULL,\"\n",
    "    \"  name TEXT NOT NULL,\"\n",
    "    \"  description TEXT,\"\n",
    "    \"  market_name VARCHAR(255),\"\n",
    "    \"  seller_name TEXT,\"\n",
    "    \"  illegal ENUM('t', 'f') NOT NULL DEFAULT 'f'\"\n",
    "    \") ENGINE=InnoDB\")\n",
    "\n",
    "cursor.execute(table_schema)"
   ]
  },
  {
   "cell_type": "code",
   "execution_count": 11,
   "id": "3733f3f3",
   "metadata": {
    "scrolled": true
   },
   "outputs": [
    {
     "data": {
      "text/plain": [
       "Index(['uniq_id', 'crawl_timestamp', 'product_id', 'link', 'size',\n",
       "       'variant_sku', 'brand', 'care_instructions', 'dominant_material',\n",
       "       'title', 'actual_color', 'dominant_color', 'product_type', 'images',\n",
       "       'body', 'product_details', 'size_fit', 'complete_the_look', 'type',\n",
       "       'variant_price', 'variant_compare_at_price', 'ideal_for', 'is_in_stock',\n",
       "       'inventory', 'specifications'],\n",
       "      dtype='object')"
      ]
     },
     "execution_count": 11,
     "metadata": {},
     "output_type": "execute_result"
    }
   ],
   "source": [
    "fdata.columns"
   ]
  },
  {
   "cell_type": "code",
   "execution_count": 12,
   "id": "70bdd4ac",
   "metadata": {},
   "outputs": [
    {
     "data": {
      "text/plain": [
       "Index(['title', 'images', 'product_details'], dtype='object')"
      ]
     },
     "execution_count": 12,
     "metadata": {},
     "output_type": "execute_result"
    }
   ],
   "source": [
    "# Deleting unwanted columns\n",
    "del_list = ['uniq_id', 'crawl_timestamp', 'product_id', 'link', 'size', 'variant_sku', 'brand',\n",
    "            'care_instructions', 'dominant_material', 'actual_color', 'dominant_color', 'product_type', 'body', \n",
    "            'size_fit', 'complete_the_look', 'type', 'variant_price', 'variant_compare_at_price', 'ideal_for', 'is_in_stock', \n",
    "            'inventory', 'specifications']\n",
    "\n",
    "fdata = fdata.drop(del_list, axis = 1)\n",
    "\n",
    "fdata.columns"
   ]
  },
  {
   "cell_type": "code",
   "execution_count": 13,
   "id": "7421b85d",
   "metadata": {},
   "outputs": [],
   "source": [
    "def clear_text(text):\n",
    "    clear_content = re.sub(r'[\\t\\r\\n]', ' ', text)\n",
    "    clear_content = re.sub(' +',' ', clear_content).lstrip()\n",
    "\n",
    "    return clear_content"
   ]
  },
  {
   "cell_type": "code",
   "execution_count": 14,
   "id": "e74dee37",
   "metadata": {},
   "outputs": [],
   "source": [
    "def insert_product(row):   \n",
    "    encoded_string = row['product_details'].encode('utf-8', \"ignore\")\n",
    "    description = encoded_string.decode()\n",
    "    \n",
    "    description = description.replace(\"Make sure this fits by entering your model number. | \", \"\")\n",
    "    description = re.sub('[👍🌍📱✅【】👐🔬⚗️⚙️🧜😎🔴🔵🙌🌿🎁🦄💃👜⭐💦]', '', description)\n",
    "    description = clear_text(description.replace(' | ', ''))\n",
    "    \n",
    "    query = \"INSERT INTO products_tmp_myntra (name, description, market_name, illegal) VALUES (%s, %s, %s, %s)\"\n",
    "    values = (row['title'], description, \"Myntra\", \"f\")\n",
    "\n",
    "    cursor.execute(query, values)\n",
    "    conn.commit()\n",
    "\n",
    "    return cursor.lastrowid"
   ]
  },
  {
   "cell_type": "code",
   "execution_count": 15,
   "id": "b8994401",
   "metadata": {},
   "outputs": [
    {
     "name": "stdout",
     "output_type": "stream",
     "text": [
      "Product 6278: Error retrieving image (http://assets.myntassets.com/v1/assets/images/1803398/2017/4/4/11491287105986-AKKRITI-BY-PANTALOONS-Women-Blue--Red-Semi-Sheer-Printed-Top-3041491287105700-1.jpg )\n",
      "Product 12653: Error retrieving image (http://assets.myntassets.com/v1/assets/images/7139141/2019/2/20/d192c547-4e29-490b-ab5a-16f88b9cf4191550657129938-Anouk-Women-Grey--Maroon-Printed-Kurta-with-Churidar--Dupatt-1.jpg )\n"
     ]
    }
   ],
   "source": [
    "for index, row in fdata.iterrows():\n",
    "    if row['title'] == \"NaN\" or type(row['title']) is not str: row['title'] = \"\"\n",
    "    if row['product_details'] == \"NaN\" or type(row['product_details']) is not str: row['product_details'] = \"\"\n",
    "\n",
    "    if row['title'] is not \"\" and row['product_details'] is not \"\":\n",
    "        product_id = insert_product(row)\n",
    "\n",
    "        image = row['images'].split(sep=\"|\")[0]\n",
    "\n",
    "        folder_dest = Path(f\"{IMG_FOLDER_DEST}\\{product_id}.jpeg\")\n",
    "\n",
    "        try:\n",
    "            file = urllib.request.urlretrieve(image, folder_dest)\n",
    "        except:\n",
    "            print(f\"Product {product_id}: Error retrieving image ({image})\")"
   ]
  },
  {
   "cell_type": "code",
   "execution_count": null,
   "id": "28cf5ff4",
   "metadata": {},
   "outputs": [],
   "source": []
  }
 ],
 "metadata": {
  "kernelspec": {
   "display_name": "Python 3.7 (tensorflow)",
   "language": "python",
   "name": "tensorflow"
  },
  "language_info": {
   "codemirror_mode": {
    "name": "ipython",
    "version": 3
   },
   "file_extension": ".py",
   "mimetype": "text/x-python",
   "name": "python",
   "nbconvert_exporter": "python",
   "pygments_lexer": "ipython3",
   "version": "3.6.13"
  }
 },
 "nbformat": 4,
 "nbformat_minor": 5
}

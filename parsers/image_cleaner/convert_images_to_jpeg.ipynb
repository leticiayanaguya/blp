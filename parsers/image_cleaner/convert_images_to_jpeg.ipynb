{
 "cells": [
  {
   "cell_type": "code",
   "execution_count": 1,
   "id": "8fbfbac8",
   "metadata": {},
   "outputs": [],
   "source": [
    "from PIL import Image\n",
    "from pathlib import Path\n",
    "\n",
    "import os"
   ]
  },
  {
   "cell_type": "code",
   "execution_count": 7,
   "id": "915380dd",
   "metadata": {},
   "outputs": [],
   "source": [
    "## GENERAL CONFIGS\n",
    "MAIN_FOLDER = r\"D:\\images\\excluded_product\"\n",
    "folder = Path(MAIN_FOLDER)"
   ]
  },
  {
   "cell_type": "code",
   "execution_count": 8,
   "id": "fdbe405a",
   "metadata": {},
   "outputs": [],
   "source": [
    "## CONVERT ALL IMAGES TO JPG\n",
    "\n",
    "for image in os.listdir(folder):\n",
    "    image_path = Path(f\"{folder}\\{image}\")\n",
    "    image_name = image_path.stem\n",
    "    image_name = f\"{image_name}\"\n",
    "\n",
    "    try:\n",
    "        img = Image.open(image_path).convert('RGB').save(f'{folder}\\{image_name}.jpeg')\n",
    "        os.remove(image_path)\n",
    "    except:\n",
    "        print(image_name)"
   ]
  },
  {
   "cell_type": "code",
   "execution_count": null,
   "id": "4e66e7f1",
   "metadata": {},
   "outputs": [],
   "source": []
  }
 ],
 "metadata": {
  "kernelspec": {
   "display_name": "Python 3",
   "language": "python",
   "name": "python3"
  },
  "language_info": {
   "codemirror_mode": {
    "name": "ipython",
    "version": 3
   },
   "file_extension": ".py",
   "mimetype": "text/x-python",
   "name": "python",
   "nbconvert_exporter": "python",
   "pygments_lexer": "ipython3",
   "version": "3.6.13"
  }
 },
 "nbformat": 4,
 "nbformat_minor": 5
}

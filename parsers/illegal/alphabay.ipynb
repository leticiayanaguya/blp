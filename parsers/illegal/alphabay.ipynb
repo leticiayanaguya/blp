{
 "cells": [
  {
   "cell_type": "code",
   "execution_count": null,
   "id": "93daf831",
   "metadata": {},
   "outputs": [],
   "source": [
    "%run ../commons/imports.ipynb\n",
    "%run ../commons/helper_db.ipynb\n",
    "%run ../commons/helper_contents.ipynb"
   ]
  },
  {
   "cell_type": "code",
   "execution_count": null,
   "id": "2d74497d",
   "metadata": {},
   "outputs": [],
   "source": [
    "MAIN_FOLDER = main_folder(\"alphabay\")\n",
    "\n",
    "create_database('blp_dataset')\n",
    "create_table('products_tmp_alphabay')"
   ]
  },
  {
   "cell_type": "code",
   "execution_count": null,
   "id": "771919b0",
   "metadata": {},
   "outputs": [],
   "source": [
    "images = []\n",
    "p_img_hashes = {}\n",
    "\n",
    "folders = [x for x in Path(MAIN_FOLDER).iterdir() if x.is_dir()]\n",
    "\n",
    "for fo in folders:\n",
    "    folder = Path(f\"{fo}\")\n",
    "    folder_image = Path(f\"{fo}\")\n",
    "\n",
    "    if folder.exists():\n",
    "        for file in os.listdir(folder):\n",
    "            if \"listing\" in file and \"listings.php_ac\" not in file and \"listingnew.php\" != file and \"listings.php\" != file:\n",
    "                page_content = BeautifulSoup(open(Path(f\"{folder}\\{file}\"), encoding='utf8').read())\n",
    "\n",
    "                if page_content is not None:\n",
    "                    ## GET DESCRIPTION\n",
    "                    description = \"\"\n",
    "                    desc_content = page_content.find(\"div\", attrs={\"id\": \"div_content1\"})\n",
    "\n",
    "                    if desc_content is not None:\n",
    "                        description = get_content(desc_content)\n",
    "                        description = description.replace(\"Product Description \", \"\")\n",
    "\n",
    "                    ## GET TITLE\n",
    "                    title = \"\"\n",
    "                    title_content = page_content.find(\"h1\", attrs={\"class\": \"normal\"})\n",
    "\n",
    "                    if title_content is not None:\n",
    "                        title = get_content(title_content)\n",
    "                    \n",
    "\n",
    "                    if description != \"\" or title != \"\":\n",
    "                        # Insert product into database\n",
    "                        query = \"INSERT INTO products_tmp_alphabay (name, description, market_name, has_image, illegal) VALUES (%s, %s, %s, %s, %s)\"\n",
    "                        values = (title, description, \"Aphabay\", \"no_image\", \"t\")\n",
    "\n",
    "                        cursor.execute(query, values)\n",
    "                        conn.commit()\n",
    "\n",
    "                        product_id = cursor.lastrowid\n",
    "\n",
    "\n",
    "                        ## GET IMAGE\n",
    "                        raw_name = page_content.find(\"img\", attrs={\"class\": \"listing\"})\n",
    "                        \n",
    "                        if raw_name is not None:\n",
    "                            try:\n",
    "                                name = raw_name[\"src\"]\n",
    "\n",
    "                                if name is not \"\":\n",
    "                                    url_image = Path(f\"{folder_image}\\{name}\")\n",
    "                                    \n",
    "                                    if url_image.exists():\n",
    "                                        hash = imagehash.phash(Image.open(url_image))\n",
    "\n",
    "                                        if hash not in p_img_hashes:\n",
    "                                            print(f\"Image {product_id} exists... creating\")\n",
    "\n",
    "                                            dst_dir = Path(f\"D:\\images\\_alphabay\\{product_id}.jpg\")\n",
    "                                            copyfile(url_image, dst_dir)\n",
    "                                            update_image(product_id, \"has_image\")\n",
    "\n",
    "                                            p_img_hashes[hash] = name\n",
    "                                        else:\n",
    "                                            print(f\"Image {product_id} repeated. Skipping...\")\n",
    "\n",
    "                                    else:\n",
    "                                        print(f\"Image {product_id} does not exists\")\n",
    "                                else:\n",
    "                                    print(f\"Image {product_id} has no name\")\n",
    "                            except IndexError:\n",
    "                                print(f\"Image {product_id} has no src\")"
   ]
  },
  {
   "cell_type": "code",
   "execution_count": null,
   "id": "ef2adb23",
   "metadata": {},
   "outputs": [],
   "source": []
  }
 ],
 "metadata": {
  "kernelspec": {
   "display_name": "Python 3.7 (tensorflow)",
   "language": "python",
   "name": "tensorflow"
  },
  "language_info": {
   "codemirror_mode": {
    "name": "ipython",
    "version": 3
   },
   "file_extension": ".py",
   "mimetype": "text/x-python",
   "name": "python",
   "nbconvert_exporter": "python",
   "pygments_lexer": "ipython3",
   "version": "3.6.13"
  }
 },
 "nbformat": 4,
 "nbformat_minor": 5
}

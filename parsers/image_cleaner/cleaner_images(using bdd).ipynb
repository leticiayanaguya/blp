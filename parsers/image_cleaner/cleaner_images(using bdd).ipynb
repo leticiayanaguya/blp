{
 "cells": [
  {
   "cell_type": "code",
   "execution_count": 1,
   "id": "d2e88696",
   "metadata": {},
   "outputs": [],
   "source": [
    "from fnmatch import fnmatch\n",
    "from PIL import Image\n",
    "from PIL import ImageFile\n",
    "from pathlib import Path\n",
    "from shutil import copyfile\n",
    "\n",
    "import imagehash\n",
    "import mysql.connector\n",
    "import os\n",
    "import re"
   ]
  },
  {
   "cell_type": "code",
   "execution_count": 2,
   "id": "b3a270d5",
   "metadata": {},
   "outputs": [],
   "source": [
    "# GENERAL CONFIGS\n",
    "\n",
    "ImageFile.LOAD_TRUNCATED_IMAGES = True\n",
    "Image.MAX_IMAGE_PIXELS = None\n",
    "\n",
    "# == Database config ==\n",
    "conn = mysql.connector.connect(\n",
    "  host=\"localhost\",\n",
    "  user=\"root\",\n",
    "  password=\"root\"\n",
    ")\n",
    "\n",
    "cursor = conn.cursor(buffered=True)\n",
    "\n",
    "DB_NAME = \"blp_dataset\"\n",
    "TABLE_NAME = \"image_hashes\"\n",
    "\n",
    "cursor.execute(\"USE {}\".format(DB_NAME))"
   ]
  },
  {
   "cell_type": "code",
   "execution_count": 3,
   "id": "6c89242c",
   "metadata": {},
   "outputs": [],
   "source": [
    "table_schema = (\n",
    "    \"CREATE TABLE IF NOT EXISTS image_hashes (\"\n",
    "    \"  file TEXT NOT NULL,\"\n",
    "    \"  hash_file VARCHAR(255) PRIMARY KEY NOT NULL\"\n",
    "    \") ENGINE=InnoDB\")\n",
    "\n",
    "cursor.execute(table_schema)\n",
    "\n",
    "\n",
    "table_schema = (\n",
    "    \"CREATE TABLE IF NOT EXISTS repeated_image_hashes (\"\n",
    "    \"  file VARCHAR(255) PRIMARY KEY NOT NULL,\"\n",
    "    \"  hash_file TEXT NOT NULL\"\n",
    "    \") ENGINE=InnoDB\")\n",
    "\n",
    "cursor.execute(table_schema)"
   ]
  },
  {
   "cell_type": "code",
   "execution_count": 4,
   "id": "d03208d4",
   "metadata": {},
   "outputs": [],
   "source": [
    "## CLEAR REPEATED IMAGES\n",
    "\n",
    "# == Files config ==\n",
    "MAIN_FOLDER = r\"D:\\images\\excluded_product\"\n",
    "\n",
    "folder = Path(MAIN_FOLDER)\n",
    "repeated_files = []\n",
    "\n",
    "\n",
    "for image in os.listdir(folder):\n",
    "    image_path = Path(f\"{folder}\\{image}\")\n",
    "\n",
    "\n",
    "    img_hash = imagehash.phash(Image.open(image_path))\n",
    "    image_name = os.path.splitext(image)[0]\n",
    "\n",
    "    cursor.execute(\"SELECT COUNT(file) FROM image_hashes WHERE hash_file = %s\", (str(img_hash),))\n",
    "    has_hash = cursor.fetchone()\n",
    "    \n",
    "    if has_hash[0] == 0:\n",
    "        query = \"INSERT INTO image_hashes (file, hash_file) VALUES (%s, %s)\"\n",
    "        values = (image_name, str(img_hash))\n",
    "\n",
    "        cursor.execute(query, values)\n",
    "        conn.commit()\n",
    "    else:\n",
    "        query = \"INSERT INTO repeated_image_hashes (file, hash_file) VALUES (%s, %s)\"\n",
    "        values = (image_name, str(img_hash))\n",
    "\n",
    "        cursor.execute(query, values)\n",
    "        conn.commit()"
   ]
  },
  {
   "cell_type": "code",
   "execution_count": 5,
   "id": "8564c5b7",
   "metadata": {},
   "outputs": [],
   "source": [
    "# REMOVE IMAGES IN REPEATED TABLE\n",
    "cursor.execute(\"SELECT * FROM repeated_image_hashes\")\n",
    "repeated = cursor.fetchall()\n",
    "\n",
    "MAIN_FOLDER = r\"D:\\images\\excluded_product\"\n",
    "folder = Path(MAIN_FOLDER)\n",
    "\n",
    "for res in repeated:\n",
    "    image_path = Path(f\"{folder}\\{res[0]}.jpeg\")\n",
    "    os.remove(image_path)"
   ]
  },
  {
   "cell_type": "code",
   "execution_count": null,
   "id": "0fc6f815",
   "metadata": {},
   "outputs": [],
   "source": [
    "## CLEAR REPEATED IMAGES IN DIFFERENT FOLDERS\n",
    "\n",
    "# == Files config ==\n",
    "MAIN_FOLDER = r\"D:\\images\\_haven\"\n",
    "\n",
    "folder = Path(MAIN_FOLDER)\n",
    "repeated_files = []\n",
    "\n",
    "\n",
    "for image in os.listdir(folder):\n",
    "    image_path = Path(f\"{folder}\\{image}\")\n",
    "\n",
    "\n",
    "    img_hash = imagehash.phash(Image.open(image_path))\n",
    "    image_name = os.path.splitext(image)[0]\n",
    "\n",
    "    cursor.execute(\"SELECT COUNT(file) FROM image_hashes WHERE hash_file = %s\", (str(img_hash),))\n",
    "    has_hash = cursor.fetchone()\n",
    "    \n",
    "    if has_hash[0] == 0:\n",
    "        print(\"Safe\")\n",
    "    else:\n",
    "        query = \"INSERT INTO repeated_image_hashes (file, hash_file) VALUES (%s, %s)\"\n",
    "        values = (image_name, str(img_hash))\n",
    "\n",
    "        cursor.execute(query, values)\n",
    "        conn.commit()"
   ]
  },
  {
   "cell_type": "code",
   "execution_count": 2,
   "id": "100d003f",
   "metadata": {},
   "outputs": [
    {
     "ename": "NameError",
     "evalue": "name 'Path' is not defined",
     "output_type": "error",
     "traceback": [
      "\u001b[1;31m---------------------------------------------------------------------------\u001b[0m",
      "\u001b[1;31mNameError\u001b[0m                                 Traceback (most recent call last)",
      "\u001b[1;32m<ipython-input-2-2659ba2105a5>\u001b[0m in \u001b[0;36m<module>\u001b[1;34m\u001b[0m\n\u001b[0;32m      4\u001b[0m \u001b[1;33m\u001b[0m\u001b[0m\n\u001b[0;32m      5\u001b[0m \u001b[1;32mwhile\u001b[0m \u001b[1;33m(\u001b[0m\u001b[0mlen\u001b[0m\u001b[1;33m(\u001b[0m\u001b[0mnums\u001b[0m\u001b[1;33m)\u001b[0m \u001b[1;33m<\u001b[0m \u001b[1;36m169\u001b[0m \u001b[1;32mor\u001b[0m \u001b[0mcount\u001b[0m \u001b[1;33m<\u001b[0m \u001b[1;36m48771\u001b[0m\u001b[1;33m)\u001b[0m\u001b[1;33m:\u001b[0m\u001b[1;33m\u001b[0m\u001b[1;33m\u001b[0m\u001b[0m\n\u001b[1;32m----> 6\u001b[1;33m     \u001b[0mimg\u001b[0m \u001b[1;33m=\u001b[0m \u001b[0mPath\u001b[0m\u001b[1;33m(\u001b[0m\u001b[1;34mf\"{MAIN_FOLDER}\\{count}.jpeg\"\u001b[0m\u001b[1;33m)\u001b[0m\u001b[1;33m\u001b[0m\u001b[1;33m\u001b[0m\u001b[0m\n\u001b[0m\u001b[0;32m      7\u001b[0m     \u001b[1;32mif\u001b[0m \u001b[1;32mnot\u001b[0m \u001b[0mimg\u001b[0m\u001b[1;33m.\u001b[0m\u001b[0mexists\u001b[0m\u001b[1;33m(\u001b[0m\u001b[1;33m)\u001b[0m\u001b[1;33m:\u001b[0m\u001b[1;33m\u001b[0m\u001b[1;33m\u001b[0m\u001b[0m\n\u001b[0;32m      8\u001b[0m         \u001b[0mnums\u001b[0m\u001b[1;33m.\u001b[0m\u001b[0mappend\u001b[0m\u001b[1;33m(\u001b[0m\u001b[0mcount\u001b[0m\u001b[1;33m)\u001b[0m\u001b[1;33m\u001b[0m\u001b[1;33m\u001b[0m\u001b[0m\n",
      "\u001b[1;31mNameError\u001b[0m: name 'Path' is not defined"
     ]
    }
   ],
   "source": [
    "# Get list of numbers in sequence that don't have files\n",
    "\n",
    "count = 0\n",
    "nums = []\n",
    "MAIN_FOLDER = r\"D:\\images\\illegal\"\n",
    "\n",
    "while (len(nums) < 169 or count < 48771):\n",
    "    img = Path(f\"{MAIN_FOLDER}\\{count}.jpeg\")\n",
    "    if not img.exists():\n",
    "        nums.append(count)\n",
    "\n",
    "    count = count + 1\n"
   ]
  },
  {
   "cell_type": "code",
   "execution_count": 11,
   "id": "3cb8f610",
   "metadata": {},
   "outputs": [],
   "source": [
    "# Rename images based on list of numbers that don't exist into illegal folder\n",
    "\n",
    "folder = Path(\"D:\\images\\excluded_product\")\n",
    "cont = 1\n",
    "\n",
    "for image in os.listdir(folder):\n",
    "    image_path = Path(f\"{folder}\\{image}\")\n",
    "\n",
    "    try:\n",
    "        img = Image.open(image_path).convert('RGB').save(f'{folder}\\{nums[cont]}.jpeg')\n",
    "        cont = cont + 1\n",
    "    except:\n",
    "        print(image_name)"
   ]
  },
  {
   "cell_type": "code",
   "execution_count": null,
   "id": "8a28bdda",
   "metadata": {},
   "outputs": [],
   "source": []
  }
 ],
 "metadata": {
  "kernelspec": {
   "display_name": "Python 3.7 (tensorflow)",
   "language": "python",
   "name": "tensorflow"
  },
  "language_info": {
   "codemirror_mode": {
    "name": "ipython",
    "version": 3
   },
   "file_extension": ".py",
   "mimetype": "text/x-python",
   "name": "python",
   "nbconvert_exporter": "python",
   "pygments_lexer": "ipython3",
   "version": "3.6.13"
  }
 },
 "nbformat": 4,
 "nbformat_minor": 5
}

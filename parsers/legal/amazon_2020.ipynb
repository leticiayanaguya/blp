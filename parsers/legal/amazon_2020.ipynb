{
 "cells": [
  {
   "cell_type": "code",
   "execution_count": null,
   "id": "d78cf7a4",
   "metadata": {},
   "outputs": [],
   "source": [
    "%run ../commons/imports_legal.ipynb\n",
    "%run ../commons/helper_db.ipynb\n",
    "%run ../commons/helper_contents.ipynb"
   ]
  },
  {
   "cell_type": "code",
   "execution_count": null,
   "id": "8f1a7c78",
   "metadata": {},
   "outputs": [],
   "source": [
    "create_database('blp_dataset')\n",
    "create_table('products_tmp_amazon')\n",
    "\n",
    "# == Files config ==\n",
    "FILE_FOLDER = r\"D:\\legal_data\\amazon_2020.csv\"\n",
    "fdata=pd.read_csv(Path(FILE_FOLDER))\n",
    "IMG_FOLDER_DEST = r\"D:\\images\\_amazon\""
   ]
  },
  {
   "cell_type": "code",
   "execution_count": null,
   "id": "3733f3f3",
   "metadata": {
    "scrolled": true
   },
   "outputs": [],
   "source": [
    "fdata.columns"
   ]
  },
  {
   "cell_type": "code",
   "execution_count": null,
   "id": "70bdd4ac",
   "metadata": {},
   "outputs": [],
   "source": [
    "# Deleting unwanted columns\n",
    "del_list = ['Uniq Id', 'Brand Name', 'Asin', 'Category', 'Upc Ean Code', 'List Price', 'Selling Price', 'Quantity', \n",
    "            'Model Number', 'Product Specification', 'Technical Details', 'Shipping Weight', 'Product Dimensions', 'Variants',\n",
    "            'Sku', 'Product Url', 'Stock', 'Product Details', 'Dimensions', 'Color', 'Ingredients', 'Direction To Use', \n",
    "            'Is Amazon Seller', 'Size Quantity Variant', 'Product Description']\n",
    "\n",
    "fdata = fdata.drop(del_list, axis = 1)\n",
    "\n",
    "fdata.columns"
   ]
  },
  {
   "cell_type": "code",
   "execution_count": null,
   "id": "7421b85d",
   "metadata": {},
   "outputs": [],
   "source": [
    "def clear_text(text):\n",
    "    clear_content = re.sub(r'[\\t\\r\\n]', ' ', text)\n",
    "    clear_content = re.sub(' +',' ', clear_content).lstrip()\n",
    "\n",
    "    return clear_content"
   ]
  },
  {
   "cell_type": "code",
   "execution_count": null,
   "id": "e74dee37",
   "metadata": {},
   "outputs": [],
   "source": [
    "def insert_product(row):   \n",
    "    encoded_string = row['About Product'].encode('utf-8', \"ignore\")\n",
    "    description = encoded_string.decode()\n",
    "    \n",
    "    description = description.replace(\"Make sure this fits by entering your model number. | \", \"\")\n",
    "    description = re.sub('[👍🌍📱✅【】👐🔬⚗️⚙️🧜😎🔴🔵🙌🌿🎁🦄💃👜⭐💦]', '', description)\n",
    "    description = clear_text(description.replace(' | ', ''))\n",
    "    \n",
    "    query = \"INSERT INTO products_tmp_amazon (name, description, market_name, illegal) VALUES (%s, %s, %s, %s)\"\n",
    "    values = (row['Product Name'], description, \"Amazon - 2020\", \"f\")\n",
    "\n",
    "    cursor.execute(query, values)\n",
    "    conn.commit()\n",
    "\n",
    "    return cursor.lastrowid"
   ]
  },
  {
   "cell_type": "code",
   "execution_count": null,
   "id": "b8994401",
   "metadata": {},
   "outputs": [],
   "source": [
    "for index, row in fdata.iterrows():\n",
    "    if row['Product Name'] == \"NaN\" or type(row['Product Name']) is not str: row['Product Name'] = \"\"\n",
    "    if row['About Product'] == \"NaN\" or type(row['About Product']) is not str: row['About Product'] = \"\"\n",
    "\n",
    "    if row['Product Name'] is not \"\" and row['About Product'] is not \"\":\n",
    "        product_id = insert_product(row)\n",
    "\n",
    "        image = row['Image'].split(sep=\"|\")[0]\n",
    "\n",
    "        folder_dest = Path(f\"{IMG_FOLDER_DEST}\\{product_id}.jpeg\")\n",
    "\n",
    "        try:\n",
    "            file = urllib.request.urlretrieve(image, folder_dest)\n",
    "        except:\n",
    "            print(f\"Product {product_id}: Error retrieving image ({image})\")"
   ]
  }
 ],
 "metadata": {
  "kernelspec": {
   "display_name": "Python 3.7 (tensorflow)",
   "language": "python",
   "name": "tensorflow"
  },
  "language_info": {
   "codemirror_mode": {
    "name": "ipython",
    "version": 3
   },
   "file_extension": ".py",
   "mimetype": "text/x-python",
   "name": "python",
   "nbconvert_exporter": "python",
   "pygments_lexer": "ipython3",
   "version": "3.6.13"
  }
 },
 "nbformat": 4,
 "nbformat_minor": 5
}

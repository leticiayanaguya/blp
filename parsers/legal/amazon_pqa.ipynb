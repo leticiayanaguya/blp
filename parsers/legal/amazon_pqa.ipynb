{
 "cells": [
  {
   "cell_type": "code",
   "execution_count": null,
   "id": "1f42a92c",
   "metadata": {},
   "outputs": [],
   "source": [
    "%run ../commons/imports_legal.ipynb\n",
    "%run ../commons/helper_db.ipynb\n",
    "%run ../commons/helper_contents.ipynb"
   ]
  },
  {
   "cell_type": "code",
   "execution_count": null,
   "id": "05a36fef",
   "metadata": {},
   "outputs": [],
   "source": [
    "create_database('blp_dataset')\n",
    "create_table('products_tmp_amazon')\n",
    "cursor = conn.cursor()\n",
    "\n",
    "# == Files config ==\n",
    "MAIN_FOLDER = r\"D:\\legal_data\\amazon-pqa\\d_amazon_pqa_accessories.json\""
   ]
  },
  {
   "cell_type": "code",
   "execution_count": null,
   "id": "e065bb9b",
   "metadata": {},
   "outputs": [],
   "source": [
    "def clear_text(text):\n",
    "    clear_content = re.sub(r'[\\t\\r\\n]', ' ', text)\n",
    "    clear_content = re.sub(' +',' ', clear_content).lstrip()\n",
    "    \n",
    "    return clear_content"
   ]
  },
  {
   "cell_type": "code",
   "execution_count": null,
   "id": "aa2f0f44",
   "metadata": {
    "scrolled": true
   },
   "outputs": [],
   "source": [
    "folder = Path(f\"{MAIN_FOLDER}\")\n",
    "\n",
    "# for file in  os.listdir(folder):\n",
    "#     file_path = Path(f\"{MAIN_FOLDER}\\{file}\")\n",
    "#     print(file_path)\n",
    "    \n",
    "for line in open(folder, 'r'):\n",
    "    data = json.loads(line)\n",
    "\n",
    "    description = clear_text(data['product_description'])\n",
    "    name = clear_text(data['item_name'])\n",
    "\n",
    "    query = \"INSERT INTO products_tmp_amazon (name, description, market_name, illegal) VALUES (%s, %s, %s, %s)\"\n",
    "    values = (name, description, \"Amazon (PQA)\", \"f\")\n",
    "\n",
    "    cursor.execute(query, values)\n",
    "    conn.commit()"
   ]
  }
 ],
 "metadata": {
  "kernelspec": {
   "display_name": "Python 3.7 (tensorflow)",
   "language": "python",
   "name": "tensorflow"
  },
  "language_info": {
   "codemirror_mode": {
    "name": "ipython",
    "version": 3
   },
   "file_extension": ".py",
   "mimetype": "text/x-python",
   "name": "python",
   "nbconvert_exporter": "python",
   "pygments_lexer": "ipython3",
   "version": "3.6.13"
  }
 },
 "nbformat": 4,
 "nbformat_minor": 5
}

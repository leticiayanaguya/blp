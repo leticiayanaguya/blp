{
 "cells": [
  {
   "cell_type": "code",
   "execution_count": null,
   "id": "d2e88696",
   "metadata": {},
   "outputs": [],
   "source": [
    "%run ../commons/imports_cleaner.ipynb\n",
    "%run ../commons/helper_db.ipynb"
   ]
  },
  {
   "cell_type": "code",
   "execution_count": null,
   "id": "b3a270d5",
   "metadata": {},
   "outputs": [],
   "source": [
    "create_database('blp_dataset')\n",
    "cursor = conn.cursor(buffered=True)\n",
    "\n",
    "TABLE_NAME = \"products_dataset\""
   ]
  },
  {
   "cell_type": "code",
   "execution_count": null,
   "id": "4f002b0f",
   "metadata": {},
   "outputs": [],
   "source": [
    "# CLEAR REPEATED TEXTS\n",
    "cursor.execute(\"SELECT * FROM \" + TABLE_NAME)\n",
    "rows = cursor.fetchall()"
   ]
  },
  {
   "cell_type": "code",
   "execution_count": null,
   "id": "0dc8b874",
   "metadata": {},
   "outputs": [],
   "source": [
    "for row in rows:\n",
    "    desc = row[1].encode('ASCII', 'ignore').strip()\n",
    "\n",
    "    query = \"UPDATE \" + TABLE_NAME + \" SET name = %s WHERE id = %s\"\n",
    "    cursor.execute(query, (desc, row[0]))\n",
    "    conn.commit()"
   ]
  }
 ],
 "metadata": {
  "kernelspec": {
   "display_name": "Python 3.7 (tensorflow)",
   "language": "python",
   "name": "tensorflow"
  },
  "language_info": {
   "codemirror_mode": {
    "name": "ipython",
    "version": 3
   },
   "file_extension": ".py",
   "mimetype": "text/x-python",
   "name": "python",
   "nbconvert_exporter": "python",
   "pygments_lexer": "ipython3",
   "version": "3.6.13"
  }
 },
 "nbformat": 4,
 "nbformat_minor": 5
}

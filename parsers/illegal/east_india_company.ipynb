{
 "cells": [
  {
   "cell_type": "code",
   "execution_count": null,
   "id": "93daf831",
   "metadata": {},
   "outputs": [],
   "source": [
    "%run ../commons/imports.ipynb\n",
    "%run ../commons/helper_db.ipynb\n",
    "%run ../commons/helper_contents.ipynb"
   ]
  },
  {
   "cell_type": "code",
   "execution_count": null,
   "id": "2d74497d",
   "metadata": {},
   "outputs": [],
   "source": [
    "MAIN_FOLDER = main_folder(\"eastindiacompany\")\n",
    "\n",
    "create_database('blp_dataset')\n",
    "create_table('products_tmp_eic')"
   ]
  },
  {
   "cell_type": "code",
   "execution_count": null,
   "id": "771919b0",
   "metadata": {},
   "outputs": [],
   "source": [
    "folder = Path(f\"{MAIN_FOLDER}\")\n",
    "\n",
    "for folders in os.listdir(folder):\n",
    "    folder_main = Path(f\"{MAIN_FOLDER}\\{folders}\\listings\")\n",
    "    \n",
    "    for item in os.listdir(folder_main):\n",
    "        print(Path(f\"{folder_main}\\{item}\"))\n",
    "\n",
    "        page_content = BeautifulSoup(open(Path(f\"{folder_main}\\{item}\"), encoding='utf8').read())\n",
    "\n",
    "        if page_content is not None:\n",
    "            ## GET DESCRIPTION\n",
    "            description = \"\"\n",
    "            desc_content = page_content.find(\"div\", attrs={\"class\": \"tab-content-section\"})\n",
    "\n",
    "            if desc_content is not None:\n",
    "                description = get_content(desc_content)\n",
    "\n",
    "            ## GET TITLE\n",
    "            title = \"\"\n",
    "            title_content = page_content.find(\"h2\")\n",
    "\n",
    "            if title_content is not None:\n",
    "                title = get_content(title_content)\n",
    "\n",
    "            ## GET SELLER\n",
    "            seller = \"\"\n",
    "            seller_content = page_content.find(\"p\", attrs={\"class\": \"by-merchant\"})\n",
    "\n",
    "            if seller_content is not None:\n",
    "                raw_seller = seller_content.find(\"a\")\n",
    "\n",
    "                if raw_seller is not None:\n",
    "                    seller = get_content(raw_seller)\n",
    "\n",
    "            if description != \"\" or title != \"\":\n",
    "                # Insert product into database\n",
    "                query = \"INSERT INTO products_tmp_eic (name, description, market_name, seller_name, illegal) VALUES (%s, %s, %s, %s, %s)\"\n",
    "                values = (title, description, \"East India Company\", seller, \"t\")\n",
    "\n",
    "                cursor.execute(query, values)\n",
    "                conn.commit()\n",
    "\n",
    "                product_id = cursor.lastrowid\n",
    "\n",
    "                ## GET IMAGE\n",
    "                img_content = page_content.find(\"div\", attrs={\"class\": \"image-frame-full\"})\n",
    "\n",
    "                if img_content is not None:\n",
    "                    img_tag = img_content.find(\"img\")\n",
    "\n",
    "                    if img_tag is not None:\n",
    "                        img = img_tag[\"src\"]\n",
    "\n",
    "                        if img is not None:\n",
    "                            try:\n",
    "                                data = \"\" + img.replace(\"data:image/jpg;base64,\", \"\")\n",
    "                                data = \"\" + data.replace(\"data:image/jpeg;base64,\", \"\")\n",
    "                                data = \"\" + data.replace(\"data:image/png;base64,\", \"\")\n",
    "                                imgdata = base64.b64decode(data)\n",
    "\n",
    "                                img_filename = Path(f\"D:\\images\\_eic\\{product_id}.jpeg\")\n",
    "\n",
    "                                with open(img_filename, 'wb') as f:\n",
    "                                    f.write(imgdata)\n",
    "                                    f.close\n",
    "                            except:\n",
    "                                print(f\"Image {product_id} has error. Except\")"
   ]
  },
  {
   "cell_type": "code",
   "execution_count": null,
   "id": "f4439822",
   "metadata": {},
   "outputs": [],
   "source": []
  },
  {
   "cell_type": "code",
   "execution_count": null,
   "id": "25067b30",
   "metadata": {},
   "outputs": [],
   "source": []
  }
 ],
 "metadata": {
  "kernelspec": {
   "display_name": "Python 3.7 (tensorflow)",
   "language": "python",
   "name": "tensorflow"
  },
  "language_info": {
   "codemirror_mode": {
    "name": "ipython",
    "version": 3
   },
   "file_extension": ".py",
   "mimetype": "text/x-python",
   "name": "python",
   "nbconvert_exporter": "python",
   "pygments_lexer": "ipython3",
   "version": "3.6.13"
  }
 },
 "nbformat": 4,
 "nbformat_minor": 5
}

{
 "cells": [
  {
   "cell_type": "code",
   "execution_count": null,
   "id": "8fbfbac8",
   "metadata": {},
   "outputs": [],
   "source": [
    "%run ../commons/imports_cleaner.ipynb"
   ]
  },
  {
   "cell_type": "code",
   "execution_count": null,
   "id": "915380dd",
   "metadata": {},
   "outputs": [],
   "source": [
    "## GENERAL CONFIGS\n",
    "MAIN_FOLDER = r\"D:\\images\\legal_2\"\n",
    "folder = Path(MAIN_FOLDER)"
   ]
  },
  {
   "cell_type": "code",
   "execution_count": null,
   "id": "fdbe405a",
   "metadata": {},
   "outputs": [],
   "source": [
    "## CONVERT ALL IMAGES TO JPG\n",
    "\n",
    "for image in os.listdir(folder):\n",
    "    image_path = Path(f\"{folder}\\{image}\")\n",
    "    image_name = image_path.stem\n",
    "    image_name = f\"{image_name}\"\n",
    "\n",
    "    try:\n",
    "        img = Image.open(image_path).convert('RGB').save(f'{folder}\\{image_name}_10.jpeg')\n",
    "        os.remove(image_path)\n",
    "    except:\n",
    "        print(image_name)"
   ]
  }
 ],
 "metadata": {
  "kernelspec": {
   "display_name": "Python 3",
   "language": "python",
   "name": "python3"
  },
  "language_info": {
   "codemirror_mode": {
    "name": "ipython",
    "version": 3
   },
   "file_extension": ".py",
   "mimetype": "text/x-python",
   "name": "python",
   "nbconvert_exporter": "python",
   "pygments_lexer": "ipython3",
   "version": "3.6.13"
  }
 },
 "nbformat": 4,
 "nbformat_minor": 5
}

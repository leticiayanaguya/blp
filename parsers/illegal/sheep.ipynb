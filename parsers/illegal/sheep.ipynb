{
 "cells": [
  {
   "cell_type": "code",
   "execution_count": null,
   "id": "93daf831",
   "metadata": {},
   "outputs": [],
   "source": [
    "%run ../commons/imports.ipynb\n",
    "%run ../commons/helper_db.ipynb\n",
    "%run ../commons/helper_contents.ipynb"
   ]
  },
  {
   "cell_type": "code",
   "execution_count": null,
   "id": "2d74497d",
   "metadata": {},
   "outputs": [],
   "source": [
    "MAIN_FOLDER = main_folder(\"sheep\\2013-12-03\")\n",
    "\n",
    "create_database('blp_dataset')\n",
    "create_table('products_tmp_2')"
   ]
  },
  {
   "cell_type": "code",
   "execution_count": null,
   "id": "771919b0",
   "metadata": {},
   "outputs": [],
   "source": [
    "original_images = []\n",
    "\n",
    "folder = Path(f\"{MAIN_FOLDER}\\market\\item\")\n",
    "\n",
    "for file in os.listdir(folder):\n",
    "    page_content = BeautifulSoup(open(Path(f\"{folder}\\{file}\"), encoding='utf8').read())\n",
    "            \n",
    "    if page_content is not None:\n",
    "        ## GET DESCRIPTION\n",
    "        raw_description = page_content.find(\"td\", attrs={\"style\": \"background-color: #F8F8F8;\"})\n",
    "        description = get_content(raw_description)\n",
    "\n",
    "        ## GET TITLE\n",
    "        raw_title = page_content.find(\"h4\")\n",
    "        title = get_content(raw_title)\n",
    "\n",
    "        ## GET SELLER\n",
    "        raw_seller = page_content.find(\"a\", attrs={\"title\": \"Send a message\"})\n",
    "        seller = get_content(raw_seller)\n",
    "\n",
    "        if description != \"\" or title != \"\":\n",
    "            # Insert product into database\n",
    "            query = \"INSERT INTO products_tmp_2 (name, description, market_name, seller_name, illegal) VALUES (%s, %s, %s, %s, %s)\"\n",
    "            values = (title, description, \"Sheep\", seller_name, \"t\")\n",
    "\n",
    "            cursor.execute(query, values)\n",
    "            conn.commit()\n",
    "\n",
    "            product_id = cursor.lastrowid\n",
    "\n",
    "            ## GET IMAGE\n",
    "            raw_image = page_content.find(\"img\")\n",
    "            \n",
    "            if raw_image is not None:\n",
    "                try:\n",
    "                    image = raw_image[\"src\"]\n",
    "                except IndexError:\n",
    "                    print(f\"Image {product_id} has no src\")\n",
    "                    update_image(product_id, \"no_image\")\n",
    "                \n",
    "                if image is not \"\":\n",
    "                    try:\n",
    "                        data = \"\" + image.replace(\"data:image/jpeg;base64,\", \"\")\n",
    "                        imgdata = base64.b64decode(data)\n",
    "\n",
    "                        img_filename = Path(f\"D:\\images\\p\\{product_id}.jpg\")\n",
    "\n",
    "                        with open(img_filename, 'wb') as f:\n",
    "                            f.write(imgdata)\n",
    "                            f.close\n",
    "                    except:\n",
    "                        print(f\"Image {product_id} has error. Except\")\n",
    "                        update_image(product_id, \"no_image\")\n",
    "            else:\n",
    "                    print(f\"Image {product_id} has no image\")\n",
    "                    update_image(product_id, \"no_image\")"
   ]
  },
  {
   "cell_type": "code",
   "execution_count": null,
   "id": "f4439822",
   "metadata": {},
   "outputs": [],
   "source": []
  },
  {
   "cell_type": "code",
   "execution_count": null,
   "id": "25067b30",
   "metadata": {},
   "outputs": [],
   "source": []
  }
 ],
 "metadata": {
  "kernelspec": {
   "display_name": "Python 3.7 (tensorflow)",
   "language": "python",
   "name": "tensorflow"
  },
  "language_info": {
   "codemirror_mode": {
    "name": "ipython",
    "version": 3
   },
   "file_extension": ".py",
   "mimetype": "text/x-python",
   "name": "python",
   "nbconvert_exporter": "python",
   "pygments_lexer": "ipython3",
   "version": "3.6.13"
  }
 },
 "nbformat": 4,
 "nbformat_minor": 5
}

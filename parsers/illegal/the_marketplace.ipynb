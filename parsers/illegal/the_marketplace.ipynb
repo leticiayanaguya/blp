{
 "cells": [
  {
   "cell_type": "code",
   "execution_count": null,
   "id": "93daf831",
   "metadata": {},
   "outputs": [],
   "source": [
    "%run ../commons/imports.ipynb\n",
    "%run ../commons/helper_db.ipynb\n",
    "%run ../commons/helper_contents.ipynb"
   ]
  },
  {
   "cell_type": "code",
   "execution_count": null,
   "id": "2d74497d",
   "metadata": {},
   "outputs": [],
   "source": [
    "MAIN_FOLDER = main_folder(\"themarketplace\")\n",
    "\n",
    "create_database('blp_dataset')\n",
    "create_table('products_tmp_2')"
   ]
  },
  {
   "cell_type": "code",
   "execution_count": null,
   "id": "771919b0",
   "metadata": {
    "scrolled": false
   },
   "outputs": [],
   "source": [
    "original_images = []\n",
    "\n",
    "folders = [x for x in Path(MAIN_FOLDER).iterdir() if x.is_dir()]\n",
    "\n",
    "for fo in folders:\n",
    "    folder = Path(f\"{fo}\\product\")\n",
    "    folder_image = Path(f\"{fo}\")\n",
    "\n",
    "    if folder.exists():\n",
    "        for inner_folder in os.listdir(folder):\n",
    "            inner_path = folder = Path(f\"{fo}\\product\\{inner_folder}\")\n",
    "\n",
    "            for file in os.listdir(inner_path):\n",
    "                if file != \"link-to-vendor-page\":\n",
    "                    page_content = BeautifulSoup(open(Path(f\"{folder}\\{file}\"), encoding='utf8').read())\n",
    "\n",
    "                if page_content is not None:\n",
    "                    ## GET DESCRIPTION\n",
    "                    description = \"\"\n",
    "                    desc_content = page_content.find(\"div\", attrs={\"class\": \"vendor-profile-text\"})\n",
    "                    description = get_content(desc_content)\n",
    "                    \n",
    "                ## GET TITLE\n",
    "                title = \"\"\n",
    "                raw_title = page_content.find(\"strong\")\n",
    "                title = get_content(raw_title)\n",
    "                \n",
    "                ## GET SELLER\n",
    "                seller_name = \"\"\n",
    "                raw_seller = page_content.find_all(\"a\", href=lambda href: href and \"vendor\" in href)\n",
    "                \n",
    "                if raw_seller:\n",
    "                    seller_name = get_content(raw_seller[0])\n",
    "                \n",
    "                if description != \"\" or title != \"\":\n",
    "                    # Insert product into database\n",
    "                    query = \"INSERT INTO products_tmp_2 (name, description, market_name, seller_name, illegal) VALUES (%s, %s, %s, %s, %s)\"\n",
    "                    values = (title, description, \"The Marketplace\", seller_name, \"t\")\n",
    "\n",
    "                    cursor.execute(query, values)\n",
    "                    conn.commit()\n",
    "\n",
    "                    product_id = cursor.lastrowid\n",
    "\n",
    "                    ## GET IMAGE\n",
    "                    raw_name = page_content.find(\"img\")\n",
    "                    name = \"\"\n",
    "\n",
    "                    if raw_name is not None:\n",
    "                        try:\n",
    "                            name = raw_name[\"src\"]\n",
    "                        except IndexError:\n",
    "#                             print(f\"Image {product_id} has no src\")\n",
    "                            update_image(product_id, \"no_image\")\n",
    "                        \n",
    "                        if name is not \"\":\n",
    "                            name = name.replace(\"http://themarketplace.i2p/\", \"\")\n",
    "                            url_image = Path(f\"{folder_image}\\{name}\")\n",
    "\n",
    "                            try:\n",
    "                                # copy images to new directory, renaming with product id\n",
    "                                if url_image.exists():\n",
    "                                    \n",
    "                                    print(f\"Image {product_id} exists... creating\")\n",
    "\n",
    "                                    dst_dir = Path(f\"D:\\images\\p\\{product_id}.jpg\")\n",
    "                                    copyfile(url_image, dst_dir)\n",
    "                                else:\n",
    "                                    print(f\"Image {product_id} does not exists\")\n",
    "                                    update_image(product_id, \"no_image\")\n",
    "                            except:\n",
    "                                print(f\"Image {product_id} has error. Except\")\n",
    "                                print(url_image)\n",
    "                                update_image(product_id, \"no_image\")\n",
    "                        else:\n",
    "                            print(f\"Image {product_id} has no name\")\n",
    "                            update_image(product_id, \"no_image\")"
   ]
  },
  {
   "cell_type": "code",
   "execution_count": null,
   "id": "8ab52fb6",
   "metadata": {},
   "outputs": [],
   "source": []
  }
 ],
 "metadata": {
  "kernelspec": {
   "display_name": "Python 3.7 (tensorflow)",
   "language": "python",
   "name": "tensorflow"
  },
  "language_info": {
   "codemirror_mode": {
    "name": "ipython",
    "version": 3
   },
   "file_extension": ".py",
   "mimetype": "text/x-python",
   "name": "python",
   "nbconvert_exporter": "python",
   "pygments_lexer": "ipython3",
   "version": "3.6.13"
  }
 },
 "nbformat": 4,
 "nbformat_minor": 5
}

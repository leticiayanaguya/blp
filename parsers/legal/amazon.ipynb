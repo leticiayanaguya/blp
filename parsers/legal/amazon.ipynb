{
 "cells": [
  {
   "cell_type": "code",
   "execution_count": null,
   "id": "d78cf7a4",
   "metadata": {},
   "outputs": [],
   "source": [
    "%run ../commons/imports_legal.ipynb\n",
    "%run ../commons/helper_db.ipynb\n",
    "%run ../commons/helper_contents.ipynb"
   ]
  },
  {
   "cell_type": "code",
   "execution_count": null,
   "id": "8f1a7c78",
   "metadata": {},
   "outputs": [],
   "source": [
    "create_database('blp_dataset')\n",
    "create_table('products_tmp_amazon')\n",
    "\n",
    "# == Files config ==\n",
    "FILE_FOLDER = r\"D:\\legal_data\\marketing_sample_for_amazon_com-ecommerce__20200101_20200131__10k_data.csv\"\n",
    "fdata=pd.read_csv(Path(FILE_FOLDER))\n",
    "IMG_FOLDER_DEST = r\"D:\\images\\amazon\""
   ]
  },
  {
   "cell_type": "code",
   "execution_count": null,
   "id": "3733f3f3",
   "metadata": {
    "scrolled": true
   },
   "outputs": [],
   "source": [
    "fdata.columns"
   ]
  },
  {
   "cell_type": "code",
   "execution_count": null,
   "id": "70bdd4ac",
   "metadata": {},
   "outputs": [],
   "source": [
    "# Deleting unwanted columns\n",
    "del_list = ['Uniq Id', 'Brand Name', 'Asin', 'Upc Ean Code', 'List Price', 'Quantity', 'Technical Details', \n",
    "            'Model Number', 'Shipping Weight', 'Product Dimensions', 'Variants', 'Sku', 'Product Url', 'Stock', \n",
    "            'Product Details', 'Dimensions', 'Color', 'Ingredients', 'Direction To Use', 'Is Amazon Seller', \n",
    "            'Size Quantity Variant', 'Product Description']\n",
    "\n",
    "fdata = fdata.drop(del_list, axis = 1)\n",
    "\n",
    "fdata.columns"
   ]
  },
  {
   "cell_type": "code",
   "execution_count": null,
   "id": "db857906",
   "metadata": {},
   "outputs": [],
   "source": [
    "def update_image(product_id, value):\n",
    "    query = \"UPDATE products_tmp_amazon SET has_image = %s WHERE id = %s\"\n",
    "    cursor.execute(query, (value, product_id))\n",
    "    conn.commit()"
   ]
  },
  {
   "cell_type": "code",
   "execution_count": null,
   "id": "7421b85d",
   "metadata": {},
   "outputs": [],
   "source": [
    "def clear_text(text):\n",
    "    clear_content = re.sub(r'[\\t\\r\\n]', ' ', text)\n",
    "    clear_content = re.sub(' +',' ', clear_content).lstrip()\n",
    "    \n",
    "    return clear_content"
   ]
  },
  {
   "cell_type": "code",
   "execution_count": null,
   "id": "262331f5",
   "metadata": {},
   "outputs": [],
   "source": [
    "def get_ext(url):\n",
    "    filename, file_extension = os.path.splitext(url)\n",
    "    \n",
    "    return file_extension"
   ]
  },
  {
   "cell_type": "code",
   "execution_count": null,
   "id": "e74dee37",
   "metadata": {},
   "outputs": [],
   "source": [
    "def insert_product(row):\n",
    "    price = \"\" if len(row['Selling Price']) > 50 else row['Selling Price']\n",
    "    \n",
    "    encoded_string = row['About Product'].encode('utf-8', \"ignore\")\n",
    "    description = encoded_string.decode()\n",
    "    \n",
    "    description = description.replace(\"Make sure this fits by entering your model number. | \", \"\")\n",
    "    description = re.sub('[👍🌍📱✅【】👐🔬⚗️⚙️🧜😎🔴🔵🙌🌿🎁🦄💃👜⭐💦]', '', description)\n",
    "    description = clear_text(description.replace(' | ', ''))\n",
    "\n",
    "    print(description)\n",
    "    \n",
    "    query = \"INSERT INTO products_tmp_amazon (name, description, price, market_name, has_image, illegal) VALUES (%s, %s, %s, %s, %s, %s)\"\n",
    "    values = (row['Product Name'], description, price, \"Amazon\", \"no_image\", \"f\")\n",
    "\n",
    "    cursor.execute(query, values)\n",
    "    conn.commit()\n",
    "\n",
    "    return cursor.lastrowid"
   ]
  },
  {
   "cell_type": "code",
   "execution_count": null,
   "id": "b8994401",
   "metadata": {},
   "outputs": [],
   "source": [
    "for index, row in fdata.iterrows():\n",
    "    if row['Product Name'] == \"NaN\" or type(row['Product Name']) is not str: row['Product Name'] = \"\"\n",
    "    if row['About Product'] == \"NaN\" or type(row['About Product']) is not str: row['About Product'] = \"\"\n",
    "    if row['Selling Price'] == \"NaN\" or type(row['Selling Price']) is not str: row['Selling Price'] = \"\"\n",
    "\n",
    "    if row['Product Name'] is not \"\" and row['About Product'] is not \"\":\n",
    "        product_id = insert_product(row)\n",
    "\n",
    "        images = row['Image'].split(sep=\"|\")\n",
    "        img_index = 0\n",
    "\n",
    "        for img in images:\n",
    "            if not img == \"https://images-na.ssl-images-amazon.com/images/G/01/x-locale/common/transparent-pixel.jpg\":\n",
    "                img_ext = get_ext(img)\n",
    "\n",
    "                folder_dest = Path(f\"{IMG_FOLDER_DEST}\\{product_id}{img_ext}\")\n",
    "\n",
    "                if img_index > 0:\n",
    "                    folder_dest = Path(f\"{IMG_FOLDER_DEST}\\{product_id}_{img_index}{img_ext}\")\n",
    "\n",
    "                try:\n",
    "                    file = urllib.request.urlretrieve(img, folder_dest)\n",
    "                    img_index = img_index + 1\n",
    "                except:\n",
    "                    print(f\"Product {product_id}: Error retrieving image ({img})\")\n",
    "\n",
    "                if img_index > 0 : update_image(product_id, \"has_image\")"
   ]
  }
 ],
 "metadata": {
  "kernelspec": {
   "display_name": "Python 3.7 (tensorflow)",
   "language": "python",
   "name": "tensorflow"
  },
  "language_info": {
   "codemirror_mode": {
    "name": "ipython",
    "version": 3
   },
   "file_extension": ".py",
   "mimetype": "text/x-python",
   "name": "python",
   "nbconvert_exporter": "python",
   "pygments_lexer": "ipython3",
   "version": "3.6.13"
  }
 },
 "nbformat": 4,
 "nbformat_minor": 5
}

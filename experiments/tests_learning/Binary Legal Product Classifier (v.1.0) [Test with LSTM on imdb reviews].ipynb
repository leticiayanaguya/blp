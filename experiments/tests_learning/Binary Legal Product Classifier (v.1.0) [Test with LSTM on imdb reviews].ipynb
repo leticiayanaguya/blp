{
 "cells": [
  {
   "cell_type": "markdown",
   "metadata": {},
   "source": [
    "# **BLP**:: **B**inary **L**ega**L** **P**roduct c**L**assifier\n",
    "\n",
    "#### *Versão 1.0: Primeiros testes com Redes Neurais RNN (Recurrent Neural Network) utilizando uma base de filmes*\n",
    "\n",
    "\n",
    "## Objetivo\n",
    "Construir uma rede neural utilizando LSTM (Long Short-Term Memory) para classificação de textos.\n",
    "Os textos são as descrições de produtos. O objetivo final é classificá-los entre produtos legais ou ilegais para comercialização."
   ]
  },
  {
   "cell_type": "markdown",
   "metadata": {},
   "source": [
    "# Setup inicial\n",
    "\n",
    "Importação das bibliotecas do Python e TensorFlow, assim como da `matlplotlib`. Também adiciona uma função para ajudar no preenchimento dos gráficos de análise"
   ]
  },
  {
   "cell_type": "code",
   "execution_count": 1,
   "metadata": {},
   "outputs": [],
   "source": [
    "import matplotlib.pyplot as plt\n",
    "import numpy as np\n",
    "import tensorflow as tf\n",
    "import tensorflow_datasets as tfds\n",
    "\n",
    "tfds.disable_progress_bar()\n",
    "\n",
    "\n",
    "def plot_graphs(history, metric):\n",
    "  plt.plot(history.history[metric])\n",
    "  plt.plot(history.history['val_'+metric], '')\n",
    "  plt.xlabel(\"Épocas\")\n",
    "  plt.ylabel(metric)\n",
    "  plt.legend([metric, 'val_'+metric])"
   ]
  },
  {
   "cell_type": "markdown",
   "metadata": {},
   "source": [
    "#### **Setup dos inputs**\n",
    "\n",
    "Os textos importados pertencem à uma base de filmes. Estamos usando a TFDS, uma coleção de *datasets* do próprio Tensorflow, para fins de facilitar o desenvolvimento para estudos.\n",
    "\n",
    "Os *inputs* para treino são separados entre *reviews* positivas ou negativas, para uma classificação binária.\n",
    "Utilizaremos duas bases: uma para treino (`train`) e outra para que a rede classifique manualmente (`test`).\n",
    "\n",
    "O dataset está dividido em: `text` para o *review* e `label` para a classificação (valores 0 ou 1)."
   ]
  },
  {
   "cell_type": "code",
   "execution_count": 4,
   "metadata": {},
   "outputs": [
    {
     "ename": "AttributeError",
     "evalue": "'tuple' object has no attribute 'numpy'",
     "output_type": "error",
     "traceback": [
      "\u001b[1;31m---------------------------------------------------------------------------\u001b[0m",
      "\u001b[1;31mAttributeError\u001b[0m                            Traceback (most recent call last)",
      "\u001b[1;32m<ipython-input-4-46ac0bcef40f>\u001b[0m in \u001b[0;36m<module>\u001b[1;34m\u001b[0m\n\u001b[0;32m      9\u001b[0m \u001b[1;33m\u001b[0m\u001b[0m\n\u001b[0;32m     10\u001b[0m \u001b[1;32mfor\u001b[0m \u001b[0mline\u001b[0m \u001b[1;32min\u001b[0m \u001b[0mtrain_dataset\u001b[0m\u001b[1;33m.\u001b[0m\u001b[0mtake\u001b[0m\u001b[1;33m(\u001b[0m\u001b[1;36m1\u001b[0m\u001b[1;33m)\u001b[0m\u001b[1;33m:\u001b[0m\u001b[1;33m\u001b[0m\u001b[1;33m\u001b[0m\u001b[0m\n\u001b[1;32m---> 11\u001b[1;33m   \u001b[0mprint\u001b[0m\u001b[1;33m(\u001b[0m\u001b[0mline\u001b[0m\u001b[1;33m.\u001b[0m\u001b[0mnumpy\u001b[0m\u001b[1;33m(\u001b[0m\u001b[1;33m)\u001b[0m\u001b[1;33m)\u001b[0m\u001b[1;33m\u001b[0m\u001b[1;33m\u001b[0m\u001b[0m\n\u001b[0m",
      "\u001b[1;31mAttributeError\u001b[0m: 'tuple' object has no attribute 'numpy'"
     ]
    }
   ],
   "source": [
    "dataset, info = tfds.load('imdb_reviews', with_info=True, as_supervised=True)\n",
    "train_dataset, test_dataset = dataset['train'], dataset['test']\n",
    "\n",
    "train_dataset.element_spec\n",
    "\n",
    "# for review, label in train_dataset.take(1):\n",
    "#   print('text: ', review.numpy())\n",
    "#   print('label: ', label.numpy())"
   ]
  },
  {
   "cell_type": "code",
   "execution_count": 4,
   "metadata": {},
   "outputs": [],
   "source": [
    "BUFFER_SIZE = 10000\n",
    "BATCH_SIZE = 64\n",
    "\n",
    "train_dataset = train_dataset.shuffle(BUFFER_SIZE).batch(BATCH_SIZE).prefetch(tf.data.AUTOTUNE)\n",
    "test_dataset = test_dataset.batch(BATCH_SIZE).prefetch(tf.data.AUTOTUNE)"
   ]
  },
  {
   "cell_type": "markdown",
   "metadata": {},
   "source": [
    "# Primeira camada: processamento dos textos\n",
    "\n",
    "[`TextVectorization`](https://www.tensorflow.org/api_docs/python/tf/keras/layers/experimental/preprocessing/TextVectorization), do Keras, será usado.\n",
    "\n",
    "*Nota: ver quais outras configurações do `TextVectorization` podem ser usadas.*\n",
    "\n",
    "\n",
    "O resultado final será uma lista de 20 tokens, contendo palavras-chave retiradas das *reviews*. Isso será o vocabulário extraído."
   ]
  },
  {
   "cell_type": "code",
   "execution_count": 5,
   "metadata": {},
   "outputs": [],
   "source": [
    "VOCAB_SIZE = 1000\n",
    "encoder = tf.keras.layers.experimental.preprocessing.TextVectorization(\n",
    "    max_tokens=VOCAB_SIZE)\n",
    "encoder.adapt(train_dataset.map(lambda text, label: text))"
   ]
  },
  {
   "cell_type": "code",
   "execution_count": 6,
   "metadata": {},
   "outputs": [],
   "source": [
    "model = tf.keras.Sequential([\n",
    "    encoder,\n",
    "    tf.keras.layers.Embedding(\n",
    "        input_dim=len(encoder.get_vocabulary()),\n",
    "        output_dim=64,\n",
    "        mask_zero=True),\n",
    "    tf.keras.layers.Bidirectional(tf.keras.layers.LSTM(64)),\n",
    "    tf.keras.layers.Dense(64, activation='relu'),\n",
    "    tf.keras.layers.Dense(1)\n",
    "])"
   ]
  },
  {
   "cell_type": "markdown",
   "metadata": {},
   "source": [
    "O próximo passo é configurar o processo de treinamento, compilando o modelo do Keras que iniciamos na sessão anterior."
   ]
  },
  {
   "cell_type": "code",
   "execution_count": 7,
   "metadata": {},
   "outputs": [],
   "source": [
    "model.compile(loss=tf.keras.losses.BinaryCrossentropy(from_logits=True),\n",
    "              optimizer=tf.keras.optimizers.Adam(1e-4),\n",
    "              metrics=['accuracy'])"
   ]
  },
  {
   "cell_type": "markdown",
   "metadata": {},
   "source": [
    "# Treinamento do modelo"
   ]
  },
  {
   "cell_type": "code",
   "execution_count": 8,
   "metadata": {},
   "outputs": [
    {
     "name": "stdout",
     "output_type": "stream",
     "text": [
      "Epoch 1/10\n",
      "391/391 [==============================] - 56s 101ms/step - loss: 0.6821 - accuracy: 0.5154 - val_loss: 0.4433 - val_accuracy: 0.7953\n",
      "Epoch 2/10\n",
      "391/391 [==============================] - 37s 95ms/step - loss: 0.3981 - accuracy: 0.8180 - val_loss: 0.3498 - val_accuracy: 0.8458\n",
      "Epoch 3/10\n",
      "391/391 [==============================] - 37s 96ms/step - loss: 0.3349 - accuracy: 0.8532 - val_loss: 0.3405 - val_accuracy: 0.8557\n",
      "Epoch 4/10\n",
      "391/391 [==============================] - 38s 96ms/step - loss: 0.3176 - accuracy: 0.8614 - val_loss: 0.3285 - val_accuracy: 0.8557\n",
      "Epoch 5/10\n",
      "391/391 [==============================] - 39s 100ms/step - loss: 0.3108 - accuracy: 0.8655 - val_loss: 0.3271 - val_accuracy: 0.8599\n",
      "Epoch 6/10\n",
      "391/391 [==============================] - 39s 100ms/step - loss: 0.3073 - accuracy: 0.8676 - val_loss: 0.3245 - val_accuracy: 0.8521\n",
      "Epoch 7/10\n",
      "391/391 [==============================] - 39s 100ms/step - loss: 0.3016 - accuracy: 0.8700 - val_loss: 0.3325 - val_accuracy: 0.8604\n",
      "Epoch 8/10\n",
      "391/391 [==============================] - 39s 100ms/step - loss: 0.3018 - accuracy: 0.8727 - val_loss: 0.3200 - val_accuracy: 0.8568\n",
      "Epoch 9/10\n",
      "391/391 [==============================] - 38s 98ms/step - loss: 0.2928 - accuracy: 0.8761 - val_loss: 0.3204 - val_accuracy: 0.8552\n",
      "Epoch 10/10\n",
      "391/391 [==============================] - 39s 99ms/step - loss: 0.2873 - accuracy: 0.8767 - val_loss: 0.3182 - val_accuracy: 0.8620\n"
     ]
    }
   ],
   "source": [
    "history = model.fit(train_dataset, epochs=10,\n",
    "                    validation_data=test_dataset,\n",
    "                    validation_steps=30)"
   ]
  },
  {
   "cell_type": "markdown",
   "metadata": {},
   "source": [
    "#### **Analisando dados (perda e precisão/acurácia)**\n",
    "\n",
    "Imprimindo alguns gráficos para analisar a acurácia e a perda das análises.\n",
    "\n",
    "Lembrando: quanto menor a perda, melhor o modelo. É uma somatória de erros calculada analisando os resultados entre os inputs de treino e de teste.\n",
    "\n",
    "Para melhorar esse quesito, pode ser aplicado *backpropagation*, rever a base de dados ou rodar o treinamento mais vezes.\n",
    "\n",
    "No caso de *overfitting*, a perda será naturalmente maior do que deveria. Precisaria rever o *dataset*, aplicar regularizações (talvez?) ou parar de rodar o treinamento tantas vezes para tentar diminuir as perdas.\n",
    "\n",
    "A precisão do modelo é determinada depois que os parâmetros do modelo são aprendidos e corrigidos pela rede, não tendo mais aprendizados ocorrendo. Então as amostras de teste são retornadas ao modelo, e o número de erros (que somados dão a perda) que o modelo teve é registrado, comparando com os valores que deveriam ter sido retornados (o input de treino tem os valores corretos para comparação. Com isso, a porcentagem de classificação feita corretamente é calculada.\n",
    "\n",
    "A precisão é uma porcentagem, mas não a perda.\n",
    "\n",
    "E.g.: Se um dataset possui 1k de dados e a perda é de 48, a precisão do modelo é de 95,2%."
   ]
  },
  {
   "cell_type": "code",
   "execution_count": 9,
   "metadata": {},
   "outputs": [
    {
     "data": {
      "text/plain": [
       "(0.0, 0.6498652055859566)"
      ]
     },
     "execution_count": 9,
     "metadata": {},
     "output_type": "execute_result"
    },
    {
     "data": {
      "image/png": "[encoded data removed]",
      "text/plain": [
       "<Figure size 1152x576 with 2 Axes>"
      ]
     },
     "metadata": {
      "needs_background": "light"
     },
     "output_type": "display_data"
    }
   ],
   "source": [
    "plt.figure(figsize=(16, 8))\n",
    "plt.subplot(1, 2, 1)\n",
    "plot_graphs(history, 'accuracy')\n",
    "plt.ylim(None, 1)\n",
    "plt.subplot(1, 2, 2)\n",
    "plot_graphs(history, 'loss')\n",
    "plt.ylim(0, None)"
   ]
  },
  {
   "cell_type": "markdown",
   "metadata": {},
   "source": [
    "Teste com uma avaliação do LotR"
   ]
  },
  {
   "cell_type": "code",
   "execution_count": 10,
   "metadata": {},
   "outputs": [
    {
     "name": "stdout",
     "output_type": "stream",
     "text": [
      "391/391 [==============================] - 15s 37ms/step - loss: 0.3149 - accuracy: 0.8639\n",
      "Test Loss: 0.31486085057258606\n",
      "Test Accuracy: 0.8639199733734131\n"
     ]
    }
   ],
   "source": [
    "test_loss, test_acc = model.evaluate(test_dataset)\n",
    "\n",
    "print('Test Loss:', test_loss)\n",
    "print('Test Accuracy:', test_acc)"
   ]
  },
  {
   "cell_type": "code",
   "execution_count": 11,
   "metadata": {},
   "outputs": [
    {
     "name": "stdout",
     "output_type": "stream",
     "text": [
      "[[1.1244326]]\n"
     ]
    }
   ],
   "source": [
    "sample_text = ('LotR and trilogy in general, is a cinematic (and literary) masterpiece, '\n",
    "                'and simply refuses to get old. I love this movie so much it is become '\n",
    "                'a tradition to watch the Lord of the Rings series at least once a year!')\n",
    "predictions = model.predict(np.array([sample_text]))\n",
    "\n",
    "print(predictions)"
   ]
  },
  {
   "cell_type": "code",
   "execution_count": 12,
   "metadata": {},
   "outputs": [
    {
     "name": "stdout",
     "output_type": "stream",
     "text": [
      "[[-2.5579739]]\n"
     ]
    }
   ],
   "source": [
    "sample_text = ('I can not believe that this movie received all the awards that it did. '\n",
    "                'It was long, slow-moving, predictable, and the acting was terrible. '\n",
    "                'I can not believe that they cut out over an hours worth of video to '\n",
    "                'get it down to this length')\n",
    "predictions = model.predict(np.array([sample_text]))\n",
    "\n",
    "print(predictions)"
   ]
  },
  {
   "cell_type": "markdown",
   "metadata": {},
   "source": [
    "# Treinando com mais uma camada de LSTM"
   ]
  },
  {
   "cell_type": "code",
   "execution_count": 13,
   "metadata": {},
   "outputs": [],
   "source": [
    "model = tf.keras.Sequential([\n",
    "    encoder,\n",
    "    tf.keras.layers.Embedding(len(encoder.get_vocabulary()), 64, mask_zero=True),\n",
    "    tf.keras.layers.Bidirectional(tf.keras.layers.LSTM(64,  return_sequences=True)),\n",
    "    tf.keras.layers.Bidirectional(tf.keras.layers.LSTM(32)),\n",
    "    tf.keras.layers.Dense(64, activation='relu'),\n",
    "    tf.keras.layers.Dropout(0.5),\n",
    "    tf.keras.layers.Dense(1)\n",
    "])"
   ]
  },
  {
   "cell_type": "code",
   "execution_count": 14,
   "metadata": {},
   "outputs": [],
   "source": [
    "model.compile(loss=tf.keras.losses.BinaryCrossentropy(from_logits=True),\n",
    "              optimizer=tf.keras.optimizers.Adam(1e-4),\n",
    "              metrics=['accuracy'])"
   ]
  },
  {
   "cell_type": "code",
   "execution_count": 15,
   "metadata": {},
   "outputs": [
    {
     "name": "stdout",
     "output_type": "stream",
     "text": [
      "Epoch 1/10\n",
      "391/391 [==============================] - 91s 180ms/step - loss: 0.6867 - accuracy: 0.5101 - val_loss: 0.4699 - val_accuracy: 0.7755\n",
      "Epoch 2/10\n",
      "391/391 [==============================] - 65s 166ms/step - loss: 0.4361 - accuracy: 0.8028 - val_loss: 0.3831 - val_accuracy: 0.8411\n",
      "Epoch 3/10\n",
      "391/391 [==============================] - 65s 167ms/step - loss: 0.3685 - accuracy: 0.8467 - val_loss: 0.3616 - val_accuracy: 0.8458\n",
      "Epoch 4/10\n",
      "391/391 [==============================] - 64s 165ms/step - loss: 0.3349 - accuracy: 0.8624 - val_loss: 0.3958 - val_accuracy: 0.8495\n",
      "Epoch 5/10\n",
      "391/391 [==============================] - 64s 164ms/step - loss: 0.3403 - accuracy: 0.8583 - val_loss: 0.3349 - val_accuracy: 0.8510\n",
      "Epoch 6/10\n",
      "391/391 [==============================] - 63s 162ms/step - loss: 0.3223 - accuracy: 0.8619 - val_loss: 0.3418 - val_accuracy: 0.8380\n",
      "Epoch 7/10\n",
      "391/391 [==============================] - 65s 165ms/step - loss: 0.3097 - accuracy: 0.8682 - val_loss: 0.3248 - val_accuracy: 0.8531\n",
      "Epoch 8/10\n",
      "391/391 [==============================] - 65s 166ms/step - loss: 0.3035 - accuracy: 0.8727 - val_loss: 0.3223 - val_accuracy: 0.8490\n",
      "Epoch 9/10\n",
      "391/391 [==============================] - 62s 159ms/step - loss: 0.3064 - accuracy: 0.8721 - val_loss: 0.3337 - val_accuracy: 0.8458\n",
      "Epoch 10/10\n",
      "391/391 [==============================] - 63s 161ms/step - loss: 0.2984 - accuracy: 0.8719 - val_loss: 0.3212 - val_accuracy: 0.8536\n"
     ]
    }
   ],
   "source": [
    "history = model.fit(train_dataset, epochs=10,\n",
    "                    validation_data=test_dataset,\n",
    "                    validation_steps=30)"
   ]
  },
  {
   "cell_type": "code",
   "execution_count": 16,
   "metadata": {},
   "outputs": [
    {
     "name": "stdout",
     "output_type": "stream",
     "text": [
      "[[-1.6970426]]\n"
     ]
    }
   ],
   "source": [
    "# predict on a sample text without padding.\n",
    "\n",
    "sample_text = ('The movie was not good. The animation and the graphics '\n",
    "               'were terrible. I would not recommend this movie.')\n",
    "predictions = model.predict(np.array([sample_text]))\n",
    "print(predictions)"
   ]
  },
  {
   "cell_type": "code",
   "execution_count": 17,
   "metadata": {},
   "outputs": [
    {
     "data": {
      "image/png": "[encoded data removed]",
      "text/plain": [
       "<Figure size 1152x432 with 2 Axes>"
      ]
     },
     "metadata": {
      "needs_background": "light"
     },
     "output_type": "display_data"
    }
   ],
   "source": [
    "plt.figure(figsize=(16, 6))\n",
    "plt.subplot(1, 2, 1)\n",
    "plot_graphs(history, 'accuracy')\n",
    "plt.subplot(1, 2, 2)\n",
    "plot_graphs(history, 'loss')"
   ]
  },
  {
   "cell_type": "code",
   "execution_count": 18,
   "metadata": {},
   "outputs": [
    {
     "name": "stdout",
     "output_type": "stream",
     "text": [
      "[[0.9063699]]\n"
     ]
    }
   ],
   "source": [
    "sample_text = ('LotR and trilogy in general, is a cinematic (and literary) masterpiece, '\n",
    "                'and simply refuses to get old. I love this movie so much it is become '\n",
    "                'a tradition to watch the Lord of the Rings series at least once a year!')\n",
    "predictions = model.predict(np.array([sample_text]))\n",
    "\n",
    "print(predictions)"
   ]
  },
  {
   "cell_type": "code",
   "execution_count": 19,
   "metadata": {},
   "outputs": [
    {
     "name": "stdout",
     "output_type": "stream",
     "text": [
      "[[-3.3470213]]\n"
     ]
    }
   ],
   "source": [
    "sample_text = ('I can not believe that this movie received all the awards that it did. '\n",
    "                'It was long, slow-moving, predictable, and the acting was terrible. '\n",
    "                'I can not believe that they cut out over an hours worth of video to '\n",
    "                'get it down to this length')\n",
    "predictions = model.predict(np.array([sample_text]))\n",
    "\n",
    "print(predictions)"
   ]
  },
  {
   "cell_type": "code",
   "execution_count": 20,
   "metadata": {},
   "outputs": [],
   "source": [
    "# import tensorflow as tf\n",
    "# gpus = tf.config.experimental.list_physical_devices('GPU')\n",
    "# for gpu in gpus:\n",
    "#     print(\"Name:\", gpu.name, \"  Type:\", gpu.device_type)"
   ]
  }
 ],
 "metadata": {
  "kernelspec": {
   "display_name": "Python 3",
   "language": "python",
   "name": "python3"
  },
  "language_info": {
   "codemirror_mode": {
    "name": "ipython",
    "version": 3
   },
   "file_extension": ".py",
   "mimetype": "text/x-python",
   "name": "python",
   "nbconvert_exporter": "python",
   "pygments_lexer": "ipython3",
   "version": "3.6.13"
  }
 },
 "nbformat": 4,
 "nbformat_minor": 4
}

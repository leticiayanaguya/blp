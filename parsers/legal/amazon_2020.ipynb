{
 "cells": [
  {
   "cell_type": "code",
   "execution_count": 1,
   "id": "d78cf7a4",
   "metadata": {},
   "outputs": [],
   "source": [
    "import math\n",
    "import mysql.connector as mysql\n",
    "import numpy as np\n",
    "import os\n",
    "import pandas as pd\n",
    "import re\n",
    "import urllib.request\n",
    "\n",
    "from os.path import splitext\n",
    "from pathlib import Path\n",
    "from PIL import ImageFile"
   ]
  },
  {
   "cell_type": "code",
   "execution_count": 2,
   "id": "8f1a7c78",
   "metadata": {},
   "outputs": [],
   "source": [
    "# GENERAL CONFIGS\n",
    "ImageFile.LOAD_TRUNCATED_IMAGES = True\n",
    "\n",
    "# == Database config ==\n",
    "conn = mysql.connect(\n",
    "  host=\"localhost\",\n",
    "  user=\"root\",\n",
    "  password=\"root\"\n",
    ")\n",
    "\n",
    "cursor = conn.cursor()\n",
    "\n",
    "# == Files config ==\n",
    "FILE_FOLDER = r\"D:\\legal_data\\amazon_2020.csv\"\n",
    "fdata=pd.read_csv(Path(FILE_FOLDER))\n",
    "IMG_FOLDER_DEST = r\"D:\\images\\_amazon\"\n",
    "\n",
    "DB_NAME = \"blp_dataset\"\n",
    "TABLE_NAME = \"products_tmp_amazon\""
   ]
  },
  {
   "cell_type": "code",
   "execution_count": 3,
   "id": "c175e534",
   "metadata": {},
   "outputs": [],
   "source": [
    "# Creating environment\n",
    "cursor.execute(\"CREATE DATABASE IF NOT EXISTS {} DEFAULT CHARACTER SET 'utf8'\".format(DB_NAME))\n",
    "cursor.execute(\"USE {}\".format(DB_NAME))\n",
    "\n",
    "cursor.execute(\"DROP TABLE IF EXISTS products_tmp_amazon\")"
   ]
  },
  {
   "cell_type": "code",
   "execution_count": 4,
   "id": "ae6c2623",
   "metadata": {},
   "outputs": [],
   "source": [
    "table_schema = (\n",
    "    \"CREATE TABLE IF NOT EXISTS products_tmp_amazon (\"\n",
    "    \"  id INT(11) AUTO_INCREMENT PRIMARY KEY NOT NULL,\"\n",
    "    \"  name TEXT NOT NULL,\"\n",
    "    \"  description TEXT,\"\n",
    "    \"  market_name VARCHAR(255),\"\n",
    "    \"  seller_name TEXT,\"\n",
    "    \"  illegal ENUM('t', 'f') NOT NULL DEFAULT 'f'\"\n",
    "    \") ENGINE=InnoDB\")\n",
    "\n",
    "cursor.execute(table_schema)"
   ]
  },
  {
   "cell_type": "code",
   "execution_count": 5,
   "id": "3733f3f3",
   "metadata": {
    "scrolled": true
   },
   "outputs": [
    {
     "data": {
      "text/plain": [
       "Index(['Uniq Id', 'Product Name', 'Brand Name', 'Asin', 'Category',\n",
       "       'Upc Ean Code', 'List Price', 'Selling Price', 'Quantity',\n",
       "       'Model Number', 'About Product', 'Product Specification',\n",
       "       'Technical Details', 'Shipping Weight', 'Product Dimensions', 'Image',\n",
       "       'Variants', 'Sku', 'Product Url', 'Stock', 'Product Details',\n",
       "       'Dimensions', 'Color', 'Ingredients', 'Direction To Use',\n",
       "       'Is Amazon Seller', 'Size Quantity Variant', 'Product Description'],\n",
       "      dtype='object')"
      ]
     },
     "execution_count": 5,
     "metadata": {},
     "output_type": "execute_result"
    }
   ],
   "source": [
    "fdata.columns"
   ]
  },
  {
   "cell_type": "code",
   "execution_count": 6,
   "id": "70bdd4ac",
   "metadata": {},
   "outputs": [
    {
     "data": {
      "text/plain": [
       "Index(['Product Name', 'About Product', 'Image'], dtype='object')"
      ]
     },
     "execution_count": 6,
     "metadata": {},
     "output_type": "execute_result"
    }
   ],
   "source": [
    "# Deleting unwanted columns\n",
    "del_list = ['Uniq Id', 'Brand Name', 'Asin', 'Category', 'Upc Ean Code', 'List Price', 'Selling Price', 'Quantity', \n",
    "            'Model Number', 'Product Specification', 'Technical Details', 'Shipping Weight', 'Product Dimensions', 'Variants',\n",
    "            'Sku', 'Product Url', 'Stock', 'Product Details', 'Dimensions', 'Color', 'Ingredients', 'Direction To Use', \n",
    "            'Is Amazon Seller', 'Size Quantity Variant', 'Product Description']\n",
    "\n",
    "fdata = fdata.drop(del_list, axis = 1)\n",
    "\n",
    "fdata.columns"
   ]
  },
  {
   "cell_type": "code",
   "execution_count": 7,
   "id": "7421b85d",
   "metadata": {},
   "outputs": [],
   "source": [
    "def clear_text(text):\n",
    "    clear_content = re.sub(r'[\\t\\r\\n]', ' ', text)\n",
    "    clear_content = re.sub(' +',' ', clear_content).lstrip()\n",
    "\n",
    "    return clear_content"
   ]
  },
  {
   "cell_type": "code",
   "execution_count": 8,
   "id": "e74dee37",
   "metadata": {},
   "outputs": [],
   "source": [
    "def insert_product(row):   \n",
    "    encoded_string = row['About Product'].encode('utf-8', \"ignore\")\n",
    "    description = encoded_string.decode()\n",
    "    \n",
    "    description = description.replace(\"Make sure this fits by entering your model number. | \", \"\")\n",
    "    description = re.sub('[👍🌍📱✅【】👐🔬⚗️⚙️🧜😎🔴🔵🙌🌿🎁🦄💃👜⭐💦]', '', description)\n",
    "    description = clear_text(description.replace(' | ', ''))\n",
    "    \n",
    "    query = \"INSERT INTO products_tmp_amazon (name, description, market_name, illegal) VALUES (%s, %s, %s, %s)\"\n",
    "    values = (row['Product Name'], description, \"Amazon - 2020\", \"f\")\n",
    "\n",
    "    cursor.execute(query, values)\n",
    "    conn.commit()\n",
    "\n",
    "    return cursor.lastrowid"
   ]
  },
  {
   "cell_type": "code",
   "execution_count": 9,
   "id": "b8994401",
   "metadata": {},
   "outputs": [
    {
     "name": "stdout",
     "output_type": "stream",
     "text": [
      "Product 450: Error retrieving image (https://m.media-amazon.com/images/I/A13usaonutL.jpg)\n",
      "Product 776: Error retrieving image (https://m.media-amazon.com/images/I/A13usaonutL.jpg)\n",
      "Product 2139: Error retrieving image (https://m.media-amazon.com/images/I/A13usaonutL.jpg)\n",
      "Product 3393: Error retrieving image (https://m.media-amazon.com/images/I/A1nYNISnPeL.jpg)\n",
      "Product 3478: Error retrieving image (https://m.media-amazon.com/images/I/A13usaonutL.jpg)\n",
      "Product 3661: Error retrieving image (https://m.media-amazon.com/images/I/A13usaonutL.jpg)\n",
      "Product 4813: Error retrieving image (https://images-na.ssl-images-amazon.com/images/I/71Q33N6MEVL.jpg)\n",
      "Product 5174: Error retrieving image (https://m.media-amazon.com/images/I/B1qmQK-r4OS.jpg)\n",
      "Product 5258: Error retrieving image (https://m.media-amazon.com/images/I/A13usaonutL.jpg)\n",
      "Product 5988: Error retrieving image (https://m.media-amazon.com/images/I/A13usaonutL.jpg)\n",
      "Product 6380: Error retrieving image (https://m.media-amazon.com/images/I/A13usaonutL.jpg)\n",
      "Product 6714: Error retrieving image (https://images-na.ssl-images-amazon.com/images/I/01RmK%2BJ4pJL.jpg)\n",
      "Product 6726: Error retrieving image (https://images-na.ssl-images-amazon.com/images/I/01RmK%2BJ4pJL.jpg)\n",
      "Product 6789: Error retrieving image (https://m.media-amazon.com/images/I/A13usaonutL.jpg)\n",
      "Product 6882: Error retrieving image (https://m.media-amazon.com/images/I/A13usaonutL.jpg)\n",
      "Product 6912: Error retrieving image (https://images-na.ssl-images-amazon.com/images/I/01RmK%2BJ4pJL.jpg)\n",
      "Product 7169: Error retrieving image (https://m.media-amazon.com/images/I/A13usaonutL.jpg)\n",
      "Product 7217: Error retrieving image (https://images-na.ssl-images-amazon.com/images/I/01RmK%2BJ4pJL.jpg)\n",
      "Product 7285: Error retrieving image (https://images-na.ssl-images-amazon.com/images/I/01RmK%2BJ4pJL.jpg)\n",
      "Product 7343: Error retrieving image (https://m.media-amazon.com/images/I/A13usaonutL.jpg)\n",
      "Product 7749: Error retrieving image (https://m.media-amazon.com/images/I/A13usaonutL.jpg)\n",
      "Product 8041: Error retrieving image (https://m.media-amazon.com/images/I/A13usaonutL.jpg)\n",
      "Product 8210: Error retrieving image (https://m.media-amazon.com/images/I/A13usaonutL.jpg)\n",
      "Product 8526: Error retrieving image (https://m.media-amazon.com/images/I/A13usaonutL.jpg)\n",
      "Product 8563: Error retrieving image (https://m.media-amazon.com/images/I/A13usaonutL.jpg)\n",
      "Product 8574: Error retrieving image (https://images-na.ssl-images-amazon.com/images/I/01RmK%2BJ4pJL.jpg)\n",
      "Product 8802: Error retrieving image (https://m.media-amazon.com/images/I/B1EryObaEWS.jpg)\n",
      "Product 8825: Error retrieving image (https://m.media-amazon.com/images/I/91IM87eeuCL.jpg)\n",
      "Product 9271: Error retrieving image (https://images-na.ssl-images-amazon.com/images/I/01RmK%2BJ4pJL.jpg)\n",
      "Product 9319: Error retrieving image (https://m.media-amazon.com/images/I/A13usaonutL.jpg)\n",
      "Product 9699: Error retrieving image (https://images-na.ssl-images-amazon.com/images/I/516iN9jCWgL.jpg)\n"
     ]
    }
   ],
   "source": [
    "for index, row in fdata.iterrows():\n",
    "    if row['Product Name'] == \"NaN\" or type(row['Product Name']) is not str: row['Product Name'] = \"\"\n",
    "    if row['About Product'] == \"NaN\" or type(row['About Product']) is not str: row['About Product'] = \"\"\n",
    "\n",
    "    if row['Product Name'] is not \"\" and row['About Product'] is not \"\":\n",
    "        product_id = insert_product(row)\n",
    "\n",
    "        image = row['Image'].split(sep=\"|\")[0]\n",
    "\n",
    "        folder_dest = Path(f\"{IMG_FOLDER_DEST}\\{product_id}.jpeg\")\n",
    "\n",
    "        try:\n",
    "            file = urllib.request.urlretrieve(image, folder_dest)\n",
    "        except:\n",
    "            print(f\"Product {product_id}: Error retrieving image ({image})\")"
   ]
  },
  {
   "cell_type": "code",
   "execution_count": null,
   "id": "28cf5ff4",
   "metadata": {},
   "outputs": [],
   "source": []
  }
 ],
 "metadata": {
  "kernelspec": {
   "display_name": "Python 3.7 (tensorflow)",
   "language": "python",
   "name": "tensorflow"
  },
  "language_info": {
   "codemirror_mode": {
    "name": "ipython",
    "version": 3
   },
   "file_extension": ".py",
   "mimetype": "text/x-python",
   "name": "python",
   "nbconvert_exporter": "python",
   "pygments_lexer": "ipython3",
   "version": "3.6.13"
  }
 },
 "nbformat": 4,
 "nbformat_minor": 5
}

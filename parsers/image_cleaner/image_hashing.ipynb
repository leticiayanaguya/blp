{
 "cells": [
  {
   "cell_type": "code",
   "execution_count": 19,
   "id": "d5571330",
   "metadata": {},
   "outputs": [],
   "source": [
    "from pathlib import Path\n",
    "from PIL import Image\n",
    "from PIL import ImageFile\n",
    "\n",
    "import imagehash\n",
    "import os"
   ]
  },
  {
   "cell_type": "code",
   "execution_count": 20,
   "id": "ec400a7c",
   "metadata": {},
   "outputs": [],
   "source": [
    "ImageFile.LOAD_TRUNCATED_IMAGES = True\n",
    "\n",
    "folder = Path(r\"D:\\images\\dream_market\")\n",
    "duplicated_ones = []"
   ]
  },
  {
   "cell_type": "markdown",
   "id": "c87b6c8b",
   "metadata": {},
   "source": [
    "### Average hashing\n",
    "Average hashing is the simplest algorithm which uses only a few transformation.\n",
    "Scale the image, convert to greyscale, calculate the mean and binarize the greyscale based on the mean.\n",
    "Now convert the binary image into the integer."
   ]
  },
  {
   "cell_type": "code",
   "execution_count": 21,
   "id": "a3cda1a6",
   "metadata": {},
   "outputs": [],
   "source": [
    "average = []\n",
    "a_img_hashes = {}\n",
    "error_files = []\n",
    "duplicated_ones = []\n",
    "\n",
    "for image in os.listdir(folder):\n",
    "    image_path = Path(f\"{folder}\\{image}\")\n",
    "    \n",
    "    try:\n",
    "        hash = imagehash.average_hash(Image.open(image_path))\n",
    "\n",
    "        if hash in a_img_hashes:\n",
    "             duplicated_ones.append(str(image))\n",
    "#             average.append('{} duplicate of {}'.format(image, a_img_hashes[hash]))\n",
    "             os.remove(image_path)\n",
    "        else:\n",
    "            a_img_hashes[hash] = image\n",
    "    except:\n",
    "        error_files.append(image)"
   ]
  },
  {
   "cell_type": "code",
   "execution_count": 23,
   "id": "57585e80",
   "metadata": {},
   "outputs": [
    {
     "name": "stdout",
     "output_type": "stream",
     "text": [
      "['11191.jpg', '12174.jpg', '128.jpg', '13010.jpg', '13544.jpg', '136.jpg', '14254.jpg', '14761.jpg', '14811.jpg', '1515.jpg', '15188.jpg', '15277.jpg', '15377.jpg', '15397.jpg', '1593.jpg', '15931.jpg', '1636.jpg', '16432.jpg', '1645.jpg', '16750.jpg', '16924.jpg', '16963.jpg', '17219.jpg', '17263.jpg', '17443.jpg', '17957.jpg', '17964.jpg', '17966.jpg', '17991.jpg', '18005.jpg', '18080.jpg', '18103.jpg', '18110.jpg', '18153.jpg', '18237.jpg', '18269.jpg', '18338.jpg', '18345.jpg', '18349.jpg', '18441.jpg', '18527.jpg', '18552.jpg', '19360.jpg', '19677.jpg', '19903.jpg', '20150.jpg', '20448.jpg', '21126.jpg', '21276.jpg', '21396.jpg', '21402.jpg', '21481.jpg', '21695.jpg', '21817.jpg', '22003.jpg', '22316.jpg', '22602.jpg', '22635.jpg', '23135.jpg', '23185.jpg', '23259.jpg', '24659.jpg', '24754.jpg', '24903.jpg', '25093.jpg', '25288.jpg', '2586.jpg', '2594.jpg', '27059.jpg', '27635.jpg', '27957.jpg', '28309.jpg', '28615.jpg', '28669.jpg', '28924.jpg', '29045.jpg', '29094.jpg', '2929.jpg', '29374.jpg', '3019.jpg', '31164.jpg', '31731.jpg', '3196.jpg', '3274.jpg', '33996.jpg', '34324.jpg', '35005.jpg', '36607.jpg', '36870.jpg', '37036.jpg', '37096.jpg', '37102.jpg', '37121.jpg', '3724.jpg', '37291.jpg', '3750.jpg', '38201.jpg', '38760.jpg', '38961.jpg', '39074.jpg', '39250.jpg', '39264.jpg', '39284.jpg', '39405.jpg', '39727.jpg', '39813.jpg', '39949.jpg', '40576.jpg', '4070.jpg', '4080.jpg', '40818.jpg', '4085.jpg', '40861.jpg', '4102.jpg', '41160.jpg', '4122.jpg', '4126.jpg', '41352.jpg', '4151.jpg', '41908.jpg', '42236.jpg', '42442.jpg', '42467.jpg', '42531.jpg', '42680.jpg', '42929.jpg', '43110.jpg', '43364.jpg', '43480.jpg', '44.jpg', '44020.jpg', '44025.jpg', '44133.jpg', '44183.jpg', '44337.jpg', '44643.jpg', '44717.jpg', '44758.jpg', '44945.jpg', '44966.jpg', '45013.jpg', '45029.jpg', '45187.jpg', '45814.jpg', '46390.jpg', '47299.jpg', '47881.jpg', '47996.jpg', '48040.jpg', '48068.jpg', '48319.jpg', '48359.jpg', '48381.jpg', '48562.jpg', '48642.jpg', '48791.jpg', '49159.jpg', '49248.jpg', '49530.jpg', '49606.jpg', '49630.jpg', '49642.jpg', '49667.jpg', '49694.jpg', '49703.jpg', '49747.jpg', '49785.jpg', '49790.jpg', '49797.jpg', '49801.jpg', '49834.jpg', '49916.jpg', '49984.jpg', '50018.jpg', '50053.jpg', '50115.jpg', '50143.jpg', '50167.jpg', '50195.jpg', '50228.jpg', '50300.jpg', '50309.jpg', '50390.jpg', '50555.jpg', '50861.jpg', '50879.jpg', '50914.jpg', '50950.jpg', '51029.jpg', '51041.jpg', '51053.jpg', '51311.jpg', '51316.jpg', '51340.jpg', '51348.jpg', '51407.jpg', '51459.jpg', '51466.jpg', '51469.jpg', '51545.jpg', '51637.jpg', '51727.jpg', '51754.jpg', '51804.jpg', '51847.jpg', '51850.jpg', '51870.jpg', '51928.jpg', '51988.jpg', '51994.jpg', '52039.jpg', '5247.jpg', '52837.jpg', '53051.jpg', '5361.jpg', '54.jpg', '54680.jpg', '54837.jpg', '54853.jpg', '54896.jpg', '54973.jpg', '55117.jpg', '55256.jpg', '55289.jpg', '55339.jpg', '55391.jpg', '55469.jpg', '55541.jpg', '55623.jpg', '55812.jpg', '5588.jpg', '55932.jpg', '56049.jpg', '56143.jpg', '56251.jpg', '56268.jpg', '56293.jpg', '56296.jpg', '56340.jpg', '56388.jpg', '56401.jpg', '56530.jpg', '56621.jpg', '56702.jpg', '56942.jpg', '57352.jpg', '5933.jpg', '60588.jpg', '61464.jpg', '62098.jpg', '63398.jpg', '6343.jpg', '64174.jpg', '64226.jpg', '64368.jpg', '64783.jpg', '64939.jpg', '65620.jpg', '65624.jpg', '65723.jpg', '65851.jpg', '65883.jpg', '66037.jpg', '66059.jpg', '66079.jpg', '66296.jpg', '66453.jpg', '66484.jpg', '66579.jpg', '66790.jpg', '66851.jpg', '66915.jpg', '67005.jpg', '67103.jpg', '67110.jpg', '67330.jpg', '67529.jpg', '67574.jpg', '67576.jpg', '67988.jpg', '68006.jpg', '6805.jpg', '68085.jpg', '68145.jpg', '69029.jpg', '69282.jpg', '69435.jpg', '7003.jpg', '70381.jpg', '71049.jpg', '7269.jpg', '72979.jpg', '74916.jpg', '75279.jpg', '772.jpg', '78.jpg', '799.jpg', '80.jpg', '8071.jpg', '8148.jpg', '8255.jpg', '832.jpg', '836.jpg', '845.jpg', '8645.jpg', '8647.jpg', '8698.jpg', '87.jpg', '8719.jpg', '8753.jpg', '896.jpg', '8971.jpg', '9.jpg', '9075.jpg', '913.jpg', '916.jpg', '92.jpg', '9539.jpg', '9830.jpg']\n"
     ]
    }
   ],
   "source": [
    "print(duplicated_ones)"
   ]
  },
  {
   "cell_type": "markdown",
   "id": "b320328d",
   "metadata": {},
   "source": [
    "### P-Hash\n",
    "Perceptual hash uses similar approach but instead of averaging relies on discrete cosine transformation."
   ]
  },
  {
   "cell_type": "code",
   "execution_count": 6,
   "id": "ee4ed9ea",
   "metadata": {},
   "outputs": [],
   "source": [
    "phash = []\n",
    "p_img_hashes = {}\n",
    "error_files = []\n",
    "\n",
    "for image in os.listdir(folder):\n",
    "    image_path = Path(f\"{folder}\\{image}\")\n",
    "    \n",
    "    try:\n",
    "        hash = imagehash.phash(Image.open(image_path))\n",
    "\n",
    "        if hash in p_img_hashes:\n",
    "            phash.append('{} duplicate of {}'.format(image, p_img_hashes[hash]))\n",
    "    #         os.remove(image_path)\n",
    "        else:\n",
    "            p_img_hashes[hash] = image\n",
    "    except:\n",
    "        error_files.append(image)"
   ]
  },
  {
   "cell_type": "code",
   "execution_count": 7,
   "id": "071a7426",
   "metadata": {},
   "outputs": [
    {
     "name": "stdout",
     "output_type": "stream",
     "text": [
      "2995\n"
     ]
    }
   ],
   "source": [
    "print(len(p_img_hashes))"
   ]
  },
  {
   "cell_type": "markdown",
   "id": "76b456ea",
   "metadata": {},
   "source": [
    "### D-Hash\n",
    " Difference hash uses the same approach as a-hash, but instead of using information about average values, it uses gradients (difference between adjacent pixels)."
   ]
  },
  {
   "cell_type": "code",
   "execution_count": 8,
   "id": "a6382008",
   "metadata": {},
   "outputs": [],
   "source": [
    "dhash = []\n",
    "d_img_hashes = {}\n",
    "error_files = []\n",
    "\n",
    "for image in os.listdir(folder):\n",
    "    image_path = Path(f\"{folder}\\{image}\")\n",
    "    \n",
    "    try:\n",
    "        hash = imagehash.dhash(Image.open(image_path))\n",
    "\n",
    "        if hash in d_img_hashes:\n",
    "    #         duplicated_ones.append(str(image))\n",
    "            dhash.append('{} duplicate of {}'.format(image, d_img_hashes[hash]))\n",
    "    #         os.remove(image_path)\n",
    "        else:\n",
    "            d_img_hashes[hash] = image\n",
    "    except:\n",
    "        error_files.append(image)"
   ]
  },
  {
   "cell_type": "code",
   "execution_count": 9,
   "id": "2bc4341e",
   "metadata": {},
   "outputs": [
    {
     "name": "stdout",
     "output_type": "stream",
     "text": [
      "2986\n"
     ]
    }
   ],
   "source": [
    "print(len(d_img_hashes))"
   ]
  },
  {
   "cell_type": "markdown",
   "id": "2906d07e",
   "metadata": {},
   "source": [
    "### Wavelet hashing\n",
    "Discrete Wavelet Transformation (DWT) is another form of frequency representation."
   ]
  },
  {
   "cell_type": "code",
   "execution_count": 10,
   "id": "6f7bb91f",
   "metadata": {},
   "outputs": [],
   "source": [
    "colorhash = []\n",
    "color_img_hashes = {}\n",
    "error_files = []\n",
    "\n",
    "for image in os.listdir(folder):\n",
    "    image_path = Path(f\"{folder}\\{image}\")\n",
    "    \n",
    "    try:\n",
    "        hash = imagehash.colorhash(Image.open(image_path))\n",
    "\n",
    "        if hash in color_img_hashes:\n",
    "    #         duplicated_ones.append(str(image))\n",
    "            colorhash.append('{} duplicate of {}'.format(image, color_img_hashes[hash]))\n",
    "    #         os.remove(image_path)\n",
    "        else:\n",
    "            color_img_hashes[hash] = image\n",
    "    except:\n",
    "        error_files.append(image)"
   ]
  },
  {
   "cell_type": "code",
   "execution_count": 11,
   "id": "264aeafc",
   "metadata": {},
   "outputs": [
    {
     "name": "stdout",
     "output_type": "stream",
     "text": [
      "1234\n"
     ]
    }
   ],
   "source": [
    "print(len(color_img_hashes))"
   ]
  },
  {
   "cell_type": "markdown",
   "id": "ede87e48",
   "metadata": {},
   "source": [
    "## Comparison between image hashing techniques"
   ]
  },
  {
   "cell_type": "code",
   "execution_count": null,
   "id": "c2839377",
   "metadata": {},
   "outputs": [],
   "source": [
    "print(f\"Number of repeated images\")\n",
    "print(f\"Average Hashing: {len(average)}\")\n",
    "print(f\"P-Hash: {len(phash)}\")\n",
    "print(f\"D-Hash: {len(dhash)}\")\n",
    "print(f\"Wavelet Hashing: {len(colorhash)}\")"
   ]
  },
  {
   "cell_type": "code",
   "execution_count": 13,
   "id": "9f6ecc36",
   "metadata": {
    "scrolled": false
   },
   "outputs": [
    {
     "name": "stdout",
     "output_type": "stream",
     "text": [
      "12174.jpg duplicate of 12074.jpg\n",
      "13010.jpg duplicate of 12074.jpg\n",
      "136.jpg duplicate of 11425.jpg\n",
      "1515.jpg duplicate of 10182.jpg\n",
      "15377.jpg duplicate of 12074.jpg\n",
      "1593.jpg duplicate of 1524.jpg\n",
      "15931.jpg duplicate of 10003.jpg\n",
      "16432.jpg duplicate of 16416.jpg\n",
      "16750.jpg duplicate of 11087.jpg\n",
      "16924.jpg duplicate of 16630.jpg\n",
      "17219.jpg duplicate of 17016.jpg\n",
      "17957.jpg duplicate of 14729.jpg\n",
      "17964.jpg duplicate of 14874.jpg\n",
      "18005.jpg duplicate of 15299.jpg\n",
      "18103.jpg duplicate of 15258.jpg\n",
      "18237.jpg duplicate of 15351.jpg\n",
      "18338.jpg duplicate of 14737.jpg\n",
      "18349.jpg duplicate of 15351.jpg\n",
      "18441.jpg duplicate of 18158.jpg\n",
      "18527.jpg duplicate of 15188.jpg\n",
      "19360.jpg duplicate of 18116.jpg\n",
      "20150.jpg duplicate of 19333.jpg\n",
      "21276.jpg duplicate of 11087.jpg\n",
      "21396.jpg duplicate of 11087.jpg\n",
      "21481.jpg duplicate of 21126.jpg\n",
      "23135.jpg duplicate of 21817.jpg\n",
      "23259.jpg duplicate of 22559.jpg\n",
      "24553.jpg duplicate of 23908.jpg\n",
      "24754.jpg duplicate of 23106.jpg\n",
      "24903.jpg duplicate of 23038.jpg\n",
      "25288.jpg duplicate of 24659.jpg\n",
      "2586.jpg duplicate of 25117.jpg\n",
      "2594.jpg duplicate of 25536.jpg\n",
      "27635.jpg duplicate of 21523.jpg\n",
      "27879.jpg duplicate of 18282.jpg\n",
      "27890.jpg duplicate of 27619.jpg\n",
      "27957.jpg duplicate of 27167.jpg\n",
      "28309.jpg duplicate of 13567.jpg\n",
      "28615.jpg duplicate of 17.jpg\n",
      "30450.jpg duplicate of 28017.jpg\n",
      "31164.jpg duplicate of 20478.jpg\n",
      "32284.jpg duplicate of 28575.jpg\n",
      "3274.jpg duplicate of 3112.jpg\n",
      "34324.jpg duplicate of 21389.jpg\n",
      "35005.jpg duplicate of 20478.jpg\n",
      "37036.jpg duplicate of 16630.jpg\n",
      "3724.jpg duplicate of 11935.jpg\n",
      "37291.jpg duplicate of 14757.jpg\n",
      "38760.jpg duplicate of 36732.jpg\n",
      "39103.jpg duplicate of 2679.jpg\n",
      "39727.jpg duplicate of 38017.jpg\n",
      "39813.jpg duplicate of 39627.jpg\n",
      "4085.jpg duplicate of 11272.jpg\n",
      "4151.jpg duplicate of 11087.jpg\n",
      "41908.jpg duplicate of 39231.jpg\n",
      "42442.jpg duplicate of 42236.jpg\n",
      "42523.jpg duplicate of 42030.jpg\n",
      "42680.jpg duplicate of 42011.jpg\n",
      "42929.jpg duplicate of 42236.jpg\n",
      "43480.jpg duplicate of 42779.jpg\n",
      "43878.jpg duplicate of 11087.jpg\n",
      "44.jpg duplicate of 1.jpg\n",
      "44025.jpg duplicate of 40166.jpg\n",
      "44133.jpg duplicate of 39405.jpg\n",
      "44717.jpg duplicate of 44463.jpg\n",
      "45013.jpg duplicate of 27997.jpg\n",
      "45187.jpg duplicate of 39428.jpg\n",
      "45814.jpg duplicate of 40576.jpg\n",
      "47881.jpg duplicate of 31135.jpg\n",
      "47996.jpg duplicate of 39231.jpg\n",
      "48068.jpg duplicate of 37337.jpg\n",
      "48359.jpg duplicate of 21389.jpg\n",
      "49159.jpg duplicate of 27997.jpg\n",
      "49718.jpg duplicate of 41.jpg\n",
      "49790.jpg duplicate of 11087.jpg\n",
      "50018.jpg duplicate of 39148.jpg\n",
      "50228.jpg duplicate of 42531.jpg\n",
      "50300.jpg duplicate of 11198.jpg\n",
      "51041.jpg duplicate of 4110.jpg\n",
      "51316.jpg duplicate of 40524.jpg\n",
      "51340.jpg duplicate of 50950.jpg\n",
      "51407.jpg duplicate of 43968.jpg\n",
      "51459.jpg duplicate of 50319.jpg\n",
      "51545.jpg duplicate of 51386.jpg\n",
      "51637.jpg duplicate of 11087.jpg\n",
      "51754.jpg duplicate of 50950.jpg\n",
      "51928.jpg duplicate of 50950.jpg\n",
      "52039.jpg duplicate of 14705.jpg\n",
      "52054.jpg duplicate of 51925.jpg\n",
      "5247.jpg duplicate of 4787.jpg\n",
      "5336.jpg duplicate of 23278.jpg\n",
      "54.jpg duplicate of 11373.jpg\n",
      "54896.jpg duplicate of 37585.jpg\n",
      "55289.jpg duplicate of 50319.jpg\n",
      "55812.jpg duplicate of 54853.jpg\n",
      "55981.jpg duplicate of 55124.jpg\n",
      "56143.jpg duplicate of 51413.jpg\n",
      "56251.jpg duplicate of 55623.jpg\n",
      "56340.jpg duplicate of 56049.jpg\n",
      "56388.jpg duplicate of 56049.jpg\n",
      "56401.jpg duplicate of 54853.jpg\n",
      "56621.jpg duplicate of 54853.jpg\n",
      "56702.jpg duplicate of 39581.jpg\n",
      "5933.jpg duplicate of 51139.jpg\n",
      "62098.jpg duplicate of 50369.jpg\n",
      "63398.jpg duplicate of 56818.jpg\n",
      "64227.jpg duplicate of 11087.jpg\n",
      "65620.jpg duplicate of 47863.jpg\n",
      "65624.jpg duplicate of 40821.jpg\n",
      "65723.jpg duplicate of 3196.jpg\n",
      "65847.jpg duplicate of 25117.jpg\n",
      "66059.jpg duplicate of 47697.jpg\n",
      "66209.jpg duplicate of 43871.jpg\n",
      "66484.jpg duplicate of 47563.jpg\n",
      "66538.jpg duplicate of 36890.jpg\n",
      "66775.jpg duplicate of 54252.jpg\n",
      "66790.jpg duplicate of 38086.jpg\n",
      "66851.jpg duplicate of 56615.jpg\n",
      "66915.jpg duplicate of 40524.jpg\n",
      "67330.jpg duplicate of 30243.jpg\n",
      "67483.jpg duplicate of 20522.jpg\n",
      "67574.jpg duplicate of 65862.jpg\n",
      "67576.jpg duplicate of 39148.jpg\n",
      "68006.jpg duplicate of 47299.jpg\n",
      "6805.jpg duplicate of 37428.jpg\n",
      "68085.jpg duplicate of 47583.jpg\n",
      "69282.jpg duplicate of 11087.jpg\n",
      "7003.jpg duplicate of 27966.jpg\n",
      "74916.jpg duplicate of 36719.jpg\n",
      "75279.jpg duplicate of 21766.jpg\n",
      "78.jpg duplicate of 47882.jpg\n",
      "8071.jpg duplicate of 16012.jpg\n",
      "8148.jpg duplicate of 8058.jpg\n",
      "8255.jpg duplicate of 7762.jpg\n",
      "8305.jpg duplicate of 19321.jpg\n",
      "832.jpg duplicate of 788.jpg\n",
      "8698.jpg duplicate of 11287.jpg\n",
      "87.jpg duplicate of 12.jpg\n",
      "8719.jpg duplicate of 15405.jpg\n",
      "896.jpg duplicate of 60756.jpg\n",
      "9.jpg duplicate of 11443.jpg\n",
      "9075.jpg duplicate of 8119.jpg\n",
      "913.jpg duplicate of 42291.jpg\n",
      "916.jpg duplicate of 36739.jpg\n",
      "92.jpg duplicate of 32.jpg\n"
     ]
    }
   ],
   "source": [
    "list(set(average) - set(dhash))\n",
    "# list(set(dhash) - set(average))\n",
    "# list(set(colorhash) - set(average))\n",
    "\n",
    "# list(set(phash) - set(dhash))\n",
    "# list(set(phash) - set(colorhash))\n",
    "\n",
    "# list(set(dhash) - set(colorhash))\n",
    "\n",
    "for i in dhash:\n",
    "    print(i)"
   ]
  },
  {
   "cell_type": "code",
   "execution_count": null,
   "id": "11ad8472",
   "metadata": {},
   "outputs": [],
   "source": []
  }
 ],
 "metadata": {
  "kernelspec": {
   "display_name": "Python 3",
   "language": "python",
   "name": "python3"
  },
  "language_info": {
   "codemirror_mode": {
    "name": "ipython",
    "version": 3
   },
   "file_extension": ".py",
   "mimetype": "text/x-python",
   "name": "python",
   "nbconvert_exporter": "python",
   "pygments_lexer": "ipython3",
   "version": "3.6.13"
  }
 },
 "nbformat": 4,
 "nbformat_minor": 5
}

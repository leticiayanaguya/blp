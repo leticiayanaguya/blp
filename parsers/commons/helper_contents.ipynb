{
 "cells": [
  {
   "cell_type": "code",
   "execution_count": null,
   "id": "30125f41",
   "metadata": {},
   "outputs": [],
   "source": [
    "def get_content(content):\n",
    "    clear_content = \"\"\n",
    "\n",
    "    if content is not None:\n",
    "        raw_c = content.text\n",
    "\n",
    "        clear_content = re.sub(r'[\\t\\r\\n]', ' ', raw_c)\n",
    "        clear_content = re.sub(' +',' ', clear_content).lstrip()\n",
    "        \n",
    "    return clear_content"
   ]
  }
 ],
 "metadata": {
  "kernelspec": {
   "display_name": "Python 3.7 (tensorflow)",
   "language": "python",
   "name": "tensorflow"
  },
  "language_info": {
   "codemirror_mode": {
    "name": "ipython",
    "version": 3
   },
   "file_extension": ".py",
   "mimetype": "text/x-python",
   "name": "python",
   "nbconvert_exporter": "python",
   "pygments_lexer": "ipython3",
   "version": "3.6.13"
  }
 },
 "nbformat": 4,
 "nbformat_minor": 5
}

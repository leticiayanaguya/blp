{
 "cells": [
  {
   "cell_type": "code",
   "execution_count": 1,
   "id": "d2e88696",
   "metadata": {},
   "outputs": [],
   "source": [
    "from fnmatch import fnmatch\n",
    "from PIL import Image\n",
    "from PIL import ImageFile\n",
    "from pathlib import Path\n",
    "from shutil import copyfile\n",
    "\n",
    "import imagehash\n",
    "import mysql.connector\n",
    "import os\n",
    "import re"
   ]
  },
  {
   "cell_type": "code",
   "execution_count": 2,
   "id": "b3a270d5",
   "metadata": {},
   "outputs": [],
   "source": [
    "# GENERAL CONFIGS\n",
    "\n",
    "# == Database config ==\n",
    "conn = mysql.connector.connect(\n",
    "  host=\"localhost\",\n",
    "  user=\"root\",\n",
    "  password=\"root\"\n",
    ")\n",
    "\n",
    "cursor = conn.cursor(buffered=True)\n",
    "\n",
    "DB_NAME = \"blp_dataset\"\n",
    "TABLE_NAME = \"products_dataset\"\n",
    "\n",
    "cursor.execute(\"USE {}\".format(DB_NAME))"
   ]
  },
  {
   "cell_type": "code",
   "execution_count": 3,
   "id": "4f002b0f",
   "metadata": {},
   "outputs": [],
   "source": [
    "# CLEAR REPEATED TEXTS\n",
    "cursor.execute(\"SELECT * FROM \" + TABLE_NAME)\n",
    "rows = cursor.fetchall()"
   ]
  },
  {
   "cell_type": "code",
   "execution_count": 5,
   "id": "0dc8b874",
   "metadata": {},
   "outputs": [],
   "source": [
    "for row in rows:\n",
    "    desc = row[1].encode('ASCII', 'ignore').strip()\n",
    "\n",
    "    query = \"UPDATE \" + TABLE_NAME + \" SET name = %s WHERE id = %s\"\n",
    "    cursor.execute(query, (desc, row[0]))\n",
    "    conn.commit()"
   ]
  },
  {
   "cell_type": "code",
   "execution_count": null,
   "id": "0e7091ef",
   "metadata": {},
   "outputs": [],
   "source": []
  }
 ],
 "metadata": {
  "kernelspec": {
   "display_name": "Python 3.7 (tensorflow)",
   "language": "python",
   "name": "tensorflow"
  },
  "language_info": {
   "codemirror_mode": {
    "name": "ipython",
    "version": 3
   },
   "file_extension": ".py",
   "mimetype": "text/x-python",
   "name": "python",
   "nbconvert_exporter": "python",
   "pygments_lexer": "ipython3",
   "version": "3.6.13"
  }
 },
 "nbformat": 4,
 "nbformat_minor": 5
}

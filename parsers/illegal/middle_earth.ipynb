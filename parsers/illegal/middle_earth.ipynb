{
 "cells": [
  {
   "cell_type": "code",
   "execution_count": null,
   "id": "93daf831",
   "metadata": {},
   "outputs": [],
   "source": [
    "%run ../commons/imports.ipynb\n",
    "%run ../commons/helper_db.ipynb\n",
    "%run ../commons/helper_contents.ipynb"
   ]
  },
  {
   "cell_type": "code",
   "execution_count": null,
   "id": "2d74497d",
   "metadata": {},
   "outputs": [],
   "source": [
    "MAIN_FOLDER = main_folder(\"middleearth\")\n",
    "\n",
    "create_database('blp_dataset')\n",
    "create_table('products_me')"
   ]
  },
  {
   "cell_type": "code",
   "execution_count": null,
   "id": "771919b0",
   "metadata": {},
   "outputs": [],
   "source": [
    "original_images = []\n",
    "\n",
    "folders = [x for x in Path(MAIN_FOLDER).iterdir() if x.is_dir()]\n",
    "\n",
    "for fo in folders:\n",
    "    folder = Path(f\"{fo}\\product\")\n",
    "    folder_image = Path(f\"{fo}\")\n",
    "\n",
    "    if folder.exists():\n",
    "        for folder_up in os.listdir(folder):\n",
    "            path_folder_up = Path(f\"{folder}\\{folder_up}\")\n",
    "\n",
    "            for file in os.listdir(path_folder_up):\n",
    "                page_content = BeautifulSoup(open(Path(f\"{path_folder_up}\\{file}\"), encoding='utf8').read())\n",
    "\n",
    "            if page_content is not None:\n",
    "                ## GET DESCRIPTION\n",
    "                description = \"\"\n",
    "                desc_content = page_content.findAll(\"div\", attrs = {\"class\": \"description\"})\n",
    "\n",
    "                if desc_content is not None and len(desc_content) > 1:\n",
    "                    raw_desc = desc_content[1]\n",
    "\n",
    "                    if raw_desc is not None:\n",
    "                        description = get_content(raw_desc)\n",
    "\n",
    "                ## GET TITLE\n",
    "                title = \"\"\n",
    "                raw_title = page_content.find(\"div\", attrs = {\"class\": \"product-header-left\"})\n",
    "                \n",
    "                if raw_title is not None:\n",
    "                    content_title = raw_title.find(\"h1\")\n",
    "\n",
    "                    if content_title is not None:\n",
    "                        title = get_content(content_title)\n",
    "\n",
    "                if description != \"\" or title != \"\":\n",
    "                    # Insert product into database\n",
    "                    query = \"INSERT INTO products_tmp_me (name, description, market_name, illegal) VALUES (%s, %s, %s, %s)\"\n",
    "                    values = (title, description, \"Middle Earth\", \"t\")\n",
    "\n",
    "                    cursor.execute(query, values)\n",
    "                    conn.commit()\n",
    "\n",
    "                    product_id = cursor.lastrowid\n",
    "\n",
    "                    ## GET IMAGE\n",
    "                    img_content = page_content.find(\"div\", attrs = {\"class\": \"image\"})\n",
    "                    img_name = \"\"\n",
    "\n",
    "                    if img_content is not None:\n",
    "                        img_a = img_content.find(\"a\")\n",
    "                        \n",
    "                        if img_a is not None:\n",
    "                            img_name = img_a[\"href\"]\n",
    "                    \n",
    "                            if img_name is not \"\":\n",
    "                                url_image = Path(f\"{folder_image}\\{img_name}\")\n",
    "\n",
    "                                # copy images to new directory, renaming with product id\n",
    "                                if url_image.exists():\n",
    "                                    print(f\"Image {product_id} exists... creating\")\n",
    "\n",
    "                                    dst_dir = Path(f\"D:\\images\\_middleearth\\{product_id}.jpg\")\n",
    "                                    copyfile(url_image, dst_dir)\n",
    "                                else:\n",
    "                                    print(f\"Image {product_id} does not exists\")"
   ]
  },
  {
   "cell_type": "code",
   "execution_count": null,
   "id": "7669c0e1",
   "metadata": {},
   "outputs": [],
   "source": []
  }
 ],
 "metadata": {
  "kernelspec": {
   "display_name": "Python 3.7 (tensorflow)",
   "language": "python",
   "name": "tensorflow"
  },
  "language_info": {
   "codemirror_mode": {
    "name": "ipython",
    "version": 3
   },
   "file_extension": ".py",
   "mimetype": "text/x-python",
   "name": "python",
   "nbconvert_exporter": "python",
   "pygments_lexer": "ipython3",
   "version": "3.6.13"
  }
 },
 "nbformat": 4,
 "nbformat_minor": 5
}

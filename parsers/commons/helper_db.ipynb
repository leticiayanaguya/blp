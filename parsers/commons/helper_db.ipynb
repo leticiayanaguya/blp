{
 "cells": [
  {
   "cell_type": "code",
   "execution_count": null,
   "id": "d88fa555",
   "metadata": {},
   "outputs": [],
   "source": [
    "# GENERAL CONFIGS\n",
    "ImageFile.LOAD_TRUNCATED_IMAGES = True\n",
    "\n",
    "# == Database config ==\n",
    "conn = mysql.connector.connect(\n",
    "  host=os.environ['DB_HOST'],\n",
    "  user=os.environ['DB_USER'],\n",
    "  password=os.environ['DB_PASS']\n",
    ")\n",
    "\n",
    "cursor = conn.cursor()"
   ]
  },
  {
   "cell_type": "code",
   "execution_count": null,
   "id": "ece1deef",
   "metadata": {},
   "outputs": [],
   "source": [
    "# == Files config ==\n",
    "def main_folder(market):\n",
    "    return(f\"D:\\dnmarchives\\{market}\")"
   ]
  },
  {
   "cell_type": "code",
   "execution_count": null,
   "id": "dcbd1c9f",
   "metadata": {},
   "outputs": [],
   "source": [
    "def create_database(db_name):\n",
    "    # Creating environment\n",
    "    cursor.execute(\"CREATE DATABASE IF NOT EXISTS {} DEFAULT CHARACTER SET 'utf8'\".format(db_name))\n",
    "    cursor.execute(\"USE {}\".format(db_name))"
   ]
  },
  {
   "cell_type": "code",
   "execution_count": null,
   "id": "85b59d47",
   "metadata": {},
   "outputs": [],
   "source": [
    "def create_table(table_name):\n",
    "    cursor.execute(\n",
    "        \"CREATE TABLE IF NOT EXISTS \" + table_name + \" (\"\n",
    "        \"  id INT(11) AUTO_INCREMENT PRIMARY KEY NOT NULL,\"\n",
    "        \"  name TEXT NOT NULL,\"\n",
    "        \"  description TEXT,\"\n",
    "        \"  price VARCHAR(50),\"\n",
    "        \"  market_name VARCHAR(255),\"\n",
    "        \"  seller_name TEXT,\"\n",
    "        \"  has_image VARCHAR(25) NOT NULL DEFAULT 'has_image',\"\n",
    "        \"  illegal ENUM('t', 'f') NOT NULL DEFAULT 't'\"\n",
    "        \") ENGINE=InnoDB\")"
   ]
  },
  {
   "cell_type": "code",
   "execution_count": null,
   "id": "69d870d4",
   "metadata": {},
   "outputs": [],
   "source": [
    "def update_image(table, product_id, value):\n",
    "    query = \"UPDATE \" + table + \" SET has_image = %s WHERE id = %s\"\n",
    "    cursor.execute(query, (value, product_id))\n",
    "    conn.commit()"
   ]
  }
 ],
 "metadata": {
  "kernelspec": {
   "display_name": "Python 3.7 (tensorflow)",
   "language": "python",
   "name": "tensorflow"
  },
  "language_info": {
   "codemirror_mode": {
    "name": "ipython",
    "version": 3
   },
   "file_extension": ".py",
   "mimetype": "text/x-python",
   "name": "python",
   "nbconvert_exporter": "python",
   "pygments_lexer": "ipython3",
   "version": "3.6.13"
  }
 },
 "nbformat": 4,
 "nbformat_minor": 5
}

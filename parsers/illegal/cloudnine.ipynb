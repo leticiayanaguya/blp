{
 "cells": [
  {
   "cell_type": "code",
   "execution_count": null,
   "id": "93daf831",
   "metadata": {},
   "outputs": [],
   "source": [
    "%run ../commons/imports.ipynb\n",
    "%run ../commons/helper_db.ipynb\n",
    "%run ../commons/helper_contents.ipynb"
   ]
  },
  {
   "cell_type": "code",
   "execution_count": null,
   "id": "2d74497d",
   "metadata": {},
   "outputs": [],
   "source": [
    "MAIN_FOLDER = main_folder(\"cloudnine\")\n",
    "\n",
    "create_database('blp_dataset')\n",
    "create_table('products_tmp_cloudnine')"
   ]
  },
  {
   "cell_type": "code",
   "execution_count": null,
   "id": "771919b0",
   "metadata": {},
   "outputs": [],
   "source": [
    "images = []\n",
    "regex = re.compile(\".*?\\([.*?]\\)\")\n",
    "\n",
    "folders = [x for x in Path(MAIN_FOLDER).iterdir() if x.is_dir()]\n",
    "\n",
    "for fo in folders:\n",
    "    folder = Path(f\"{fo}\")\n",
    "    folder_image = Path(f\"{fo}\")\n",
    "\n",
    "    if folder.exists():\n",
    "        for file in os.listdir(folder):\n",
    "            \n",
    "            if \"_product_id\" in file:\n",
    "                with open(Path(f\"{folder}\\{file}\")) as file_c:\n",
    "                    try:\n",
    "                        file_c = file_c.read()\n",
    "                        page_content = BeautifulSoup(file_c)\n",
    "\n",
    "                        if page_content is not None:\n",
    "                            ## GET DESCRIPTION\n",
    "                            description = \"\"\n",
    "                            desc_content = page_content.find(\"div\", attrs={\"style\": \"padding-right: 320px;\"})\n",
    "\n",
    "                            if desc_content is not None:\n",
    "                                description = get_content(desc_content)\n",
    "\n",
    "                            ## GET TITLE\n",
    "                            title = \"\"\n",
    "                            title_content = page_content.find(\"h3\")\n",
    "\n",
    "                            if title_content is not None:\n",
    "                                title_content.find('a')\n",
    "\n",
    "                                if title_content is not None:\n",
    "                                    title_content = title_content.decompose()\n",
    "                                    title_to_clear = get_content(title_content).replace(\" - \", \"\")\n",
    "\n",
    "                                    title = re.sub(r'\\[.*\\]', '', title_to_clear)\n",
    "\n",
    "                                if description != \"\" or title != \"\":\n",
    "                                    # Insert product into database\n",
    "                                    query = \"INSERT INTO products_tmp_cloudnine (name, description, market_name, illegal) VALUES (%s, %s, %s, %s)\"\n",
    "                                    values = (title, description, \"Cloudnine\", \"t\")\n",
    "\n",
    "                                    cursor.execute(query, values)\n",
    "                                    conn.commit()\n",
    "\n",
    "                                    product_id = cursor.lastrowid\n",
    "\n",
    "                                    # GET IMAGE\n",
    "                                    raw_name = page_content.find(\"center\")\n",
    "\n",
    "                                    if raw_name is not None:\n",
    "                                        raw_image = raw_name.find(\"a\")\n",
    "\n",
    "                                        if raw_image is not None:\n",
    "                                            img_name = raw_image[\"href\"]\n",
    "                                            url_image = Path(f\"{folder_image}\\{img_name}\")\n",
    "\n",
    "                                            if url_image.exists():\n",
    "                                                print(f\"Image {product_id} exists... creating\")\n",
    "\n",
    "                                                dst_dir = Path(f\"D:\\images\\_cloudnine\\{product_id}.jpg\")\n",
    "                                                copyfile(url_image, dst_dir)\n",
    "\n",
    "                                            else:\n",
    "                                                print(f\"Image {product_id} does not exists\")\n",
    "                    except:\n",
    "                        print(f\"Error {file}\")"
   ]
  },
  {
   "cell_type": "code",
   "execution_count": null,
   "id": "ef2adb23",
   "metadata": {},
   "outputs": [],
   "source": []
  },
  {
   "cell_type": "code",
   "execution_count": null,
   "id": "4eef710c",
   "metadata": {},
   "outputs": [],
   "source": []
  }
 ],
 "metadata": {
  "kernelspec": {
   "display_name": "Python 3.7 (tensorflow)",
   "language": "python",
   "name": "tensorflow"
  },
  "language_info": {
   "codemirror_mode": {
    "name": "ipython",
    "version": 3
   },
   "file_extension": ".py",
   "mimetype": "text/x-python",
   "name": "python",
   "nbconvert_exporter": "python",
   "pygments_lexer": "ipython3",
   "version": "3.6.13"
  }
 },
 "nbformat": 4,
 "nbformat_minor": 5
}

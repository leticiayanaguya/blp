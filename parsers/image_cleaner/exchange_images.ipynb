{
 "cells": [
  {
   "cell_type": "code",
   "execution_count": null,
   "id": "8fbfbac8",
   "metadata": {},
   "outputs": [],
   "source": [
    "%run ../commons/imports_cleaner.ipynb"
   ]
  },
  {
   "cell_type": "code",
   "execution_count": null,
   "id": "915380dd",
   "metadata": {},
   "outputs": [],
   "source": [
    "## GENERAL CONFIGS\n",
    "TO_STAY = r\"D:\\images\\test\"\n",
    "TO_GO = r\"D:\\images\\excluded_product\\p_illegal\"\n",
    "DEST_FOLDER = r\"D:\\images\\illegal\"\n",
    "\n",
    "folder_with_id = Path(TO_GO)\n",
    "folder_to_get = Path(TO_STAY)"
   ]
  },
  {
   "cell_type": "code",
   "execution_count": null,
   "id": "fdbe405a",
   "metadata": {},
   "outputs": [],
   "source": [
    "## Exchange images between folders\n",
    "\n",
    "for image in os.listdir(folder_with_id):\n",
    "    image_path = Path(f\"{folder_with_id}\\{image}\")\n",
    "    \n",
    "    os.remove(image_path)\n",
    "    \n",
    "    first = os.listdir(folder_to_get)[0]\n",
    "    first_path = Path(f\"{folder_to_get}\\{first}\")\n",
    "\n",
    "    print(first_path)\n",
    "    print(image_path)\n",
    "\n",
    "    copyfile(first_path, image_path)\n",
    "    os.remove(first_path)"
   ]
  }
 ],
 "metadata": {
  "kernelspec": {
   "display_name": "Python 3",
   "language": "python",
   "name": "python3"
  },
  "language_info": {
   "codemirror_mode": {
    "name": "ipython",
    "version": 3
   },
   "file_extension": ".py",
   "mimetype": "text/x-python",
   "name": "python",
   "nbconvert_exporter": "python",
   "pygments_lexer": "ipython3",
   "version": "3.6.13"
  }
 },
 "nbformat": 4,
 "nbformat_minor": 5
}

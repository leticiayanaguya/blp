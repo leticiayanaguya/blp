{
 "cells": [
  {
   "cell_type": "markdown",
   "id": "560598c3",
   "metadata": {},
   "source": [
    "## ToDO\n",
    "\n",
    "Lembrar de:\n",
    "- Rodar o Dream Market de novo e atualizar os produtos que não têm imagem;\n",
    "- Quando rodar o script para retirar as imagens repetidas, guardar os ids das que serão excluídas e atualizar o banco com elas (ou fazer um script que procura pelo id e vai atualizando. Talvez isso seja melhor, porque vai te poupar de rodar de novo);"
   ]
  },
  {
   "cell_type": "code",
   "execution_count": null,
   "id": "9ed944ad",
   "metadata": {},
   "outputs": [],
   "source": []
  }
 ],
 "metadata": {
  "kernelspec": {
   "display_name": "Python 3.7 (tensorflow)",
   "language": "python",
   "name": "tensorflow"
  },
  "language_info": {
   "codemirror_mode": {
    "name": "ipython",
    "version": 3
   },
   "file_extension": ".py",
   "mimetype": "text/x-python",
   "name": "python",
   "nbconvert_exporter": "python",
   "pygments_lexer": "ipython3",
   "version": "3.6.13"
  }
 },
 "nbformat": 4,
 "nbformat_minor": 5
}

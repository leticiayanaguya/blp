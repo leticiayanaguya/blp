{
 "cells": [
  {
   "cell_type": "code",
   "execution_count": 1,
   "id": "0629867b",
   "metadata": {},
   "outputs": [],
   "source": [
    "from bs4 import BeautifulSoup\n",
    "from fnmatch import fnmatch\n",
    "from PIL import Image\n",
    "from PIL import ImageFile\n",
    "from psycopg2 import sql\n",
    "from pathlib import Path\n",
    "from shutil import copyfile\n",
    "\n",
    "import base64\n",
    "import imagehash\n",
    "import mysql.connector\n",
    "import os\n",
    "import re\n",
    "\n",
    "ImageFile.LOAD_TRUNCATED_IMAGES = True"
   ]
  }
 ],
 "metadata": {
  "kernelspec": {
   "display_name": "Python 3.7 (tensorflow)",
   "language": "python",
   "name": "tensorflow"
  },
  "language_info": {
   "codemirror_mode": {
    "name": "ipython",
    "version": 3
   },
   "file_extension": ".py",
   "mimetype": "text/x-python",
   "name": "python",
   "nbconvert_exporter": "python",
   "pygments_lexer": "ipython3",
   "version": "3.6.13"
  }
 },
 "nbformat": 4,
 "nbformat_minor": 5
}

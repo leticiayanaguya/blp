{
 "cells": [
  {
   "cell_type": "code",
   "execution_count": 36,
   "id": "93daf831",
   "metadata": {},
   "outputs": [],
   "source": [
    "from bs4 import BeautifulSoup\n",
    "from fnmatch import fnmatch\n",
    "from PIL import Image\n",
    "from PIL import ImageFile\n",
    "from pathlib import Path\n",
    "from shutil import copyfile\n",
    "\n",
    "import base64\n",
    "import imagehash\n",
    "import mysql.connector\n",
    "import os\n",
    "import re"
   ]
  },
  {
   "cell_type": "code",
   "execution_count": 37,
   "id": "2d74497d",
   "metadata": {},
   "outputs": [],
   "source": [
    "# GENERAL CONFIGS\n",
    "\n",
    "ImageFile.LOAD_TRUNCATED_IMAGES = True\n",
    "\n",
    "# == Database config ==\n",
    "conn = mysql.connector.connect(\n",
    "  host=\"localhost\",\n",
    "  user=\"root\",\n",
    "  password=\"root\"\n",
    ")\n",
    "\n",
    "cursor = conn.cursor()\n",
    "\n",
    "DB_NAME = \"blp_dataset\"\n",
    "TABLE_NAME = \"products_tmp_2\"\n",
    "\n",
    "\n",
    "# == Files config ==\n",
    "MAIN_FOLDER = r\"D:\\dnmarchives\\dnmarchives\\sheep\\sheep\\2013-12-03\""
   ]
  },
  {
   "cell_type": "code",
   "execution_count": 38,
   "id": "9f1d0027",
   "metadata": {},
   "outputs": [],
   "source": [
    "# Creating environment\n",
    "cursor.execute(\"CREATE DATABASE IF NOT EXISTS {} DEFAULT CHARACTER SET 'utf8'\".format(DB_NAME))\n",
    "cursor.execute(\"USE {}\".format(DB_NAME))"
   ]
  },
  {
   "cell_type": "code",
   "execution_count": 39,
   "id": "004f8408",
   "metadata": {},
   "outputs": [],
   "source": [
    "table_schema = (\n",
    "    \"CREATE TABLE IF NOT EXISTS products_tmp_2 (\"\n",
    "    \"  id INT(11) AUTO_INCREMENT PRIMARY KEY NOT NULL,\"\n",
    "    \"  name TEXT NOT NULL,\"\n",
    "    \"  description TEXT,\"\n",
    "    \"  price VARCHAR(50),\"\n",
    "    \"  market_name VARCHAR(255),\"\n",
    "    \"  seller_name TEXT,\"\n",
    "    \"  has_image VARCHAR(25) NOT NULL DEFAULT 'has_image',\"\n",
    "    \"  illegal ENUM('t', 'f') NOT NULL DEFAULT 't'\"\n",
    "    \") ENGINE=InnoDB\")\n",
    "\n",
    "cursor.execute(table_schema)"
   ]
  },
  {
   "cell_type": "code",
   "execution_count": 40,
   "id": "fc200b8c",
   "metadata": {},
   "outputs": [],
   "source": [
    "def update_image(product_id, value):\n",
    "    query = \"UPDATE products_tmp_2 SET has_image = %s WHERE id = %s\"\n",
    "    cursor.execute(query, (value, product_id))\n",
    "    conn.commit()"
   ]
  },
  {
   "cell_type": "code",
   "execution_count": 41,
   "id": "65c2d6f8",
   "metadata": {},
   "outputs": [],
   "source": [
    "def get_content(content):\n",
    "    clear_content = \"\"\n",
    "\n",
    "    if content is not None:\n",
    "        raw_c = content.text\n",
    "\n",
    "        clear_content = re.sub(r'[\\t\\r\\n]', ' ', raw_c)\n",
    "        clear_content = re.sub(' +',' ', clear_content).lstrip()\n",
    "        \n",
    "    return clear_content"
   ]
  },
  {
   "cell_type": "code",
   "execution_count": 44,
   "id": "771919b0",
   "metadata": {},
   "outputs": [
    {
     "name": "stdout",
     "output_type": "stream",
     "text": [
      "Image 196 has error. Except\n",
      "Image 265 has error. Except\n",
      "Image 471 has error. Except\n",
      "Image 1830 has error. Except\n",
      "Image 2184 has error. Except\n",
      "Image 2923 has error. Except\n",
      "Image 3005 has error. Except\n",
      "Image 3175 has error. Except\n",
      "Image 3516 has error. Except\n",
      "Image 3612 has error. Except\n",
      "Image 3730 has error. Except\n",
      "Image 3899 has error. Except\n",
      "Image 4177 has error. Except\n",
      "Image 4285 has error. Except\n",
      "Image 4340 has error. Except\n",
      "Image 4787 has error. Except\n",
      "Image 4803 has error. Except\n",
      "Image 4871 has error. Except\n",
      "Image 4873 has error. Except\n",
      "Image 4968 has error. Except\n",
      "Image 4988 has error. Except\n"
     ]
    }
   ],
   "source": [
    "original_images = []\n",
    "\n",
    "folder = Path(f\"{MAIN_FOLDER}\\market\\item\")\n",
    "\n",
    "for file in os.listdir(folder):\n",
    "    page_content = BeautifulSoup(open(Path(f\"{folder}\\{file}\"), encoding='utf8').read())\n",
    "            \n",
    "    if page_content is not None:\n",
    "        ## GET DESCRIPTION\n",
    "        raw_description = page_content.find(\"td\", attrs={\"style\": \"background-color: #F8F8F8;\"})\n",
    "        description = get_content(raw_description)\n",
    "\n",
    "        ## GET TITLE\n",
    "        raw_title = page_content.find(\"h4\")\n",
    "        title = get_content(raw_title)\n",
    "\n",
    "        ## GET SELLER\n",
    "        raw_seller = page_content.find(\"a\", attrs={\"title\": \"Send a message\"})\n",
    "        seller = get_content(raw_seller)\n",
    "\n",
    "        if description != \"\" or title != \"\":\n",
    "            # Insert product into database\n",
    "            query = \"INSERT INTO products_tmp_2 (name, description, market_name, seller_name, illegal) VALUES (%s, %s, %s, %s, %s)\"\n",
    "            values = (title, description, \"Sheep\", seller_name, \"t\")\n",
    "\n",
    "            cursor.execute(query, values)\n",
    "            conn.commit()\n",
    "\n",
    "            product_id = cursor.lastrowid\n",
    "\n",
    "            ## GET IMAGE\n",
    "            raw_image = page_content.find(\"img\")\n",
    "            \n",
    "            if raw_image is not None:\n",
    "                try:\n",
    "                    image = raw_image[\"src\"]\n",
    "                except IndexError:\n",
    "                    print(f\"Image {product_id} has no src\")\n",
    "                    update_image(product_id, \"no_image\")\n",
    "                \n",
    "                if image is not \"\":\n",
    "                    try:\n",
    "                        data = \"\" + image.replace(\"data:image/jpeg;base64,\", \"\")\n",
    "                        imgdata = base64.b64decode(data)\n",
    "\n",
    "                        img_filename = Path(f\"D:\\images\\p\\{product_id}.jpg\")\n",
    "\n",
    "                        with open(img_filename, 'wb') as f:\n",
    "                            f.write(imgdata)\n",
    "                            f.close\n",
    "                    except:\n",
    "                        print(f\"Image {product_id} has error. Except\")\n",
    "                        update_image(product_id, \"no_image\")\n",
    "            else:\n",
    "                    print(f\"Image {product_id} has no image\")\n",
    "                    update_image(product_id, \"no_image\")"
   ]
  },
  {
   "cell_type": "code",
   "execution_count": null,
   "id": "f4439822",
   "metadata": {},
   "outputs": [],
   "source": []
  },
  {
   "cell_type": "code",
   "execution_count": null,
   "id": "25067b30",
   "metadata": {},
   "outputs": [],
   "source": []
  }
 ],
 "metadata": {
  "kernelspec": {
   "display_name": "Python 3.7 (tensorflow)",
   "language": "python",
   "name": "tensorflow"
  },
  "language_info": {
   "codemirror_mode": {
    "name": "ipython",
    "version": 3
   },
   "file_extension": ".py",
   "mimetype": "text/x-python",
   "name": "python",
   "nbconvert_exporter": "python",
   "pygments_lexer": "ipython3",
   "version": "3.6.13"
  }
 },
 "nbformat": 4,
 "nbformat_minor": 5
}

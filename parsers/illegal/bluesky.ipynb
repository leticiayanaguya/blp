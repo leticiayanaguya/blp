{
 "cells": [
  {
   "cell_type": "code",
   "execution_count": null,
   "id": "93daf831",
   "metadata": {},
   "outputs": [],
   "source": [
    "%run ../commons/imports.ipynb\n",
    "%run ../commons/helper_db.ipynb\n",
    "%run ../commons/helper_contents.ipynb"
   ]
  },
  {
   "cell_type": "code",
   "execution_count": null,
   "id": "2d74497d",
   "metadata": {},
   "outputs": [],
   "source": [
    "MAIN_FOLDER = main_folder(\"bluesky\")\n",
    "\n",
    "create_database('blp_dataset')\n",
    "create_table('products_tmp_bluesky')"
   ]
  },
  {
   "cell_type": "code",
   "execution_count": null,
   "id": "771919b0",
   "metadata": {},
   "outputs": [],
   "source": [
    "folders = [x for x in Path(MAIN_FOLDER).iterdir() if x.is_dir()]\n",
    "\n",
    "for fo in folders:\n",
    "    folder = Path(f\"{fo}\\product\\\\view\")\n",
    "    folder_image = Path(f\"{fo}\")\n",
    "\n",
    "    if folder.exists():\n",
    "        for file in os.listdir(folder):\n",
    "            page_content = BeautifulSoup(open(Path(f\"{folder}\\{file}\"), encoding='utf8').read())\n",
    "\n",
    "            if page_content is not None:\n",
    "                ## GET DESCRIPTION\n",
    "                description = \"\"\n",
    "                raw_desc = page_content.find(\"div\", attrs={\"style\": \"margin-top:0px; \"})\n",
    "\n",
    "                if raw_desc is not None:\n",
    "                    description = get_content(raw_desc)\n",
    "\n",
    "                    if description is not None:\n",
    "                        description = description.replace(\"Description: \", \"\")\n",
    "\n",
    "                ## GET TITLE\n",
    "                title = \"\"\n",
    "                raw_title = page_content.find(\"div\", attrs={\"class\": \"prod_title\"})\n",
    "                \n",
    "                if raw_title is not None:\n",
    "                    title = get_content(raw_title)\n",
    "                    \n",
    "                if description != \"\" or title != \"\":\n",
    "                    # Insert product into database\n",
    "                    query = \"INSERT INTO products_tmp_bluesky (name, description, market_name, illegal) VALUES (%s, %s, %s, %s)\"\n",
    "                    values = (title, description, \"Blue Sky\", \"t\")\n",
    "\n",
    "                    cursor.execute(query, values)\n",
    "                    conn.commit()\n",
    "\n",
    "                    product_id = cursor.lastrowid\n",
    "\n",
    "                    ## GET IMAGE\n",
    "                    img_content = page_content.find(\"img\")\n",
    "\n",
    "                    if img_content is not None:\n",
    "                        image = img_content[\"src\"]\n",
    "\n",
    "                        try:\n",
    "                            data = \"\" + image.replace(\"data:image/jpeg;base64,\", \"\")\n",
    "                            imgdata = base64.b64decode(data)\n",
    "\n",
    "                            img_filename = Path(f\"D:\\images\\_bluesky\\{product_id}.jpeg\")\n",
    "\n",
    "                            with open(img_filename, 'wb') as f:\n",
    "                                f.write(imgdata)\n",
    "                                f.close\n",
    "                        except:\n",
    "                            print(f\"Image {product_id} has error. Except\")\n",
    "                            print(f\"{folder_image}\\{file}\")\n",
    "                            update_image(product_id, \"no_image\")\n",
    "                    else:\n",
    "                        print(f\"Product {product_id} has no image\")\n",
    "                        update_image(product_id, \"no_image\")"
   ]
  },
  {
   "cell_type": "code",
   "execution_count": null,
   "id": "892f2181",
   "metadata": {},
   "outputs": [],
   "source": []
  }
 ],
 "metadata": {
  "kernelspec": {
   "display_name": "Python 3.7 (tensorflow)",
   "language": "python",
   "name": "tensorflow"
  },
  "language_info": {
   "codemirror_mode": {
    "name": "ipython",
    "version": 3
   },
   "file_extension": ".py",
   "mimetype": "text/x-python",
   "name": "python",
   "nbconvert_exporter": "python",
   "pygments_lexer": "ipython3",
   "version": "3.6.13"
  }
 },
 "nbformat": 4,
 "nbformat_minor": 5
}

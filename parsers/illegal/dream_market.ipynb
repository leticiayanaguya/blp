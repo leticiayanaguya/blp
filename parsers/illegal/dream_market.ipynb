{
 "cells": [
  {
   "cell_type": "code",
   "execution_count": null,
   "metadata": {},
   "outputs": [],
   "source": [
    "%run ../commons/imports.ipynb\n",
    "%run ../commons/helper_db.ipynb\n",
    "%run ../commons/helper_contents.ipynb"
   ]
  },
  {
   "cell_type": "code",
   "execution_count": null,
   "metadata": {},
   "outputs": [],
   "source": [
    "MAIN_FOLDER = main_folder(\"dreammarket\")\n",
    "\n",
    "create_database('blp_dataset')\n",
    "create_table('products_tmp')"
   ]
  },
  {
   "cell_type": "code",
   "execution_count": null,
   "metadata": {
    "scrolled": false
   },
   "outputs": [],
   "source": [
    "original_images = [] # images ok (I wish there were more of these (╥_╥) )\n",
    "\n",
    "folders = [x for x in Path(MAIN_FOLDER).iterdir() if x.is_dir()]\n",
    "\n",
    "for fo in folders:\n",
    "    folder = Path(f\"{fo}\\market\")\n",
    "\n",
    "    for file in os.listdir(folder):\n",
    "        if \"viewProduct_offer\" in file:\n",
    "            # get text content\n",
    "            page_content = BeautifulSoup(open(Path(f\"{folder}\\{file}\")).read())\n",
    "\n",
    "            ## GET DESCRIPTION\n",
    "            description = \"\"\n",
    "            # remove html content, whitespaces and line breaks\n",
    "            raw_desc = page_content.find(\"div\", attrs={\"id\": \"offerDescription\"})\n",
    "\n",
    "            if raw_desc is not None:\n",
    "                raw_description = get_content(raw_desc)\n",
    "\n",
    "            ## GET TITLE\n",
    "            title = \"\"\n",
    "            raw_title = page_content.find(\"div\", attrs={\"class\": \"title\"})\n",
    "\n",
    "            if raw_title is not None:\n",
    "                title = get_content(raw_title)\n",
    " \n",
    "            ## GET PRICE\n",
    "            price = \"\"\n",
    "            price_text = page_content.find(text=\"Price\")\n",
    "            \n",
    "            if price_text is not None:\n",
    "                price_father = price_text.parent\n",
    "\n",
    "                if price_father is not None:\n",
    "                    price_content = price_father.parent\n",
    "\n",
    "                    if price_content is not None:\n",
    "                        raw_price = price_content.find(\"div\")\n",
    "                        \n",
    "                        if raw_price is not None:\n",
    "                            price = get_content(raw_price)\n",
    "\n",
    "            if description != \"\" or title != \"\":\n",
    "                # Insert product into database\n",
    "                query = \"INSERT INTO products_tmp (name, description, price, market_name, illegal) VALUES (%s, %s, %s, %s, %s)\"\n",
    "                values = (title, description, price, \"Dream Market\", \"t\")\n",
    "\n",
    "                cursor.execute(query, values)\n",
    "                conn.commit()\n",
    "\n",
    "                product_id = cursor.lastrowid\n",
    "\n",
    "                ## GET IMAGE\n",
    "                raw_name = page_content.find(\"img\", attrs={\"class\": \"productImage\"})['src']\n",
    "\n",
    "                if raw_name == \"img/no-image.png\":\n",
    "                    query = \"UPDATE products_tmp SET has_image = %s WHERE id = %s\"\n",
    "                    cursor.execute(query, (\"no_image\", product_id))\n",
    "                    conn.commit()\n",
    "                else:\n",
    "                    if raw_name in original_images:\n",
    "                        query = \"UPDATE products_tmp SET has_image = %s WHERE id = %s\"\n",
    "                        cursor.execute(query, (\"repeated\", product_id))\n",
    "                        conn.commit()\n",
    "                    else:\n",
    "                        original_images.append(raw_name)\n",
    "\n",
    "                        image_name = re.sub('[?]', '_', raw_name)\n",
    "                        url_image = Path(f\"{folder}\\{image_name}\")\n",
    "\n",
    "                        # copy images to new directory, renaming with product id\n",
    "                        if url_image.exists():\n",
    "                            dst_dir = Path(f\"D:\\images\\dream_market\\{product_id}.jpg\")\n",
    "                            copyfile(url_image, dst_dir)\n",
    "                        else:\n",
    "                            query = \"UPDATE products_tmp SET has_image = %s WHERE id = %s\"\n",
    "                            cursor.execute(query, (\"no_image\", product_id))\n",
    "                            conn.commit()"
   ]
  },
  {
   "cell_type": "code",
   "execution_count": null,
   "metadata": {},
   "outputs": [],
   "source": []
  }
 ],
 "metadata": {
  "kernelspec": {
   "display_name": "Python 3.7 (tensorflow)",
   "language": "python",
   "name": "tensorflow"
  },
  "language_info": {
   "codemirror_mode": {
    "name": "ipython",
    "version": 3
   },
   "file_extension": ".py",
   "mimetype": "text/x-python",
   "name": "python",
   "nbconvert_exporter": "python",
   "pygments_lexer": "ipython3",
   "version": "3.6.13"
  }
 },
 "nbformat": 4,
 "nbformat_minor": 4
}

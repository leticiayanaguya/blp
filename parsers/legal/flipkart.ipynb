{
 "cells": [
  {
   "cell_type": "code",
   "execution_count": null,
   "id": "d78cf7a4",
   "metadata": {},
   "outputs": [],
   "source": [
    "%run ../commons/imports_legal.ipynb\n",
    "%run ../commons/helper_db.ipynb\n",
    "%run ../commons/helper_contents.ipynb"
   ]
  },
  {
   "cell_type": "code",
   "execution_count": null,
   "id": "8f1a7c78",
   "metadata": {},
   "outputs": [],
   "source": [
    "create_database('blp_dataset')\n",
    "create_table('products_tmp')\n",
    "\n",
    "# == Files config ==\n",
    "FILE_FOLDER = r\"D:\\legal_data\\flipkart_com-ecommerce_sample.csv\"\n",
    "fdata=pd.read_csv(Path(FILE_FOLDER))\n",
    "IMG_FOLDER_DEST = r\"D:\\images\\flipkart\""
   ]
  },
  {
   "cell_type": "code",
   "execution_count": null,
   "id": "3733f3f3",
   "metadata": {},
   "outputs": [],
   "source": [
    "fdata.columns"
   ]
  },
  {
   "cell_type": "code",
   "execution_count": null,
   "id": "70bdd4ac",
   "metadata": {},
   "outputs": [],
   "source": [
    "# Deleting unwanted columns\n",
    "del_list = ['uniq_id', 'crawl_timestamp', 'product_category_tree', 'pid', 'discounted_price', \n",
    "            'is_FK_Advantage_product', 'overall_rating', 'product_specifications']\n",
    "\n",
    "fdata = fdata.drop(del_list, axis = 1)"
   ]
  },
  {
   "cell_type": "code",
   "execution_count": null,
   "id": "d6ae75d9",
   "metadata": {},
   "outputs": [],
   "source": [
    "def insert_product(row):\n",
    "    query = \"INSERT INTO products_tmp (name, description, market_name, seller_name, illegal) VALUES (%s, %s, %s, %s, %s)\"\n",
    "    values = (row['product_name'], row['description'], \"Flipkart\", row['brand'], \"f\")\n",
    "\n",
    "    cursor.execute(query, values)\n",
    "    conn.commit()\n",
    "\n",
    "    return cursor.lastrowid"
   ]
  },
  {
   "cell_type": "code",
   "execution_count": null,
   "id": "8f140ef8",
   "metadata": {},
   "outputs": [],
   "source": [
    "def update_image(product_id, value):\n",
    "    query = \"UPDATE products_tmp SET has_image = %s WHERE id = %s\"\n",
    "    cursor.execute(query, (value, product_id))\n",
    "    conn.commit()"
   ]
  },
  {
   "cell_type": "code",
   "execution_count": null,
   "id": "9fb0a892",
   "metadata": {},
   "outputs": [],
   "source": [
    "def get_ext(url):\n",
    "    filename, file_extension = os.path.splitext(url)\n",
    "    \n",
    "    return file_extension"
   ]
  },
  {
   "cell_type": "code",
   "execution_count": null,
   "id": "b8994401",
   "metadata": {},
   "outputs": [],
   "source": [
    "for index, row in fdata.iterrows():\n",
    "    img_list = row['image']\n",
    "    \n",
    "    if row['product_name'] == \"NaN\" or type(row['product_name']) is not str: row['product_name'] = \"\"\n",
    "    if row['description'] == \"NaN\" or type(row['description']) is not str: row['description'] = \"\"\n",
    "    if row['brand'] == \"NaN\" or type(row['brand']) is not str: row['brand'] = \"\"\n",
    "        \n",
    "    if row['product_name'] is not \"\" and row['description'] is not \"\":\n",
    "        # Insert product into database\n",
    "        product_id = insert_product(row)\n",
    "\n",
    "        if img_list and img_list is not None and type(row['product_name']) is str:\n",
    "            try:\n",
    "                img_list = img_list.strip('][').split(', ')        \n",
    "                img_index = 0\n",
    "\n",
    "                for img in img_list:\n",
    "                    try:\n",
    "                        update_image(product_id, \"no_image\")\n",
    "                        img = img.strip('\\'\"')\n",
    "                        folder_dest = Path(f\"{IMG_FOLDER_DEST}\\{product_id}{get_ext(img)}\")\n",
    "\n",
    "                        if img_index > 0:\n",
    "                            folder_dest = Path(f\"{IMG_FOLDER_DEST}\\{product_id}_{img_index}{get_ext(img)}\")\n",
    "\n",
    "                        try:\n",
    "                            file = urllib.request.urlretrieve(img, folder_dest)\n",
    "                            img_index = img_index + 1\n",
    "                        except:\n",
    "                            print(f\"Product {product_id}: Error retrieving image ({img})\")\n",
    "\n",
    "                        if img_index == 0 : update_image(product_id, \"no_image\")\n",
    "                    except:\n",
    "                        print(\"First float problem\")\n",
    "                        print(img)\n",
    "            except:\n",
    "                print(\"Float problem\")\n",
    "                print(img)\n",
    "\n",
    "                update_image(product_id, \"no_image\")"
   ]
  }
 ],
 "metadata": {
  "kernelspec": {
   "display_name": "Python 3.7 (tensorflow)",
   "language": "python",
   "name": "tensorflow"
  },
  "language_info": {
   "codemirror_mode": {
    "name": "ipython",
    "version": 3
   },
   "file_extension": ".py",
   "mimetype": "text/x-python",
   "name": "python",
   "nbconvert_exporter": "python",
   "pygments_lexer": "ipython3",
   "version": "3.6.13"
  }
 },
 "nbformat": 4,
 "nbformat_minor": 5
}

{
 "cells": [
  {
   "cell_type": "code",
   "execution_count": null,
   "id": "d5571330",
   "metadata": {},
   "outputs": [],
   "source": [
    "%run ../commons/imports_cleaner.ipynb"
   ]
  },
  {
   "cell_type": "code",
   "execution_count": null,
   "id": "ec400a7c",
   "metadata": {},
   "outputs": [],
   "source": [
    "folder = Path(r\"D:\\images\\dream_market\")\n",
    "duplicated_ones = []"
   ]
  },
  {
   "cell_type": "markdown",
   "id": "c87b6c8b",
   "metadata": {},
   "source": [
    "### Average hashing\n",
    "Average hashing is the simplest algorithm which uses only a few transformation.\n",
    "Scale the image, convert to greyscale, calculate the mean and binarize the greyscale based on the mean.\n",
    "Now convert the binary image into the integer."
   ]
  },
  {
   "cell_type": "code",
   "execution_count": null,
   "id": "a3cda1a6",
   "metadata": {},
   "outputs": [],
   "source": [
    "average = []\n",
    "a_img_hashes = {}\n",
    "error_files = []\n",
    "duplicated_ones = []\n",
    "\n",
    "for image in os.listdir(folder):\n",
    "    image_path = Path(f\"{folder}\\{image}\")\n",
    "    \n",
    "    try:\n",
    "        hash = imagehash.average_hash(Image.open(image_path))\n",
    "\n",
    "        if hash in a_img_hashes:\n",
    "             duplicated_ones.append(str(image))\n",
    "#             average.append('{} duplicate of {}'.format(image, a_img_hashes[hash]))\n",
    "             os.remove(image_path)\n",
    "        else:\n",
    "            a_img_hashes[hash] = image\n",
    "    except:\n",
    "        error_files.append(image)"
   ]
  },
  {
   "cell_type": "code",
   "execution_count": null,
   "id": "57585e80",
   "metadata": {},
   "outputs": [],
   "source": [
    "print(duplicated_ones)"
   ]
  },
  {
   "cell_type": "markdown",
   "id": "b320328d",
   "metadata": {},
   "source": [
    "### P-Hash\n",
    "Perceptual hash uses similar approach but instead of averaging relies on discrete cosine transformation."
   ]
  },
  {
   "cell_type": "code",
   "execution_count": null,
   "id": "ee4ed9ea",
   "metadata": {},
   "outputs": [],
   "source": [
    "phash = []\n",
    "p_img_hashes = {}\n",
    "error_files = []\n",
    "\n",
    "for image in os.listdir(folder):\n",
    "    image_path = Path(f\"{folder}\\{image}\")\n",
    "    \n",
    "    try:\n",
    "        hash = imagehash.phash(Image.open(image_path))\n",
    "\n",
    "        if hash in p_img_hashes:\n",
    "            phash.append('{} duplicate of {}'.format(image, p_img_hashes[hash]))\n",
    "    #         os.remove(image_path)\n",
    "        else:\n",
    "            p_img_hashes[hash] = image\n",
    "    except:\n",
    "        error_files.append(image)"
   ]
  },
  {
   "cell_type": "code",
   "execution_count": null,
   "id": "071a7426",
   "metadata": {},
   "outputs": [],
   "source": [
    "print(len(p_img_hashes))"
   ]
  },
  {
   "cell_type": "markdown",
   "id": "76b456ea",
   "metadata": {},
   "source": [
    "### D-Hash\n",
    " Difference hash uses the same approach as a-hash, but instead of using information about average values, it uses gradients (difference between adjacent pixels)."
   ]
  },
  {
   "cell_type": "code",
   "execution_count": null,
   "id": "a6382008",
   "metadata": {},
   "outputs": [],
   "source": [
    "dhash = []\n",
    "d_img_hashes = {}\n",
    "error_files = []\n",
    "\n",
    "for image in os.listdir(folder):\n",
    "    image_path = Path(f\"{folder}\\{image}\")\n",
    "    \n",
    "    try:\n",
    "        hash = imagehash.dhash(Image.open(image_path))\n",
    "\n",
    "        if hash in d_img_hashes:\n",
    "    #         duplicated_ones.append(str(image))\n",
    "            dhash.append('{} duplicate of {}'.format(image, d_img_hashes[hash]))\n",
    "    #         os.remove(image_path)\n",
    "        else:\n",
    "            d_img_hashes[hash] = image\n",
    "    except:\n",
    "        error_files.append(image)"
   ]
  },
  {
   "cell_type": "code",
   "execution_count": null,
   "id": "2bc4341e",
   "metadata": {},
   "outputs": [],
   "source": [
    "print(len(d_img_hashes))"
   ]
  },
  {
   "cell_type": "markdown",
   "id": "2906d07e",
   "metadata": {},
   "source": [
    "### Wavelet hashing\n",
    "Discrete Wavelet Transformation (DWT) is another form of frequency representation."
   ]
  },
  {
   "cell_type": "code",
   "execution_count": null,
   "id": "6f7bb91f",
   "metadata": {},
   "outputs": [],
   "source": [
    "colorhash = []\n",
    "color_img_hashes = {}\n",
    "error_files = []\n",
    "\n",
    "for image in os.listdir(folder):\n",
    "    image_path = Path(f\"{folder}\\{image}\")\n",
    "    \n",
    "    try:\n",
    "        hash = imagehash.colorhash(Image.open(image_path))\n",
    "\n",
    "        if hash in color_img_hashes:\n",
    "    #         duplicated_ones.append(str(image))\n",
    "            colorhash.append('{} duplicate of {}'.format(image, color_img_hashes[hash]))\n",
    "    #         os.remove(image_path)\n",
    "        else:\n",
    "            color_img_hashes[hash] = image\n",
    "    except:\n",
    "        error_files.append(image)"
   ]
  },
  {
   "cell_type": "code",
   "execution_count": null,
   "id": "264aeafc",
   "metadata": {},
   "outputs": [],
   "source": [
    "print(len(color_img_hashes))"
   ]
  },
  {
   "cell_type": "markdown",
   "id": "ede87e48",
   "metadata": {},
   "source": [
    "## Comparison between image hashing techniques"
   ]
  },
  {
   "cell_type": "code",
   "execution_count": null,
   "id": "c2839377",
   "metadata": {},
   "outputs": [],
   "source": [
    "print(f\"Number of repeated images\")\n",
    "print(f\"Average Hashing: {len(average)}\")\n",
    "print(f\"P-Hash: {len(phash)}\")\n",
    "print(f\"D-Hash: {len(dhash)}\")\n",
    "print(f\"Wavelet Hashing: {len(colorhash)}\")"
   ]
  },
  {
   "cell_type": "code",
   "execution_count": null,
   "id": "9f6ecc36",
   "metadata": {
    "scrolled": false
   },
   "outputs": [],
   "source": [
    "list(set(average) - set(dhash))\n",
    "# list(set(dhash) - set(average))\n",
    "# list(set(colorhash) - set(average))\n",
    "\n",
    "# list(set(phash) - set(dhash))\n",
    "# list(set(phash) - set(colorhash))\n",
    "\n",
    "# list(set(dhash) - set(colorhash))\n",
    "\n",
    "for i in dhash:\n",
    "    print(i)"
   ]
  }
 ],
 "metadata": {
  "kernelspec": {
   "display_name": "Python 3",
   "language": "python",
   "name": "python3"
  },
  "language_info": {
   "codemirror_mode": {
    "name": "ipython",
    "version": 3
   },
   "file_extension": ".py",
   "mimetype": "text/x-python",
   "name": "python",
   "nbconvert_exporter": "python",
   "pygments_lexer": "ipython3",
   "version": "3.6.13"
  }
 },
 "nbformat": 4,
 "nbformat_minor": 5
}

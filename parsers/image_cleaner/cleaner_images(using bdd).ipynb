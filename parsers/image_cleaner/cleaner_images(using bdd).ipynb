{
 "cells": [
  {
   "cell_type": "code",
   "execution_count": null,
   "id": "d2e88696",
   "metadata": {},
   "outputs": [],
   "source": [
    "%run ../commons/imports_cleaner.ipynb\n",
    "%run ../commons/helper_db.ipynb"
   ]
  },
  {
   "cell_type": "code",
   "execution_count": null,
   "id": "b3a270d5",
   "metadata": {},
   "outputs": [],
   "source": [
    "create_database('blp_dataset')"
   ]
  },
  {
   "cell_type": "code",
   "execution_count": null,
   "id": "6c89242c",
   "metadata": {},
   "outputs": [],
   "source": [
    "table_schema = (\n",
    "    \"CREATE TABLE IF NOT EXISTS image_hashes (\"\n",
    "    \"  file TEXT NOT NULL,\"\n",
    "    \"  hash_file VARCHAR(255) PRIMARY KEY NOT NULL,\"\n",
    "    \"  market VARCHAR(45) NOT NULL DEFAULT 'no'\"\n",
    "    \") ENGINE=InnoDB\")\n",
    "cursor.execute(table_schema)\n",
    "\n",
    "cursor.execute(\"DROP TABLE IF EXISTS repeated_image_hashes\")\n",
    "\n",
    "table_schema = (\n",
    "    \"CREATE TABLE IF NOT EXISTS repeated_image_hashes (\"\n",
    "    \"  file VARCHAR(255) NOT NULL,\"\n",
    "    \"  hash_file TEXT NOT NULL\"\n",
    "    \") ENGINE=InnoDB\")\n",
    "cursor.execute(table_schema)"
   ]
  },
  {
   "cell_type": "code",
   "execution_count": null,
   "id": "d03208d4",
   "metadata": {},
   "outputs": [],
   "source": [
    "## CLEAR REPEATED IMAGES\n",
    "\n",
    "# == Files config ==\n",
    "MAIN_FOLDER = r\"D:\\images\\_myntra\"\n",
    "\n",
    "folder = Path(MAIN_FOLDER)\n",
    "repeated_files = []\n",
    "\n",
    "\n",
    "for image in os.listdir(folder):\n",
    "    image_path = Path(f\"{folder}\\{image}\")\n",
    "\n",
    "    try:\n",
    "        img_hash = imagehash.phash(Image.open(image_path))\n",
    "        image_name = os.path.splitext(image)[0]\n",
    "        \n",
    "        cursor.execute(\"SELECT COUNT(file) FROM image_hashes WHERE hash_file = %s\", (str(img_hash),))\n",
    "        has_hash = cursor.fetchone()\n",
    "\n",
    "        if has_hash[0] == 0:\n",
    "            query = \"INSERT INTO image_hashes (file, hash_file, market) VALUES (%s, %s, %s)\"\n",
    "            values = (image_name, str(img_hash), \"nucleus\")\n",
    "\n",
    "            cursor.execute(query, values)\n",
    "            conn.commit()\n",
    "        else:\n",
    "            query = \"INSERT INTO repeated_image_hashes (file, hash_file) VALUES (%s, %s)\"\n",
    "            values = (image_name, str(img_hash))\n",
    "\n",
    "            cursor.execute(query, values)\n",
    "            conn.commit()\n",
    "    except:\n",
    "        query = \"INSERT INTO repeated_image_hashes (file, hash_file) VALUES (%s, %s)\"\n",
    "        values = (image_name, image_name)\n",
    "\n",
    "        cursor.execute(query, values)\n",
    "        conn.commit()\n",
    "\n"
   ]
  },
  {
   "cell_type": "code",
   "execution_count": null,
   "id": "8564c5b7",
   "metadata": {},
   "outputs": [],
   "source": [
    "# REMOVE IMAGES IN REPEATED TABLE\n",
    "cursor.execute(\"SELECT * FROM repeated_image_hashes\")\n",
    "repeated = cursor.fetchall()\n",
    "\n",
    "MAIN_FOLDER = r\"D:\\images\\_myntra\"\n",
    "folder = Path(MAIN_FOLDER)\n",
    "\n",
    "for res in repeated:\n",
    "    image_path = Path(f\"{folder}\\{res[0]}.jpeg\")\n",
    "    \n",
    "    try:\n",
    "        os.remove(image_path)\n",
    "    except:\n",
    "        print(image_path)"
   ]
  },
  {
   "cell_type": "code",
   "execution_count": null,
   "id": "0fc6f815",
   "metadata": {},
   "outputs": [],
   "source": [
    "## CLEAR REPEATED IMAGES IN DIFFERENT FOLDERS\n",
    "\n",
    "# == Files config ==\n",
    "MAIN_FOLDER = r\"D:\\images\\_haven\"\n",
    "\n",
    "folder = Path(MAIN_FOLDER)\n",
    "repeated_files = []\n",
    "\n",
    "\n",
    "for image in os.listdir(folder):\n",
    "    image_path = Path(f\"{folder}\\{image}\")\n",
    "\n",
    "\n",
    "    img_hash = imagehash.phash(Image.open(image_path))\n",
    "    image_name = os.path.splitext(image)[0]\n",
    "\n",
    "    cursor.execute(\"SELECT COUNT(file) FROM image_hashes WHERE hash_file = %s\", (str(img_hash),))\n",
    "    has_hash = cursor.fetchone()\n",
    "    \n",
    "    if has_hash[0] == 0:\n",
    "        print(\"Safe\")\n",
    "    else:\n",
    "        query = \"INSERT INTO repeated_image_hashes (file, hash_file) VALUES (%s, %s)\"\n",
    "        values = (image_name, str(img_hash))\n",
    "\n",
    "        cursor.execute(query, values)\n",
    "        conn.commit()"
   ]
  },
  {
   "cell_type": "code",
   "execution_count": null,
   "id": "100d003f",
   "metadata": {},
   "outputs": [],
   "source": [
    "# Get list of numbers in sequence that don't have files\n",
    "\n",
    "count = 0\n",
    "nums = []\n",
    "MAIN_FOLDER = r\"D:\\images\\illegal\"\n",
    "\n",
    "while (len(nums) < 174 or count < 58771):\n",
    "    img = Path(f\"{MAIN_FOLDER}\\{count}.jpeg\")\n",
    "    if not img.exists():\n",
    "        nums.append(count)\n",
    "\n",
    "    count = count + 1\n"
   ]
  },
  {
   "cell_type": "code",
   "execution_count": null,
   "id": "3cb8f610",
   "metadata": {},
   "outputs": [],
   "source": [
    "# Rename images based on list of numbers that don't exist into illegal folder\n",
    "\n",
    "folder = Path(\"D:\\images\\_temp\")\n",
    "folder_tmp = Path(\"D:\\images\\_folder_tmp\")\n",
    "cont = 1\n",
    "\n",
    "for image in os.listdir(folder):\n",
    "    image_path = Path(f\"{folder}\\{image}\")\n",
    "\n",
    "    try:\n",
    "        img = Image.open(image_path).convert('RGB').save(f'{folder_tmp}\\{nums[cont]}.jpeg')\n",
    "        cont = cont + 1\n",
    "    except:\n",
    "        print(image_name)"
   ]
  },
  {
   "cell_type": "code",
   "execution_count": null,
   "id": "8a28bdda",
   "metadata": {},
   "outputs": [],
   "source": [
    "print(nums)"
   ]
  }
 ],
 "metadata": {
  "kernelspec": {
   "display_name": "Python 3.7 (tensorflow)",
   "language": "python",
   "name": "tensorflow"
  },
  "language_info": {
   "codemirror_mode": {
    "name": "ipython",
    "version": 3
   },
   "file_extension": ".py",
   "mimetype": "text/x-python",
   "name": "python",
   "nbconvert_exporter": "python",
   "pygments_lexer": "ipython3",
   "version": "3.6.13"
  }
 },
 "nbformat": 4,
 "nbformat_minor": 5
}

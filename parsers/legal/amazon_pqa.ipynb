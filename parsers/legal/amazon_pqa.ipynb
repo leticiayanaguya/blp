{
 "cells": [
  {
   "cell_type": "code",
   "execution_count": 7,
   "id": "1f42a92c",
   "metadata": {},
   "outputs": [],
   "source": [
    "import json\n",
    "import mysql.connector as mysql\n",
    "import os\n",
    "import re\n",
    "import urllib.request\n",
    "\n",
    "from pathlib import Path\n",
    "from PIL import ImageFile"
   ]
  },
  {
   "cell_type": "code",
   "execution_count": 8,
   "id": "05a36fef",
   "metadata": {},
   "outputs": [],
   "source": [
    "# GENERAL CONFIGS\n",
    "ImageFile.LOAD_TRUNCATED_IMAGES = True\n",
    "\n",
    "# == Database config ==\n",
    "conn = mysql.connect(\n",
    "  host=\"localhost\",\n",
    "  user=\"root\",\n",
    "  password=\"root\"\n",
    ")\n",
    "\n",
    "cursor = conn.cursor()\n",
    "\n",
    "# == Files config ==\n",
    "MAIN_FOLDER = r\"D:\\legal_data\\amazon-pqa\\d_amazon_pqa_accessories.json\"\n",
    "\n",
    "DB_NAME = \"blp_dataset\"\n",
    "TABLE_NAME = \"products_tmp_amazon\""
   ]
  },
  {
   "cell_type": "code",
   "execution_count": 9,
   "id": "20f4fe7d",
   "metadata": {},
   "outputs": [],
   "source": [
    "# Creating environment\n",
    "cursor.execute(\"CREATE DATABASE IF NOT EXISTS {} DEFAULT CHARACTER SET 'utf8'\".format(DB_NAME))\n",
    "cursor.execute(\"USE {}\".format(DB_NAME))\n",
    "\n",
    "cursor.execute(\"DROP TABLE IF EXISTS products_tmp_amazon\")"
   ]
  },
  {
   "cell_type": "code",
   "execution_count": 10,
   "id": "099dea28",
   "metadata": {},
   "outputs": [],
   "source": [
    "table_schema = (\n",
    "    \"CREATE TABLE IF NOT EXISTS products_tmp_amazon (\"\n",
    "    \"  id INT(11) AUTO_INCREMENT PRIMARY KEY NOT NULL,\"\n",
    "    \"  name TEXT NOT NULL,\"\n",
    "    \"  description TEXT,\"\n",
    "    \"  market_name VARCHAR(255),\"\n",
    "    \"  seller_name TEXT,\"\n",
    "    \"  illegal ENUM('t', 'f') NOT NULL DEFAULT 't'\"\n",
    "    \") ENGINE=InnoDB\")\n",
    "\n",
    "cursor.execute(table_schema)"
   ]
  },
  {
   "cell_type": "code",
   "execution_count": 11,
   "id": "e065bb9b",
   "metadata": {},
   "outputs": [],
   "source": [
    "def clear_text(text):\n",
    "    clear_content = re.sub(r'[\\t\\r\\n]', ' ', text)\n",
    "    clear_content = re.sub(' +',' ', clear_content).lstrip()\n",
    "    \n",
    "    return clear_content"
   ]
  },
  {
   "cell_type": "code",
   "execution_count": 12,
   "id": "aa2f0f44",
   "metadata": {
    "scrolled": true
   },
   "outputs": [],
   "source": [
    "folder = Path(f\"{MAIN_FOLDER}\")\n",
    "\n",
    "# for file in  os.listdir(folder):\n",
    "#     file_path = Path(f\"{MAIN_FOLDER}\\{file}\")\n",
    "#     print(file_path)\n",
    "    \n",
    "for line in open(folder, 'r'):\n",
    "    data = json.loads(line)\n",
    "\n",
    "    description = clear_text(data['product_description'])\n",
    "    name = clear_text(data['item_name'])\n",
    "\n",
    "    query = \"INSERT INTO products_tmp_amazon (name, description, market_name, illegal) VALUES (%s, %s, %s, %s)\"\n",
    "    values = (name, description, \"Amazon (PQA)\", \"f\")\n",
    "\n",
    "    cursor.execute(query, values)\n",
    "    conn.commit()\n"
   ]
  },
  {
   "cell_type": "code",
   "execution_count": null,
   "id": "7a7f0514",
   "metadata": {},
   "outputs": [],
   "source": []
  }
 ],
 "metadata": {
  "kernelspec": {
   "display_name": "Python 3.7 (tensorflow)",
   "language": "python",
   "name": "tensorflow"
  },
  "language_info": {
   "codemirror_mode": {
    "name": "ipython",
    "version": 3
   },
   "file_extension": ".py",
   "mimetype": "text/x-python",
   "name": "python",
   "nbconvert_exporter": "python",
   "pygments_lexer": "ipython3",
   "version": "3.6.13"
  }
 },
 "nbformat": 4,
 "nbformat_minor": 5
}
